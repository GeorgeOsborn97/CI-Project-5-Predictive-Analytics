{
 "cells": [
  {
   "attachments": {},
   "cell_type": "markdown",
   "metadata": {},
   "source": [
    "# Feature Engineering"
   ]
  },
  {
   "attachments": {},
   "cell_type": "markdown",
   "metadata": {},
   "source": [
    "### Objectives\n",
    "\n",
    "1. Load in the cleaned dataset for preporation of feature engineering.\n",
    "2. Review pandas profile report on the cleaned train set to evaluate potential engineering steps.\n",
    "3. Define the FeatureEngineeringAnalysis function demonstrated in prior lessons based on Feature engineering.\n",
    "4. Utilise different feature engineering methods that suit the data type.\n",
    "5. Use the FeatureEngineeringAnalysis function to help define optimum feature engineering steps for a pipeline."
   ]
  },
  {
   "attachments": {},
   "cell_type": "markdown",
   "metadata": {},
   "source": [
    "### Inputs\n",
    "\n",
    "* outputs/datasets/cleaned/TrainSets\n",
    "* outputs/datasets/cleaned/TestSets"
   ]
  },
  {
   "attachments": {},
   "cell_type": "markdown",
   "metadata": {},
   "source": [
    "### Outputs\n",
    "\n",
    "* A pipeline with defined feature engineering steps. "
   ]
  },
  {
   "attachments": {},
   "cell_type": "markdown",
   "metadata": {},
   "source": [
    "### Additional Comments"
   ]
  },
  {
   "attachments": {},
   "cell_type": "markdown",
   "metadata": {},
   "source": [
    "* This notebook was designed and follows the principles set out by Code Institute in the Predictive Analytics lessons and Walkthrough projects. The code written in this work book has taken influence from these lessons and projects but has been modiefied, in some cases such as the graphical design, heavily modified by myself in order to suit the needs for this project."
   ]
  },
  {
   "attachments": {},
   "cell_type": "markdown",
   "metadata": {},
   "source": [
    "___"
   ]
  },
  {
   "attachments": {},
   "cell_type": "markdown",
   "metadata": {},
   "source": [
    "## Change working Directory"
   ]
  },
  {
   "attachments": {},
   "cell_type": "markdown",
   "metadata": {},
   "source": [
    "* We access the current directory with os.getcwd()"
   ]
  },
  {
   "cell_type": "code",
   "execution_count": null,
   "metadata": {},
   "outputs": [],
   "source": [
    "import os\n",
    "current_dir = os.getcwd()\n",
    "current_dir"
   ]
  },
  {
   "attachments": {},
   "cell_type": "markdown",
   "metadata": {},
   "source": [
    "\n",
    "We want to make the parent of the current directory the new current directory\n",
    "\n",
    "* os.path.dirname() gets the parent directory\n",
    "* os.chir() defines the new current directory"
   ]
  },
  {
   "cell_type": "code",
   "execution_count": null,
   "metadata": {},
   "outputs": [],
   "source": [
    "os.chdir(os.path.dirname(current_dir))\n",
    "print(\"You set a new current directory\")"
   ]
  },
  {
   "attachments": {},
   "cell_type": "markdown",
   "metadata": {},
   "source": [
    "Confirm the new current directory"
   ]
  },
  {
   "cell_type": "code",
   "execution_count": null,
   "metadata": {},
   "outputs": [],
   "source": [
    "current_dir = os.getcwd()\n",
    "current_dir"
   ]
  },
  {
   "attachments": {},
   "cell_type": "markdown",
   "metadata": {},
   "source": [
    "## Load Cleaned Data and Import Necessary Packages"
   ]
  },
  {
   "attachments": {},
   "cell_type": "markdown",
   "metadata": {},
   "source": [
    "* Firstly load both datasets and import all neccesery packages. "
   ]
  },
  {
   "cell_type": "code",
   "execution_count": null,
   "metadata": {},
   "outputs": [],
   "source": [
    "import numpy as np\n",
    "import pandas as pd\n",
    "pd.options.display.max_columns = None\n",
    "from pandas_profiling import ProfileReport\n",
    "from sklearn.pipeline import Pipeline\n",
    "from feature_engine import transformation as vt\n",
    "from feature_engine.outliers import Winsorizer\n",
    "from feature_engine.encoding import OrdinalEncoder\n",
    "from feature_engine.selection import SmartCorrelatedSelection\n",
    "import scipy.stats as stats\n",
    "import matplotlib.pyplot as plt\n",
    "import seaborn as sns\n",
    "import warnings"
   ]
  },
  {
   "cell_type": "code",
   "execution_count": null,
   "metadata": {},
   "outputs": [],
   "source": [
    "TrainSet = (pd.read_csv(\"outputs/datasets/cleaned/TrainSet.csv\"))\n",
    "TrainSet.head()"
   ]
  },
  {
   "cell_type": "code",
   "execution_count": null,
   "metadata": {},
   "outputs": [],
   "source": [
    "TestSet = (pd.read_csv(\"outputs/datasets/cleaned/TestSet.csv\"))\n",
    "TestSet.head()"
   ]
  },
  {
   "attachments": {},
   "cell_type": "markdown",
   "metadata": {},
   "source": [
    "___"
   ]
  },
  {
   "attachments": {},
   "cell_type": "markdown",
   "metadata": {},
   "source": [
    "### Data Exploration"
   ]
  },
  {
   "attachments": {},
   "cell_type": "markdown",
   "metadata": {},
   "source": [
    "We will load the pandas profile report against the train set."
   ]
  },
  {
   "cell_type": "code",
   "execution_count": null,
   "metadata": {},
   "outputs": [],
   "source": [
    "pandas_report = ProfileReport(df=TrainSet, minimal=True)\n",
    "pandas_report.to_notebook_iframe()"
   ]
  },
  {
   "attachments": {},
   "cell_type": "markdown",
   "metadata": {},
   "source": [
    "___"
   ]
  },
  {
   "attachments": {},
   "cell_type": "markdown",
   "metadata": {},
   "source": [
    "### Feature Engineering"
   ]
  },
  {
   "attachments": {},
   "cell_type": "markdown",
   "metadata": {},
   "source": [
    "* We will use the function defined in the Code Institute Feature Engineering Lessons to help in the Feature Engineering process.\n",
    "* You can see the Function below."
   ]
  },
  {
   "cell_type": "code",
   "execution_count": null,
   "metadata": {},
   "outputs": [],
   "source": [
    "sns.set(style=\"whitegrid\")\n",
    "warnings.filterwarnings('ignore')\n",
    "%matplotlib inline\n",
    "\n",
    "\n",
    "def FeatureEngineeringAnalysis(df,analysis_type=None):\n",
    "\n",
    "\n",
    "  \"\"\"\n",
    "  - used for quick feature engineering on numerical and categorical variables\n",
    "  to decide which transformation can better transform the distribution shape \n",
    "  - Once transformed, use a reporting tool, like pandas-profiling, to evaluate distributions\n",
    "\n",
    "  \"\"\"\n",
    "  check_missing_values(df)\n",
    "  allowed_types= ['numerical', 'ordinal_encoder',  'outlier_winsorizer']\n",
    "  check_user_entry_on_analysis_type(analysis_type, allowed_types)\n",
    "  list_column_transformers = define_list_column_transformers(analysis_type)\n",
    "  \n",
    "  \n",
    "  # Loop over each variable and engineer the data according to the analysis type\n",
    "  df_feat_eng = pd.DataFrame([])\n",
    "  for column in df.columns:\n",
    "    # create additional columns (column_method) to apply the methods\n",
    "    df_feat_eng = pd.concat([df_feat_eng, df[column]], axis=1)\n",
    "    for method in list_column_transformers:\n",
    "      df_feat_eng[f\"{column}_{method}\"] = df[column]\n",
    "      \n",
    "    # Apply transformers in respectives column_transformers\n",
    "    df_feat_eng, list_applied_transformers = apply_transformers(analysis_type, df_feat_eng, column)\n",
    "\n",
    "    # For each variable, assess how the transformations perform\n",
    "    transformer_evaluation(column, list_applied_transformers, analysis_type, df_feat_eng)\n",
    "\n",
    "  return df_feat_eng\n",
    "\n",
    "\n",
    "def check_user_entry_on_analysis_type(analysis_type, allowed_types):\n",
    "  ### Check analyis type\n",
    "  if analysis_type == None:\n",
    "    raise SystemExit(f\"You should pass analysis_type parameter as one of the following options: {allowed_types}\")\n",
    "  if analysis_type not in allowed_types:\n",
    "      raise SystemExit(f\"analysis_type argument should be one of these options: {allowed_types}\")\n",
    "\n",
    "def check_missing_values(df):\n",
    "  if df.isna().sum().sum() != 0:\n",
    "    raise SystemExit(\n",
    "        f\"There is missing values in your dataset. Please handle that before getting into feature engineering.\")\n",
    "\n",
    "\n",
    "\n",
    "def define_list_column_transformers(analysis_type):\n",
    "  ### Set suffix colummns acording to analysis_type\n",
    "  if analysis_type=='numerical':\n",
    "    list_column_transformers = [\"log_e\",\"log_10\",\"reciprocal\", \"power\",\"box_cox\",\"yeo_johnson\"]\n",
    "  \n",
    "  elif analysis_type=='ordinal_encoder':\n",
    "    list_column_transformers = [\"ordinal_encoder\"]\n",
    "\n",
    "  elif analysis_type=='outlier_winsorizer':\n",
    "    list_column_transformers = ['iqr']\n",
    "\n",
    "  return list_column_transformers\n",
    "\n",
    "\n",
    "\n",
    "def apply_transformers(analysis_type, df_feat_eng, column):\n",
    "\n",
    "\n",
    "  for col in df_feat_eng.select_dtypes(include='category').columns:\n",
    "    df_feat_eng[col] = df_feat_eng[col].astype('object')\n",
    "\n",
    "\n",
    "  if analysis_type=='numerical':\n",
    "    df_feat_eng,list_applied_transformers = FeatEngineering_Numerical(df_feat_eng,column)\n",
    "  \n",
    "  elif analysis_type=='outlier_winsorizer':\n",
    "    df_feat_eng,list_applied_transformers = FeatEngineering_OutlierWinsorizer(df_feat_eng,column)\n",
    "\n",
    "  elif analysis_type=='ordinal_encoder':\n",
    "    df_feat_eng,list_applied_transformers = FeatEngineering_CategoricalEncoder(df_feat_eng,column)\n",
    "\n",
    "  return df_feat_eng,list_applied_transformers\n",
    "\n",
    "\n",
    "\n",
    "def transformer_evaluation(column, list_applied_transformers, analysis_type, df_feat_eng):\n",
    "  # For each variable, assess how the transformations perform\n",
    "  print(f\"* Variable Analyzed: {column}\")\n",
    "  print(f\"* Applied transformation: {list_applied_transformers} \\n\")\n",
    "  for col in [column] + list_applied_transformers:\n",
    "    \n",
    "    if analysis_type!='ordinal_encoder':\n",
    "      DiagnosticPlots_Numerical(df_feat_eng, col)\n",
    "    \n",
    "    else:\n",
    "      if col == column: \n",
    "        DiagnosticPlots_Categories(df_feat_eng, col)\n",
    "      else:\n",
    "        DiagnosticPlots_Numerical(df_feat_eng, col)\n",
    "\n",
    "    print(\"\\n\")\n",
    "\n",
    "\n",
    "\n",
    "def DiagnosticPlots_Categories(df_feat_eng, col):\n",
    "  plt.figure(figsize=(20, 5))\n",
    "  sns.countplot(data=df_feat_eng, x=col,palette=['#432371'],order = df_feat_eng[col].value_counts().index)\n",
    "  plt.xticks(rotation=90) \n",
    "  plt.suptitle(f\"{col}\", fontsize=30,y=1.05)        \n",
    "  plt.show()\n",
    "  print(\"\\n\")\n",
    "\n",
    "\n",
    "\n",
    "def DiagnosticPlots_Numerical(df, variable):\n",
    "  fig, axes = plt.subplots(1, 3, figsize=(20, 6))\n",
    "  sns.histplot(data=df, x=variable, kde=True,element=\"step\",ax=axes[0]) \n",
    "  stats.probplot(df[variable], dist=\"norm\", plot=axes[1])\n",
    "  sns.boxplot(x=df[variable],ax=axes[2])\n",
    "  \n",
    "  axes[0].set_title('Histogram')\n",
    "  axes[1].set_title('QQ Plot')\n",
    "  axes[2].set_title('Boxplot')\n",
    "  fig.suptitle(f\"{variable}\", fontsize=30,y=1.05)\n",
    "  plt.show()\n",
    "\n",
    "\n",
    "def FeatEngineering_CategoricalEncoder(df_feat_eng,column):\n",
    "  list_methods_worked = []\n",
    "  try:  \n",
    "    encoder= OrdinalEncoder(encoding_method='arbitrary', variables = [f\"{column}_ordinal_encoder\"])\n",
    "    df_feat_eng = encoder.fit_transform(df_feat_eng)\n",
    "    list_methods_worked.append(f\"{column}_ordinal_encoder\")\n",
    "  \n",
    "  except: \n",
    "    df_feat_eng.drop([f\"{column}_ordinal_encoder\"],axis=1,inplace=True)\n",
    "    \n",
    "  return df_feat_eng,list_methods_worked\n",
    "\n",
    "\n",
    "def FeatEngineering_OutlierWinsorizer(df_feat_eng,column):\n",
    "  list_methods_worked = []\n",
    "\n",
    "  ### Winsorizer iqr\n",
    "  try: \n",
    "    disc=Winsorizer(\n",
    "        capping_method='iqr', tail='both', fold=1.5, variables = [f\"{column}_iqr\"])\n",
    "    df_feat_eng = disc.fit_transform(df_feat_eng)\n",
    "    list_methods_worked.append(f\"{column}_iqr\")\n",
    "  except: \n",
    "    df_feat_eng.drop([f\"{column}_iqr\"],axis=1,inplace=True)\n",
    "\n",
    "\n",
    "  return df_feat_eng,list_methods_worked\n",
    "\n",
    "\n",
    "\n",
    "\n",
    "def FeatEngineering_Numerical(df_feat_eng,column):\n",
    "\n",
    "  list_methods_worked = []\n",
    "\n",
    "  ### LogTransformer base e\n",
    "  try: \n",
    "    lt = vt.LogTransformer(variables = [f\"{column}_log_e\"])\n",
    "    df_feat_eng = lt.fit_transform(df_feat_eng)\n",
    "    list_methods_worked.append(f\"{column}_log_e\")\n",
    "  except: \n",
    "    df_feat_eng.drop([f\"{column}_log_e\"],axis=1,inplace=True)\n",
    "\n",
    "    ### LogTransformer base 10\n",
    "  try: \n",
    "    lt = vt.LogTransformer(variables = [f\"{column}_log_10\"],base='10')\n",
    "    df_feat_eng = lt.fit_transform(df_feat_eng)\n",
    "    list_methods_worked.append(f\"{column}_log_10\")\n",
    "  except: \n",
    "    df_feat_eng.drop([f\"{column}_log_10\"],axis=1,inplace=True)\n",
    "\n",
    "  ### ReciprocalTransformer\n",
    "  try:\n",
    "    rt = vt.ReciprocalTransformer(variables = [f\"{column}_reciprocal\"])\n",
    "    df_feat_eng =  rt.fit_transform(df_feat_eng)\n",
    "    list_methods_worked.append(f\"{column}_reciprocal\")\n",
    "  except:\n",
    "    df_feat_eng.drop([f\"{column}_reciprocal\"],axis=1,inplace=True)\n",
    "\n",
    "  ### PowerTransformer\n",
    "  try:\n",
    "    pt = vt.PowerTransformer(variables = [f\"{column}_power\"])\n",
    "    df_feat_eng = pt.fit_transform(df_feat_eng)\n",
    "    list_methods_worked.append(f\"{column}_power\")\n",
    "  except:\n",
    "    df_feat_eng.drop([f\"{column}_power\"],axis=1,inplace=True)\n",
    "\n",
    "  ### BoxCoxTransformer\n",
    "  try:\n",
    "    bct = vt.BoxCoxTransformer(variables = [f\"{column}_box_cox\"])\n",
    "    df_feat_eng = bct.fit_transform(df_feat_eng)\n",
    "    list_methods_worked.append(f\"{column}_box_cox\")\n",
    "  except:\n",
    "    df_feat_eng.drop([f\"{column}_box_cox\"],axis=1,inplace=True)\n",
    "\n",
    "\n",
    "  ### YeoJohnsonTransformer\n",
    "  try:\n",
    "    yjt = vt.YeoJohnsonTransformer(variables = [f\"{column}_yeo_johnson\"])\n",
    "    df_feat_eng = yjt.fit_transform(df_feat_eng)\n",
    "    list_methods_worked.append(f\"{column}_yeo_johnson\")\n",
    "  except:\n",
    "        df_feat_eng.drop([f\"{column}_yeo_johnson\"],axis=1,inplace=True)\n",
    "\n",
    "\n",
    "  return df_feat_eng,list_methods_worked"
   ]
  },
  {
   "attachments": {},
   "cell_type": "markdown",
   "metadata": {},
   "source": [
    "___"
   ]
  },
  {
   "attachments": {},
   "cell_type": "markdown",
   "metadata": {},
   "source": [
    "### Transformers to test"
   ]
  },
  {
   "attachments": {},
   "cell_type": "markdown",
   "metadata": {},
   "source": [
    "* The transformers I will use are as follows:\n",
    "    * Categorical Encoding\n",
    "    * Numerical Transformation\n",
    "    * Smart Correlation Selection"
   ]
  },
  {
   "attachments": {},
   "cell_type": "markdown",
   "metadata": {},
   "source": [
    "#### Categorical Encoding"
   ]
  },
  {
   "attachments": {},
   "cell_type": "markdown",
   "metadata": {},
   "source": [
    "* The aim of categorical encoding is to replace the categorical data with numerical data\n",
    "    * The first thing we shall do is split out our categoricl data into a seperate dataframe.\n",
    "    * We shall then assess the effect of using the ordinal_encoder on these variables by utilising the function above."
   ]
  },
  {
   "cell_type": "code",
   "execution_count": null,
   "metadata": {},
   "outputs": [],
   "source": [
    "categorical_variables = list(TrainSet.select_dtypes(['object','category']).columns)\n",
    "df_categorical = TrainSet[categorical_variables].copy()\n",
    "df_categorical.head()"
   ]
  },
  {
   "cell_type": "code",
   "execution_count": null,
   "metadata": {},
   "outputs": [],
   "source": [
    "\n",
    "df_categorical_engineered = FeatureEngineeringAnalysis(df=df_categorical, analysis_type='ordinal_encoder')"
   ]
  },
  {
   "attachments": {},
   "cell_type": "markdown",
   "metadata": {},
   "source": [
    "* Having applied the ordinal encoder to our categorical varibales we can evaluate the effect it has had. The FeatureEngineeringAnalysis function defined above plots 3 graphs that help us make sense of the data and its distribution.\n",
    "* We can then apply the encoder to the train and test sets."
   ]
  },
  {
   "cell_type": "code",
   "execution_count": null,
   "metadata": {},
   "outputs": [],
   "source": [
    "encoder = OrdinalEncoder(encoding_method='arbitrary', variables=categorical_variables)\n",
    "TrainSet = encoder.fit_transform(TrainSet)\n",
    "TestSet = encoder.transform(TestSet)"
   ]
  },
  {
   "attachments": {},
   "cell_type": "markdown",
   "metadata": {},
   "source": [
    "___"
   ]
  },
  {
   "attachments": {},
   "cell_type": "markdown",
   "metadata": {},
   "source": [
    "### Numerical Transformation"
   ]
  },
  {
   "attachments": {},
   "cell_type": "markdown",
   "metadata": {},
   "source": [
    "* The aim of numerical transformation is to improve the distribution with the goal of making the data normally distributed.\n",
    "    * The first thing we shall do is split out our numerical data into a seperate dataframe.\n",
    "    * We shall then assess the effect of using the various different transformers on these variables by utilising the function above."
   ]
  },
  {
   "cell_type": "code",
   "execution_count": null,
   "metadata": {},
   "outputs": [],
   "source": [
    "numerical_variables = list(TrainSet.select_dtypes(['int64','float64']).columns)\n",
    "df_numerical = TrainSet[numerical_variables].copy()\n",
    "df_numerical.head()"
   ]
  },
  {
   "cell_type": "code",
   "execution_count": null,
   "metadata": {},
   "outputs": [],
   "source": [
    "df_numerical_engineered = FeatureEngineeringAnalysis(df=df_numerical, analysis_type='numerical')"
   ]
  },
  {
   "attachments": {},
   "cell_type": "markdown",
   "metadata": {},
   "source": [
    "#### Analysis of results"
   ]
  },
  {
   "attachments": {},
   "cell_type": "markdown",
   "metadata": {},
   "source": [
    "* As we can see the function has provided us with several plots for each variable, showing the effects of different numerical transformations applied to the data. Again our goal here is to identify if any of the transformations produced an improvement in the distribution of the data, with a normal distribution being the optimal result."
   ]
  },
  {
   "attachments": {},
   "cell_type": "markdown",
   "metadata": {},
   "source": [
    "* After an initial look at the results we can see that a different amount of transformers have been applied to different variables.\n",
    "    * 1stFlrSF, GrLivArea, LotArea, LotFrontage, OverallCond, OverallQual, YearBuilt, YearRemodAdd and SalesPrice all had log_e, log_10, reciprocal, power, box_cox and yeo_johnson applied to them, and we can see the effect each had in the plots above.\n",
    "    * 2ndFlrSF, BedroomAbvGr, BsmtExposure, BsmtFinSF1, BsmtFinType1, BsmtUnfSF1, GarageArea, GarageFinish, GarageYrBlt, KitchenQual, MasVnrArea, OpenPorchSF and TotalBsmtSF, only had the power and yeo_johnson transofrmers applied to them.\n",
    "    * We shall have a look at each of the 9 variables that had all transformations applied first, we shall go through each one individually and review the effect each transformer had if any, and conclude what is the best transformer for that variable.\n",
    "    * After that we shall go through the remaining variables that only had power and yeo_johnson applied, drawing up conclusions again based on the best transformer.   "
   ]
  },
  {
   "attachments": {},
   "cell_type": "markdown",
   "metadata": {},
   "source": [
    "___"
   ]
  },
  {
   "attachments": {},
   "cell_type": "markdown",
   "metadata": {},
   "source": [
    "#### 1stFlrSF, GrLivArea, LotArea, LotFrontage, OverallCond, OverallQual, YearBuilt, YearRemodAdd and SalesPrice\n",
    "#### Transformations Applied: log_e, log_10, reciprocal, power, box_cox and yeo_johnson\n",
    "\n",
    "##### 1stFlrSF\n",
    "* Analysis of transformation:\n",
    "    * log_e - Positive shift towards normal distribution.\n",
    "    * log_10 - Positive shift towards normal distribution.\n",
    "    * reciprocal - A small change in the distibution but not enough to warrent any kind of action, no impactful shift towards normal distribution.\n",
    "    * power - Positive shift towards normal distribution but slight skew to the left.\n",
    "    * box_cox - Positive shift towards normal distribution.\n",
    "    * yeo_johnson - Positive shift towards normal distribution.\n",
    "    * Conclusion - Upon inspection Log_e, Log_10, box_cox and yeo_johnson show the most positive results and therefore will be considered.\n",
    "\n",
    "##### GrLivArea\n",
    "* Analysis of transformation:\n",
    "    * log_e - Positive shift left towards normal distribution.\n",
    "    * log_10 - Positive shift left towards normal distribution.\n",
    "    * reciprocal - A large shift to the left away from a normal distribution, not what we are looking for. \n",
    "    * power - Showed no significant change in the distribbution. \n",
    "    * box_cox - A small positive change towards normal distribution.\n",
    "    * yeo_johnson - A small positive change towards normal distribution.\n",
    "    * Conclusion - Log_e and Log_10 showed the most postitive shift towards a normal distribution and will be considered later.\n",
    "\n",
    "##### LotArea\n",
    "* Analysis of transformation:\n",
    "    * log_e - Very positive shift towards a normal distribution.\n",
    "    * log_10 - Very positive shift towards a normal distribution.\n",
    "    * reciprocal - A broader distribution but still heavily skewed to the left. \n",
    "    * power - A broader distribution but still heavily skewed to the left.\n",
    "    * box_cox - Very positive shift towards a normal distribution.\n",
    "    * yeo_johnson - Very positive shift towards a normal distribution.\n",
    "    * Conclusion - Reciprocal and power transformations dont show enough of a positive chnage to be viable, however both log transformations as well as box_cox and yeo_johnson show enough of a positive transformation to be considered.\n",
    "\n",
    "##### LotFrontage\n",
    "* Analysis of transformation:\n",
    "    * log_e - A positive shift towards normal distribution but no noticible improvement across the qq plot.\n",
    "    * log_10 - A positive shift towards normal distribution but no noticible improvement across the qq plot. \n",
    "    * reciprocal - A positive shift towards normal distribution but no noticible improvement across the qq plot. \n",
    "    * power - A positive shift towards normal distribution but no noticible improvement across the qq plot. \n",
    "    * box_cox - A positive shift towards normal distribution but no noticible improvement across the qq plot. \n",
    "    * yeo_johnson - A positive shift towards normal distribution but no noticible improvement across the qq plot.\n",
    "    * Conclusion - All transformations showed a postive shift towards a normal distribution however the qq plot showed a degredation across the board. For this reason none will be carried forward.  \n",
    "\n",
    "##### OverallCond\n",
    "* Analysis of transformation:\n",
    "    * log_e - Distribution skewed over to the right with no trend towards a normal distribution and no positive improvement to the qq plot\n",
    "    * log_10 - Distribution skewed over to the right with no trend towards a normal distribution and no positive improvement to the qq plot\n",
    "    * reciprocal - Distribution skewed over to the left with no trend towards a normal distribution and no positive improvement to the qq plot\n",
    "    * power - Distribution skewed over to the right with no trend towards a normal distribution and no positive improvement to the qq plot\n",
    "    * box_cox - Distribution skewed over to the right with no trend towards a normal distribution and no positive improvement to the qq plot\n",
    "    * yeo_johnson - Distribution skewed over to the right with no trend towards a normal distribution and no positive improvement to the qq plot\n",
    "    * Conclusion - None of the above transformations effected the distribution in any particularly postivae manner and therefore none of them will be taken forward. \n",
    "\n",
    "##### OverallQual\n",
    "* Analysis of transformation:\n",
    "    * log_e - Distribution shifted over to the right but no signficant improvemnt in the distribution\n",
    "    * log_10 - Distribution shifted over to the right but no signficant improvemnt in the distribution\n",
    "    * reciprocal - Distribution heavily shifted over to the left but no signficant improvemnt in the distribution\n",
    "    * power - Very little chnage detected between the distribution produced by this transformation and the original, not enough to be considered a success. \n",
    "    * box_cox - Very little chnage detected between the distribution produced by this transformation and the original, not enough to be considered a success.\n",
    "    * yeo_johnson - Very little chnage detected between the distribution produced by this transformation and the original, not enough to be considered a success.\n",
    "    * Conclusion - Both log transformations skewed to the right whilsts reciprocal skewed to the left, the rest failed to produce any significant change and therefore none will be considered moving forward.\n",
    "\n",
    "##### YearBuilt\n",
    "* Analysis of transformation:\n",
    "    * log_e - This transformation shows no significant change to the distribution prioir to transformation.\n",
    "    * log_10 - This transformation shows no significant change to the distribution prioir to transformation.\n",
    "    * reciprocal - This Transformation has flipped the distribution but shows nothing that can be considered an improvement.\n",
    "    * power - This transformation shows no significant change to the distribution prioir to transformation.\n",
    "    * box_cox - This transformation has exasperated the distribution making it broader but shows nothing that can be considered an improvement. \n",
    "    * yeo_johnson - This transformation has exasperated the distribution making it broader but shows nothing that can be considered an improvement.\n",
    "    * Conclusion - None of the transformations produced anything that could be considered a postive shift, as such none will be considered further.\n",
    "\n",
    "##### YearRemodAdd\n",
    "* Analysis of transformation:\n",
    "    * log_e - This transformation shows no significant change to the distribution prioir to transformation.\n",
    "    * log_10 - This transformation shows no significant change to the distribution prioir to transformation.\n",
    "    * reciprocal -  This Transformation has flipped the distribution but shows nothing that can be considered an improvement.\n",
    "    * power - This transformation shows no significant change to the distribution prioir to transformation. \n",
    "    * box_cox - This transformation shows no significant change to the distribution prioir to transformation.\n",
    "    * yeo_johnson - This transformation shows no significant change to the distribution prioir to transformation.\n",
    "    * Conclusion - None of the above transformations made any kind of impact to the distribution and therefore none will be considered further.\n",
    "\n",
    "##### SalesPrice\n",
    "* Analysis of transformation:\n",
    "    * log_e - Postive trend in all regards, the distribution is heading towards a normal distribution and qq plot shows postive improvement.\n",
    "    * log_10 - Postive trend in all regards, the distribution is heading towards a normal distribution and qq plot shows postive improvement.\n",
    "    * reciprocal - Small improvement across the distribution but not enough to be considered when we compare it to the other transformations \n",
    "    * power - A greater improvement then the reciprocal transformation but again when compared to the rest it is clearly not as much of an improvement.\n",
    "    * box_cox - Postive trend in all regards, the distribution is heading towards a normal distribution and qq plot shows postive improvement.\n",
    "    * yeo_johnson - Postive trend in all regards, the distribution is heading towards a normal distribution and qq plot shows postive improvement.\n",
    "    * Conclusion - Both log transformations, box_cox and yeo_johnson show very positive transformations, reciprocal and power showed positive change but in comparison to the rest it was not a grand improvement. As such the Log, box_cox and yeo_johnson will be considered. \n"
   ]
  },
  {
   "attachments": {},
   "cell_type": "markdown",
   "metadata": {},
   "source": [
    "___"
   ]
  },
  {
   "attachments": {},
   "cell_type": "markdown",
   "metadata": {},
   "source": [
    "#### 2ndFlrSF, BedroomAbvGr, BsmtExposure, BsmtFinSF1, BsmtFinType1, BsmtUnfSF1, GarageArea, GarageFinish, GarageYrBlt, KitchenQual, MasVnrArea, OpenPorchSF and TotalBsmtSF\n",
    "#### Transformations Applied: power and yeo_johnson\n",
    "\n",
    "##### 2ndFlrSF\n",
    "* Analysis of transformation:\n",
    "    * power - No shift towards a normal distribution.  \n",
    "    * yeo_johnson - No shift towards a normal distribution. \n",
    "    * Conclusion - Both transformers had no noticible postitive effect on the distribution and therefore niether will be considered.\n",
    "\n",
    "##### BedroomAbvGr\n",
    "* Analysis of transformation:\n",
    "    * power - Movement away from a normal distribution.\n",
    "    * yeo_johnson - Movement away from a normal distribution.\n",
    "    * Conclusion - Both transformations seemingly negatively impacted the distribution, or atleast provided no improvements therefore niether will be considered.\n",
    "\n",
    "##### BsmtExposure\n",
    "* Analysis of transformation:\n",
    "    * power - shift of the mean towards the center, but overall not following a normal distribution.\n",
    "    * yeo_johnson - shift of the mean towards the center, but overall not following a normal distribution.\n",
    "    * Conclusion - Both transformers show a very similar transformation, the mean shifted but outliers did not move towards a normal distribution. I conclude that this does not show a positive shift and therfore both transformations will not be considered.\n",
    "\n",
    "##### BsmtFinSF\n",
    "* Analysis of transformation:\n",
    "    * power - Shift of data to the right and towards the center but nothink akin to a normal distribution.\n",
    "    * yeo_johnson - Majoririty of the data shifted too far right away from the center, a large change but not a positive one.\n",
    "    * Conclusion - Niether transformation shows any positive change in the distribution therefore niether will be considered further.\n",
    "\n",
    "##### BsmtFinType1\n",
    "* Analysis of transformation:\n",
    "    * power - No significant change at all detecting in the distribution.\n",
    "    * yeo_johnson - No significant change at all detecting in the distribution.\n",
    "    * Conclusion - Both transformations showed little to no change in the distribution, niether will be considered.\n",
    "\n",
    "##### BsmtUnfSF1\n",
    "* Analysis of transformation:\n",
    "    * power - A large draw to the center, 0 values remain but the majority of the data show a shift towards normal distribution. not perfect but a postive change.\n",
    "    * yeo_johnson - A large draw to the center, 0 values remain but the majority of the data show a shift towards normal distribution. not perfect but a postive change. \n",
    "    * Conclusion - Neither transformations are perfect but they certainly show a positive change and therefore both will be considered.  \n",
    "\n",
    "##### GarageArea\n",
    "* Analysis of transformation:\n",
    "    * power - A change is observed however it does not warrent any further action, the change does not make any substantial impact be that positive or negative\n",
    "    * yeo_johnson - A change is observed however it does not warrent any further action, the change does not make any substantial impact be that positive or negative\n",
    "    * Conclusion - Due to the changes having very little impact niether will be carried forward.\n",
    "\n",
    "##### GarageFinish\n",
    "* Analysis of transformation:\n",
    "    * power - No positive change at all. \n",
    "    * yeo_johnson - No positive change at all.\n",
    "    * Conclusion - Both transformations that were applied failed to move the distribution in any constructive way and therefore will not be considered. \n",
    "\n",
    "##### GarageYrBlt\n",
    "* Analysis of transformation:\n",
    "    * power - No significant change to the distribution. \n",
    "    * yeo_johnson - The only noticible change is a lift towards the back of the plot where we find the majority of the data but this is not what we are looking for and shows no postive change towards a normal distribution.\n",
    "    * Conclusion - Both transformations made no significant impact and therfore will not be taken forward.\n",
    "\n",
    "##### KitchenQual\n",
    "* Analysis of transformation:\n",
    "    * power - No significant change to the distribution. \n",
    "    * yeo_johnson - No significant change to the distribution. \n",
    "    * Conclusion - Both transformations made no significant impact and therfore will not be taken forward.\n",
    "\n",
    "##### MasVnrArea\n",
    "* Analysis of transformation:\n",
    "    * power - Failed to impact the distribution in any positivly or significant way.  \n",
    "    * yeo_johnson - Failed to impact the distribution in any positivly or significant way.\n",
    "    * Conclusion - Due to both transformations failing to shift the distribution in any positive manner neither will be considered when moving forward.\n",
    "\n",
    "##### OpenPorchSF\n",
    "* Analysis of transformation:\n",
    "    * power - No positive and impactful shift can be seen after this transformation. \n",
    "    * yeo_johnson - No positive and impactful shift can be seen after this transformation.\n",
    "    * Conclusion - Both transformations failed to produce a postive shift with the data, for this reason none will be considered further.\n",
    "\n",
    "##### TotalBsmtSF\n",
    "* Analysis of transformation:\n",
    "    * power - The Distribution can be seen shifted slightly to the right but no real diffrence in qq plot indicates that the transformation didnt effect the distribution in a significantly positive way. \n",
    "    * yeo_johnson - The Distribution can be seen shifted slightly to the right but no real diffrence in qq plot indicates that the transformation didnt effect the distribution in a significantly positive way.\n",
    "    * Conclusion - We can see small changes in a potentailly positive direction with both transformations but it is not enough to consider taking these transformations further."
   ]
  },
  {
   "attachments": {},
   "cell_type": "markdown",
   "metadata": {},
   "source": [
    "___"
   ]
  },
  {
   "attachments": {},
   "cell_type": "markdown",
   "metadata": {},
   "source": [
    "#### Conclusions\n",
    "\n",
    "##### Variables that will not have a transformer applied\n",
    "* ['LotFrontage', 'OverallCond', 'OverallQual', 'YearBuilt', 'YearRemodAdd', '2ndFlrSF', 'BedroomAbvGr', 'BsmtExposure', 'BsmtFinSF1', 'BsmtUnfSF', 'GarageArea', 'GarageFinish', 'GarageYrBlt', 'KitchenQual', 'MasVnrArea', 'OpenPorchSF', 'TotalBsmtSF']\n",
    "\n",
    "##### Variables that will have a transformer applied\n",
    "* ['1stFlrSF', 'GrLivArea', 'LotArea', 'BsmtUnfSF1']\n",
    "   * ##### Transformers that will be implemented.\n",
    "       * 1stFlrSF - log_e\n",
    "       * GrLivArea - log_e\n",
    "       * LotArea - log_e\n",
    "       * BsmtUnfSF - yeo_johnson\n"
   ]
  },
  {
   "attachments": {},
   "cell_type": "markdown",
   "metadata": {},
   "source": [
    "___"
   ]
  },
  {
   "attachments": {},
   "cell_type": "markdown",
   "metadata": {},
   "source": [
    "#### Apply transformations to the train and test sets"
   ]
  },
  {
   "cell_type": "code",
   "execution_count": null,
   "metadata": {},
   "outputs": [],
   "source": [
    "pipeline = Pipeline([\n",
    "    (\"NumericLogTransform\",vt.LogTransformer(variables=['1stFlrSF', 'GrLivArea', 'LotArea',])),\n",
    "    (\"NumericYeoJohnsonTransform\",vt.YeoJohnsonTransformer(variables=['BsmtUnfSF']))\n",
    "    ])\n",
    "TrainSet = pipeline.fit_transform(TrainSet)\n",
    "TestSet = pipeline.transform(TestSet)"
   ]
  },
  {
   "attachments": {},
   "cell_type": "markdown",
   "metadata": {},
   "source": [
    "___"
   ]
  },
  {
   "attachments": {},
   "cell_type": "markdown",
   "metadata": {},
   "source": [
    "### Smart Correlated Selection\n",
    "\n",
    "* First we want to drop SalesPrice as this is our end prediction goal.\n",
    "* We will do so by creating a new dataframe to perform our Smart Correlated Selection on."
   ]
  },
  {
   "cell_type": "code",
   "execution_count": null,
   "metadata": {},
   "outputs": [],
   "source": [
    "df_smart_correlated_selection = TrainSet.drop(['SalePrice'], axis=1)\n",
    "df_smart_correlated_selection.head()"
   ]
  },
  {
   "attachments": {},
   "cell_type": "markdown",
   "metadata": {},
   "source": [
    "* Second we will create our engineered variables that apply the transformations"
   ]
  },
  {
   "cell_type": "code",
   "execution_count": null,
   "metadata": {},
   "outputs": [],
   "source": [
    "selection_method = \"cardinality\"\n",
    "corr_method = 'spearman'\n",
    "smart_correlation_selection = SmartCorrelatedSelection(variables=None, method=corr_method, threshold=0.60, selection_method=selection_method)\n",
    "\n",
    "smart_correlation_selection.fit_transform(df_smart_correlated_selection)\n",
    "smart_correlation_selection.correlated_feature_sets_"
   ]
  },
  {
   "cell_type": "code",
   "execution_count": null,
   "metadata": {},
   "outputs": [],
   "source": [
    "smart_correlation_selection.features_to_drop_"
   ]
  },
  {
   "attachments": {},
   "cell_type": "markdown",
   "metadata": {},
   "source": [
    "## Final Conclusion"
   ]
  },
  {
   "attachments": {},
   "cell_type": "markdown",
   "metadata": {},
   "source": [
    "* By working down this notebook we have come to the conclusion on several key steps.\n",
    "    * After an intial analysis of the various numerical transformations we methodically went through each variable and analysed the results of each transformation.\n",
    "    * We then established which transformations showed the most promising results and these were the results: \n",
    "       * 1stFlrSF - log_e\n",
    "       * GrLivArea - log_e\n",
    "       * LotArea - log_e\n",
    "       * BsmtUnfSF - yeo_johnson\n",
    "    * As such we shall be implementing these feature engineering steps into our pipleine when training the model.\n",
    "    * We then did a smart correlated selection in order to identify any features of unimportance that may be dropped, these were the results:\n",
    "        * 2ndFlrSF\n",
    "        * GarageYrBlt\n",
    "        * OverallQual\n",
    "        * TotalBsmtSF\n",
    "      * All these features will be dropped.\n"
   ]
  }
 ],
 "metadata": {
  "kernelspec": {
   "display_name": "Python 3",
   "language": "python",
   "name": "python3"
  },
  "language_info": {
   "codemirror_mode": {
    "name": "ipython",
    "version": 3
   },
   "file_extension": ".py",
   "mimetype": "text/x-python",
   "name": "python",
   "nbconvert_exporter": "python",
   "pygments_lexer": "ipython3",
   "version": "3.8.11"
  },
  "orig_nbformat": 4
 },
 "nbformat": 4,
 "nbformat_minor": 2
}
