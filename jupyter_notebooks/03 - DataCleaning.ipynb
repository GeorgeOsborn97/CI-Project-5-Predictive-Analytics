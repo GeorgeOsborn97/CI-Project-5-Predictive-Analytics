{
 "cells": [
  {
   "attachments": {},
   "cell_type": "markdown",
   "metadata": {},
   "source": [
    "# Data Cleaning"
   ]
  },
  {
   "attachments": {},
   "cell_type": "markdown",
   "metadata": {},
   "source": [
    "### Objectives\n",
    "\n",
    "1. Load in the raw dataset for further analysis and preporation for data cleaning.\n",
    "2. Revisit correlation and perform a PPS (Predictive Power Score) Study.\n",
    "3. Inspect the data set for missing values, with a focus on the features highlighted in the DataAnalysis Notebook.\n",
    "4. Having dealt with any missing values split the now clean data set into Train and Test sets.\n",
    "5. Push these new data sets to the repo ready for feature engineering."
   ]
  },
  {
   "attachments": {},
   "cell_type": "markdown",
   "metadata": {},
   "source": [
    "### Inputs\n",
    "\n",
    "1. Our house_price_records data that we collected in our DataCollection Notebook, found at inputs/datasets/raw/house-price-20211124T154130z/house-price/house_price_records.csv "
   ]
  },
  {
   "cell_type": "markdown",
   "metadata": {},
   "source": [
    "### Additional Comments"
   ]
  },
  {
   "cell_type": "markdown",
   "metadata": {},
   "source": [
    "* In case you have any additional comments that don't fit in the previous bullets, please state them here."
   ]
  },
  {
   "cell_type": "markdown",
   "metadata": {},
   "source": [
    "___"
   ]
  },
  {
   "cell_type": "markdown",
   "metadata": {},
   "source": [
    "## Change working Directory"
   ]
  },
  {
   "attachments": {},
   "cell_type": "markdown",
   "metadata": {},
   "source": [
    "* We access the current directory with os.getcwd()"
   ]
  },
  {
   "cell_type": "code",
   "execution_count": 1,
   "metadata": {},
   "outputs": [
    {
     "data": {
      "text/plain": [
       "'/workspace/CI-Project-5-Predictive-Analytics/jupyter_notebooks'"
      ]
     },
     "execution_count": 1,
     "metadata": {},
     "output_type": "execute_result"
    }
   ],
   "source": [
    "import os\n",
    "current_dir = os.getcwd()\n",
    "current_dir"
   ]
  },
  {
   "cell_type": "markdown",
   "metadata": {},
   "source": [
    "\n",
    "We want to make the parent of the current directory the new current directory\n",
    "\n",
    "* os.path.dirname() gets the parent directory\n",
    "* os.chir() defines the new current directory"
   ]
  },
  {
   "cell_type": "code",
   "execution_count": 2,
   "metadata": {},
   "outputs": [
    {
     "name": "stdout",
     "output_type": "stream",
     "text": [
      "You set a new current directory\n"
     ]
    }
   ],
   "source": [
    "os.chdir(os.path.dirname(current_dir))\n",
    "print(\"You set a new current directory\")"
   ]
  },
  {
   "cell_type": "markdown",
   "metadata": {},
   "source": [
    "Confirm the new current directory"
   ]
  },
  {
   "cell_type": "code",
   "execution_count": 3,
   "metadata": {},
   "outputs": [
    {
     "data": {
      "text/plain": [
       "'/workspace/CI-Project-5-Predictive-Analytics'"
      ]
     },
     "execution_count": 3,
     "metadata": {},
     "output_type": "execute_result"
    }
   ],
   "source": [
    "current_dir = os.getcwd()\n",
    "current_dir"
   ]
  },
  {
   "attachments": {},
   "cell_type": "markdown",
   "metadata": {},
   "source": [
    "## Load Collected Data and Import Necessary Packages"
   ]
  },
  {
   "cell_type": "code",
   "execution_count": 29,
   "metadata": {},
   "outputs": [],
   "source": [
    "import numpy as np\n",
    "import pandas as pd\n",
    "pd.options.display.max_columns = None\n",
    "from pandas_profiling import ProfileReport\n",
    "import matplotlib.pyplot as plt\n",
    "import seaborn as sns\n",
    "import ppscore as pps\n",
    "from feature_engine.imputation import ArbitraryNumberImputer, CategoricalImputer, MeanMedianImputer, DropMissingData\n",
    "from sklearn.pipeline import Pipeline"
   ]
  },
  {
   "attachments": {},
   "cell_type": "markdown",
   "metadata": {},
   "source": [
    "* Firstly load both datasets ready for data evalustaion and cleaning. "
   ]
  },
  {
   "cell_type": "code",
   "execution_count": 5,
   "metadata": {},
   "outputs": [
    {
     "data": {
      "text/html": [
       "<div>\n",
       "<style scoped>\n",
       "    .dataframe tbody tr th:only-of-type {\n",
       "        vertical-align: middle;\n",
       "    }\n",
       "\n",
       "    .dataframe tbody tr th {\n",
       "        vertical-align: top;\n",
       "    }\n",
       "\n",
       "    .dataframe thead th {\n",
       "        text-align: right;\n",
       "    }\n",
       "</style>\n",
       "<table border=\"1\" class=\"dataframe\">\n",
       "  <thead>\n",
       "    <tr style=\"text-align: right;\">\n",
       "      <th></th>\n",
       "      <th>1stFlrSF</th>\n",
       "      <th>2ndFlrSF</th>\n",
       "      <th>BedroomAbvGr</th>\n",
       "      <th>BsmtExposure</th>\n",
       "      <th>BsmtFinSF1</th>\n",
       "      <th>BsmtFinType1</th>\n",
       "      <th>BsmtUnfSF</th>\n",
       "      <th>EnclosedPorch</th>\n",
       "      <th>GarageArea</th>\n",
       "      <th>GarageFinish</th>\n",
       "      <th>GarageYrBlt</th>\n",
       "      <th>GrLivArea</th>\n",
       "      <th>KitchenQual</th>\n",
       "      <th>LotArea</th>\n",
       "      <th>LotFrontage</th>\n",
       "      <th>MasVnrArea</th>\n",
       "      <th>OpenPorchSF</th>\n",
       "      <th>OverallCond</th>\n",
       "      <th>OverallQual</th>\n",
       "      <th>TotalBsmtSF</th>\n",
       "      <th>WoodDeckSF</th>\n",
       "      <th>YearBuilt</th>\n",
       "      <th>YearRemodAdd</th>\n",
       "      <th>SalePrice</th>\n",
       "    </tr>\n",
       "  </thead>\n",
       "  <tbody>\n",
       "    <tr>\n",
       "      <th>0</th>\n",
       "      <td>856</td>\n",
       "      <td>854.0</td>\n",
       "      <td>3.0</td>\n",
       "      <td>No</td>\n",
       "      <td>706</td>\n",
       "      <td>GLQ</td>\n",
       "      <td>150</td>\n",
       "      <td>0.0</td>\n",
       "      <td>548</td>\n",
       "      <td>RFn</td>\n",
       "      <td>2003.0</td>\n",
       "      <td>1710</td>\n",
       "      <td>Gd</td>\n",
       "      <td>8450</td>\n",
       "      <td>65.0</td>\n",
       "      <td>196.0</td>\n",
       "      <td>61</td>\n",
       "      <td>5</td>\n",
       "      <td>7</td>\n",
       "      <td>856</td>\n",
       "      <td>0.0</td>\n",
       "      <td>2003</td>\n",
       "      <td>2003</td>\n",
       "      <td>208500</td>\n",
       "    </tr>\n",
       "    <tr>\n",
       "      <th>1</th>\n",
       "      <td>1262</td>\n",
       "      <td>0.0</td>\n",
       "      <td>3.0</td>\n",
       "      <td>Gd</td>\n",
       "      <td>978</td>\n",
       "      <td>ALQ</td>\n",
       "      <td>284</td>\n",
       "      <td>NaN</td>\n",
       "      <td>460</td>\n",
       "      <td>RFn</td>\n",
       "      <td>1976.0</td>\n",
       "      <td>1262</td>\n",
       "      <td>TA</td>\n",
       "      <td>9600</td>\n",
       "      <td>80.0</td>\n",
       "      <td>0.0</td>\n",
       "      <td>0</td>\n",
       "      <td>8</td>\n",
       "      <td>6</td>\n",
       "      <td>1262</td>\n",
       "      <td>NaN</td>\n",
       "      <td>1976</td>\n",
       "      <td>1976</td>\n",
       "      <td>181500</td>\n",
       "    </tr>\n",
       "    <tr>\n",
       "      <th>2</th>\n",
       "      <td>920</td>\n",
       "      <td>866.0</td>\n",
       "      <td>3.0</td>\n",
       "      <td>Mn</td>\n",
       "      <td>486</td>\n",
       "      <td>GLQ</td>\n",
       "      <td>434</td>\n",
       "      <td>0.0</td>\n",
       "      <td>608</td>\n",
       "      <td>RFn</td>\n",
       "      <td>2001.0</td>\n",
       "      <td>1786</td>\n",
       "      <td>Gd</td>\n",
       "      <td>11250</td>\n",
       "      <td>68.0</td>\n",
       "      <td>162.0</td>\n",
       "      <td>42</td>\n",
       "      <td>5</td>\n",
       "      <td>7</td>\n",
       "      <td>920</td>\n",
       "      <td>NaN</td>\n",
       "      <td>2001</td>\n",
       "      <td>2002</td>\n",
       "      <td>223500</td>\n",
       "    </tr>\n",
       "    <tr>\n",
       "      <th>3</th>\n",
       "      <td>961</td>\n",
       "      <td>NaN</td>\n",
       "      <td>NaN</td>\n",
       "      <td>No</td>\n",
       "      <td>216</td>\n",
       "      <td>ALQ</td>\n",
       "      <td>540</td>\n",
       "      <td>NaN</td>\n",
       "      <td>642</td>\n",
       "      <td>Unf</td>\n",
       "      <td>1998.0</td>\n",
       "      <td>1717</td>\n",
       "      <td>Gd</td>\n",
       "      <td>9550</td>\n",
       "      <td>60.0</td>\n",
       "      <td>0.0</td>\n",
       "      <td>35</td>\n",
       "      <td>5</td>\n",
       "      <td>7</td>\n",
       "      <td>756</td>\n",
       "      <td>NaN</td>\n",
       "      <td>1915</td>\n",
       "      <td>1970</td>\n",
       "      <td>140000</td>\n",
       "    </tr>\n",
       "    <tr>\n",
       "      <th>4</th>\n",
       "      <td>1145</td>\n",
       "      <td>NaN</td>\n",
       "      <td>4.0</td>\n",
       "      <td>Av</td>\n",
       "      <td>655</td>\n",
       "      <td>GLQ</td>\n",
       "      <td>490</td>\n",
       "      <td>0.0</td>\n",
       "      <td>836</td>\n",
       "      <td>RFn</td>\n",
       "      <td>2000.0</td>\n",
       "      <td>2198</td>\n",
       "      <td>Gd</td>\n",
       "      <td>14260</td>\n",
       "      <td>84.0</td>\n",
       "      <td>350.0</td>\n",
       "      <td>84</td>\n",
       "      <td>5</td>\n",
       "      <td>8</td>\n",
       "      <td>1145</td>\n",
       "      <td>NaN</td>\n",
       "      <td>2000</td>\n",
       "      <td>2000</td>\n",
       "      <td>250000</td>\n",
       "    </tr>\n",
       "  </tbody>\n",
       "</table>\n",
       "</div>"
      ],
      "text/plain": [
       "   1stFlrSF  2ndFlrSF  BedroomAbvGr BsmtExposure  BsmtFinSF1 BsmtFinType1  \\\n",
       "0       856     854.0           3.0           No         706          GLQ   \n",
       "1      1262       0.0           3.0           Gd         978          ALQ   \n",
       "2       920     866.0           3.0           Mn         486          GLQ   \n",
       "3       961       NaN           NaN           No         216          ALQ   \n",
       "4      1145       NaN           4.0           Av         655          GLQ   \n",
       "\n",
       "   BsmtUnfSF  EnclosedPorch  GarageArea GarageFinish  GarageYrBlt  GrLivArea  \\\n",
       "0        150            0.0         548          RFn       2003.0       1710   \n",
       "1        284            NaN         460          RFn       1976.0       1262   \n",
       "2        434            0.0         608          RFn       2001.0       1786   \n",
       "3        540            NaN         642          Unf       1998.0       1717   \n",
       "4        490            0.0         836          RFn       2000.0       2198   \n",
       "\n",
       "  KitchenQual  LotArea  LotFrontage  MasVnrArea  OpenPorchSF  OverallCond  \\\n",
       "0          Gd     8450         65.0       196.0           61            5   \n",
       "1          TA     9600         80.0         0.0            0            8   \n",
       "2          Gd    11250         68.0       162.0           42            5   \n",
       "3          Gd     9550         60.0         0.0           35            5   \n",
       "4          Gd    14260         84.0       350.0           84            5   \n",
       "\n",
       "   OverallQual  TotalBsmtSF  WoodDeckSF  YearBuilt  YearRemodAdd  SalePrice  \n",
       "0            7          856         0.0       2003          2003     208500  \n",
       "1            6         1262         NaN       1976          1976     181500  \n",
       "2            7          920         NaN       2001          2002     223500  \n",
       "3            7          756         NaN       1915          1970     140000  \n",
       "4            8         1145         NaN       2000          2000     250000  "
      ]
     },
     "execution_count": 5,
     "metadata": {},
     "output_type": "execute_result"
    }
   ],
   "source": [
    "df = (pd.read_csv(\"inputs/datasets/raw/house-price-20211124T154130Z-001/house-price/house_prices_records.csv\"))\n",
    "df.head()"
   ]
  },
  {
   "cell_type": "code",
   "execution_count": 6,
   "metadata": {},
   "outputs": [
    {
     "data": {
      "text/html": [
       "<div>\n",
       "<style scoped>\n",
       "    .dataframe tbody tr th:only-of-type {\n",
       "        vertical-align: middle;\n",
       "    }\n",
       "\n",
       "    .dataframe tbody tr th {\n",
       "        vertical-align: top;\n",
       "    }\n",
       "\n",
       "    .dataframe thead th {\n",
       "        text-align: right;\n",
       "    }\n",
       "</style>\n",
       "<table border=\"1\" class=\"dataframe\">\n",
       "  <thead>\n",
       "    <tr style=\"text-align: right;\">\n",
       "      <th></th>\n",
       "      <th>1stFlrSF</th>\n",
       "      <th>2ndFlrSF</th>\n",
       "      <th>BedroomAbvGr</th>\n",
       "      <th>BsmtExposure</th>\n",
       "      <th>BsmtFinSF1</th>\n",
       "      <th>BsmtFinType1</th>\n",
       "      <th>BsmtUnfSF</th>\n",
       "      <th>EnclosedPorch</th>\n",
       "      <th>GarageArea</th>\n",
       "      <th>GarageFinish</th>\n",
       "      <th>GarageYrBlt</th>\n",
       "      <th>GrLivArea</th>\n",
       "      <th>KitchenQual</th>\n",
       "      <th>LotArea</th>\n",
       "      <th>LotFrontage</th>\n",
       "      <th>MasVnrArea</th>\n",
       "      <th>OpenPorchSF</th>\n",
       "      <th>OverallCond</th>\n",
       "      <th>OverallQual</th>\n",
       "      <th>TotalBsmtSF</th>\n",
       "      <th>WoodDeckSF</th>\n",
       "      <th>YearBuilt</th>\n",
       "      <th>YearRemodAdd</th>\n",
       "    </tr>\n",
       "  </thead>\n",
       "  <tbody>\n",
       "    <tr>\n",
       "      <th>0</th>\n",
       "      <td>896</td>\n",
       "      <td>0</td>\n",
       "      <td>2</td>\n",
       "      <td>No</td>\n",
       "      <td>468.0</td>\n",
       "      <td>Rec</td>\n",
       "      <td>270.0</td>\n",
       "      <td>0</td>\n",
       "      <td>730.0</td>\n",
       "      <td>Unf</td>\n",
       "      <td>1961.0</td>\n",
       "      <td>896</td>\n",
       "      <td>TA</td>\n",
       "      <td>11622</td>\n",
       "      <td>80.0</td>\n",
       "      <td>0.0</td>\n",
       "      <td>0</td>\n",
       "      <td>6</td>\n",
       "      <td>5</td>\n",
       "      <td>882.0</td>\n",
       "      <td>140</td>\n",
       "      <td>1961</td>\n",
       "      <td>1961</td>\n",
       "    </tr>\n",
       "    <tr>\n",
       "      <th>1</th>\n",
       "      <td>1329</td>\n",
       "      <td>0</td>\n",
       "      <td>3</td>\n",
       "      <td>No</td>\n",
       "      <td>923.0</td>\n",
       "      <td>ALQ</td>\n",
       "      <td>406.0</td>\n",
       "      <td>0</td>\n",
       "      <td>312.0</td>\n",
       "      <td>Unf</td>\n",
       "      <td>1958.0</td>\n",
       "      <td>1329</td>\n",
       "      <td>Gd</td>\n",
       "      <td>14267</td>\n",
       "      <td>81.0</td>\n",
       "      <td>108.0</td>\n",
       "      <td>36</td>\n",
       "      <td>6</td>\n",
       "      <td>6</td>\n",
       "      <td>1329.0</td>\n",
       "      <td>393</td>\n",
       "      <td>1958</td>\n",
       "      <td>1958</td>\n",
       "    </tr>\n",
       "    <tr>\n",
       "      <th>2</th>\n",
       "      <td>928</td>\n",
       "      <td>701</td>\n",
       "      <td>3</td>\n",
       "      <td>No</td>\n",
       "      <td>791.0</td>\n",
       "      <td>GLQ</td>\n",
       "      <td>137.0</td>\n",
       "      <td>0</td>\n",
       "      <td>482.0</td>\n",
       "      <td>Fin</td>\n",
       "      <td>1997.0</td>\n",
       "      <td>1629</td>\n",
       "      <td>TA</td>\n",
       "      <td>13830</td>\n",
       "      <td>74.0</td>\n",
       "      <td>0.0</td>\n",
       "      <td>34</td>\n",
       "      <td>5</td>\n",
       "      <td>5</td>\n",
       "      <td>928.0</td>\n",
       "      <td>212</td>\n",
       "      <td>1997</td>\n",
       "      <td>1998</td>\n",
       "    </tr>\n",
       "    <tr>\n",
       "      <th>3</th>\n",
       "      <td>926</td>\n",
       "      <td>678</td>\n",
       "      <td>3</td>\n",
       "      <td>No</td>\n",
       "      <td>602.0</td>\n",
       "      <td>GLQ</td>\n",
       "      <td>324.0</td>\n",
       "      <td>0</td>\n",
       "      <td>470.0</td>\n",
       "      <td>Fin</td>\n",
       "      <td>1998.0</td>\n",
       "      <td>1604</td>\n",
       "      <td>Gd</td>\n",
       "      <td>9978</td>\n",
       "      <td>78.0</td>\n",
       "      <td>20.0</td>\n",
       "      <td>36</td>\n",
       "      <td>6</td>\n",
       "      <td>6</td>\n",
       "      <td>926.0</td>\n",
       "      <td>360</td>\n",
       "      <td>1998</td>\n",
       "      <td>1998</td>\n",
       "    </tr>\n",
       "  </tbody>\n",
       "</table>\n",
       "</div>"
      ],
      "text/plain": [
       "   1stFlrSF  2ndFlrSF  BedroomAbvGr BsmtExposure  BsmtFinSF1 BsmtFinType1  \\\n",
       "0       896         0             2           No       468.0          Rec   \n",
       "1      1329         0             3           No       923.0          ALQ   \n",
       "2       928       701             3           No       791.0          GLQ   \n",
       "3       926       678             3           No       602.0          GLQ   \n",
       "\n",
       "   BsmtUnfSF  EnclosedPorch  GarageArea GarageFinish  GarageYrBlt  GrLivArea  \\\n",
       "0      270.0              0       730.0          Unf       1961.0        896   \n",
       "1      406.0              0       312.0          Unf       1958.0       1329   \n",
       "2      137.0              0       482.0          Fin       1997.0       1629   \n",
       "3      324.0              0       470.0          Fin       1998.0       1604   \n",
       "\n",
       "  KitchenQual  LotArea  LotFrontage  MasVnrArea  OpenPorchSF  OverallCond  \\\n",
       "0          TA    11622         80.0         0.0            0            6   \n",
       "1          Gd    14267         81.0       108.0           36            6   \n",
       "2          TA    13830         74.0         0.0           34            5   \n",
       "3          Gd     9978         78.0        20.0           36            6   \n",
       "\n",
       "   OverallQual  TotalBsmtSF  WoodDeckSF  YearBuilt  YearRemodAdd  \n",
       "0            5        882.0         140       1961          1961  \n",
       "1            6       1329.0         393       1958          1958  \n",
       "2            5        928.0         212       1997          1998  \n",
       "3            6        926.0         360       1998          1998  "
      ]
     },
     "execution_count": 6,
     "metadata": {},
     "output_type": "execute_result"
    }
   ],
   "source": [
    "df_inherited = (pd.read_csv(\"inputs/datasets/raw/house-price-20211124T154130Z-001/house-price/inherited_houses.csv\"))\n",
    "df_inherited.head()"
   ]
  },
  {
   "cell_type": "markdown",
   "metadata": {},
   "source": [
    "___"
   ]
  },
  {
   "attachments": {},
   "cell_type": "markdown",
   "metadata": {},
   "source": [
    "## Data Exploration"
   ]
  },
  {
   "attachments": {},
   "cell_type": "markdown",
   "metadata": {},
   "source": [
    "Having loaded our data we want to assess the distrobution of the variables that contain missing data."
   ]
  },
  {
   "cell_type": "code",
   "execution_count": null,
   "metadata": {},
   "outputs": [],
   "source": [
    "vars_with_missing_data = df.columns[df.isna().sum() > 0].to_list()\n",
    "vars_with_missing_data"
   ]
  },
  {
   "attachments": {},
   "cell_type": "markdown",
   "metadata": {},
   "source": [
    "We can then run the Pandas Profile Report again, however this time we have singled out the columns that contain missing features in order to get a better understanding of their distribution."
   ]
  },
  {
   "cell_type": "code",
   "execution_count": null,
   "metadata": {},
   "outputs": [],
   "source": [
    "if vars_with_missing_data:\n",
    "    profile = ProfileReport(df=df[vars_with_missing_data], minimal=True)\n",
    "    profile.to_notebook_iframe()\n",
    "else:\n",
    "    print(\"There are no variables with missing data\")"
   ]
  },
  {
   "cell_type": "markdown",
   "metadata": {},
   "source": [
    "___"
   ]
  },
  {
   "attachments": {},
   "cell_type": "markdown",
   "metadata": {},
   "source": [
    "### PPS Analysis and Revisit of Correlation"
   ]
  },
  {
   "attachments": {},
   "cell_type": "markdown",
   "metadata": {},
   "source": [
    "* The Code utilised here was taken from the Code Isntitute lessons focused around PPS (Predictive Power score).\n",
    "* We are utilising heatmaps here to review the PPS and correlation between our target Sales Price and other features."
   ]
  },
  {
   "cell_type": "code",
   "execution_count": 7,
   "metadata": {},
   "outputs": [],
   "source": [
    "\n",
    "def heatmap_corr(df, threshold, figsize=(20, 12), font_annot=8):\n",
    "    if len(df.columns) > 1:\n",
    "        mask = np.zeros_like(df, dtype=bool)\n",
    "        mask[np.triu_indices_from(mask)] = True\n",
    "        mask[abs(df) < threshold] = True\n",
    "\n",
    "        fig, axes = plt.subplots(figsize=figsize)\n",
    "        sns.heatmap(df, annot=True, xticklabels=True, yticklabels=True,\n",
    "                    mask=mask, cmap='viridis', annot_kws={\"size\": font_annot}, ax=axes,\n",
    "                    linewidth=0.5\n",
    "                    )\n",
    "        axes.set_yticklabels(df.columns, rotation=0)\n",
    "        plt.ylim(len(df.columns), 0)\n",
    "        plt.show()\n",
    "\n",
    "\n",
    "def heatmap_pps(df, threshold, figsize=(20, 12), font_annot=8):\n",
    "    if len(df.columns) > 1:\n",
    "        mask = np.zeros_like(df, dtype=bool)\n",
    "        mask[abs(df) < threshold] = True\n",
    "        fig, ax = plt.subplots(figsize=figsize)\n",
    "        ax = sns.heatmap(df, annot=True, xticklabels=True, yticklabels=True,\n",
    "                         mask=mask, cmap='rocket_r', annot_kws={\"size\": font_annot},\n",
    "                         linewidth=0.05, linecolor='grey')\n",
    "        plt.ylim(len(df.columns), 0)\n",
    "        plt.show()\n",
    "\n",
    "\n",
    "def CalculateCorrAndPPS(df):\n",
    "    df_corr_spearman = df.corr(method=\"spearman\")\n",
    "    df_corr_pearson = df.corr(method=\"pearson\")\n",
    "\n",
    "    pps_matrix_raw = pps.matrix(df)\n",
    "    pps_matrix = pps_matrix_raw.filter(['x', 'y', 'ppscore']).pivot(columns='x', index='y', values='ppscore')\n",
    "\n",
    "    pps_score_stats = pps_matrix_raw.query(\"ppscore < 1\").filter(['ppscore']).describe().T\n",
    "    print(\"PPS threshold - check PPS score IQR to decide threshold for heatmap \\n\")\n",
    "    print(pps_score_stats.round(3))\n",
    "\n",
    "    return df_corr_pearson, df_corr_spearman, pps_matrix\n",
    "\n",
    "\n",
    "def DisplayCorrAndPPS(df_corr_pearson, df_corr_spearman, pps_matrix, CorrThreshold, PPS_Threshold,\n",
    "                      figsize=(20, 12), font_annot=8):\n",
    "\n",
    "    print(\"\\n\")\n",
    "\n",
    "    print(\"\\n\")\n",
    "    print(\"*** Heatmap: Spearman Correlation ***\")\n",
    "    print(\"It evaluates monotonic relationship \\n\")\n",
    "    heatmap_corr(df=df_corr_spearman, threshold=CorrThreshold, figsize=figsize, font_annot=font_annot)\n",
    "\n",
    "    print(\"\\n\")\n",
    "    print(\"*** Heatmap: Pearson Correlation ***\")\n",
    "    print(\"It evaluates the linear relationship between two continuous variables \\n\")\n",
    "    heatmap_corr(df=df_corr_pearson, threshold=CorrThreshold, figsize=figsize, font_annot=font_annot)\n",
    "\n",
    "    print(\"\\n\")\n",
    "    print(\"*** Heatmap: Power Predictive Score (PPS) ***\")\n",
    "    print(f\"PPS detects linear or non-linear relationships between two columns.\\n\"\n",
    "          f\"The score ranges from 0 (no predictive power) to 1 (perfect predictive power) \\n\")\n",
    "    heatmap_pps(df=pps_matrix, threshold=PPS_Threshold, figsize=figsize, font_annot=font_annot)\n"
   ]
  },
  {
   "attachments": {},
   "cell_type": "markdown",
   "metadata": {},
   "source": [
    "* Calculate the PPS (Predictive Power Score)"
   ]
  },
  {
   "cell_type": "code",
   "execution_count": 8,
   "metadata": {},
   "outputs": [
    {
     "name": "stderr",
     "output_type": "stream",
     "text": [
      "/tmp/ipykernel_1498/3974993058.py:30: FutureWarning: The default value of numeric_only in DataFrame.corr is deprecated. In a future version, it will default to False. Select only valid columns or specify the value of numeric_only to silence this warning.\n",
      "  df_corr_spearman = df.corr(method=\"spearman\")\n",
      "/tmp/ipykernel_1498/3974993058.py:31: FutureWarning: The default value of numeric_only in DataFrame.corr is deprecated. In a future version, it will default to False. Select only valid columns or specify the value of numeric_only to silence this warning.\n",
      "  df_corr_pearson = df.corr(method=\"pearson\")\n",
      "/workspace/.pip-modules/lib/python3.8/site-packages/sklearn/model_selection/_split.py:700: UserWarning: The least populated class in y has only 2 members, which is less than n_splits=4.\n",
      "  warnings.warn(\n",
      "/workspace/.pip-modules/lib/python3.8/site-packages/sklearn/model_selection/_split.py:700: UserWarning: The least populated class in y has only 1 members, which is less than n_splits=4.\n",
      "  warnings.warn(\n",
      "/workspace/.pip-modules/lib/python3.8/site-packages/sklearn/model_selection/_split.py:700: UserWarning: The least populated class in y has only 3 members, which is less than n_splits=4.\n",
      "  warnings.warn(\n",
      "/workspace/.pip-modules/lib/python3.8/site-packages/sklearn/model_selection/_split.py:700: UserWarning: The least populated class in y has only 3 members, which is less than n_splits=4.\n",
      "  warnings.warn(\n",
      "/workspace/.pip-modules/lib/python3.8/site-packages/sklearn/model_selection/_split.py:700: UserWarning: The least populated class in y has only 3 members, which is less than n_splits=4.\n",
      "  warnings.warn(\n",
      "/workspace/.pip-modules/lib/python3.8/site-packages/sklearn/model_selection/_split.py:700: UserWarning: The least populated class in y has only 3 members, which is less than n_splits=4.\n",
      "  warnings.warn(\n"
     ]
    },
    {
     "name": "stdout",
     "output_type": "stream",
     "text": [
      "PPS threshold - check PPS score IQR to decide threshold for heatmap \n",
      "\n",
      "         count   mean    std  min  25%  50%    75%    max\n",
      "ppscore  552.0  0.055  0.104  0.0  0.0  0.0  0.066  0.702\n"
     ]
    }
   ],
   "source": [
    "df_corr_pearson, df_corr_spearman, pps_matrix = CalculateCorrAndPPS(df)"
   ]
  },
  {
   "attachments": {},
   "cell_type": "markdown",
   "metadata": {},
   "source": [
    "* Below is the calling of our above function, we have set the PPS_threshhold at 0.2 in order to get a visualisation of features that have a relativly weak to strong predictive power. A score of less then 0.2 would mean a very weak predictive power and would arguably not be worth our time investigating.\n",
    "* As seen in the previous notebook the features we highlighted as potentail features of importance showed a strong corralation, as such the correlation threshhold has been set to 0.5 and we would hope to see all 6 of these features present in the heat maps."
   ]
  },
  {
   "cell_type": "code",
   "execution_count": 9,
   "metadata": {},
   "outputs": [
    {
     "name": "stdout",
     "output_type": "stream",
     "text": [
      "\n",
      "\n",
      "\n",
      "\n",
      "*** Heatmap: Spearman Correlation ***\n",
      "It evaluates monotonic relationship \n",
      "\n"
     ]
    },
    {
     "data": {
      "image/png": "[encoded data removed]",
      "text/plain": [
       "<Figure size 1200x1000 with 2 Axes>"
      ]
     },
     "metadata": {},
     "output_type": "display_data"
    },
    {
     "name": "stdout",
     "output_type": "stream",
     "text": [
      "\n",
      "\n",
      "*** Heatmap: Pearson Correlation ***\n",
      "It evaluates the linear relationship between two continuous variables \n",
      "\n"
     ]
    },
    {
     "data": {
      "image/png": "[encoded data removed]",
      "text/plain": [
       "<Figure size 1200x1000 with 2 Axes>"
      ]
     },
     "metadata": {},
     "output_type": "display_data"
    },
    {
     "name": "stdout",
     "output_type": "stream",
     "text": [
      "\n",
      "\n",
      "*** Heatmap: Power Predictive Score (PPS) ***\n",
      "PPS detects linear or non-linear relationships between two columns.\n",
      "The score ranges from 0 (no predictive power) to 1 (perfect predictive power) \n",
      "\n"
     ]
    },
    {
     "data": {
      "image/png": "[encoded data removed]",
      "text/plain": [
       "<Figure size 1200x1000 with 2 Axes>"
      ]
     },
     "metadata": {},
     "output_type": "display_data"
    }
   ],
   "source": [
    "DisplayCorrAndPPS(df_corr_pearson = df_corr_pearson,\n",
    "                  df_corr_spearman = df_corr_spearman, \n",
    "                  pps_matrix = pps_matrix,\n",
    "                  CorrThreshold = 0.5, PPS_Threshold =0.2,\n",
    "                  figsize=(12,10), font_annot=10)"
   ]
  },
  {
   "cell_type": "markdown",
   "metadata": {},
   "source": [
    "___"
   ]
  },
  {
   "attachments": {},
   "cell_type": "markdown",
   "metadata": {},
   "source": [
    "## Further Data Analysis\n",
    "### Missing data analysis"
   ]
  },
  {
   "cell_type": "code",
   "execution_count": 10,
   "metadata": {},
   "outputs": [],
   "source": [
    "def EvaluateMissingData(df):\n",
    "    missing_data_absolute = df.isnull().sum()\n",
    "    missing_data_percentage = round(missing_data_absolute/len(df)*100, 2)\n",
    "    df_missing_data = (pd.DataFrame(\n",
    "                            data={\"RowsWithMissingData\": missing_data_absolute,\n",
    "                                   \"PercentageOfDataset\": missing_data_percentage,\n",
    "                                   \"DataType\": df.dtypes}\n",
    "                                    )\n",
    "                          .sort_values(by=['PercentageOfDataset'], ascending=False)\n",
    "                          .query(\"PercentageOfDataset > 0\")\n",
    "                          )\n",
    "\n",
    "    return df_missing_data\n"
   ]
  },
  {
   "cell_type": "code",
   "execution_count": 11,
   "metadata": {},
   "outputs": [
    {
     "data": {
      "text/html": [
       "<div>\n",
       "<style scoped>\n",
       "    .dataframe tbody tr th:only-of-type {\n",
       "        vertical-align: middle;\n",
       "    }\n",
       "\n",
       "    .dataframe tbody tr th {\n",
       "        vertical-align: top;\n",
       "    }\n",
       "\n",
       "    .dataframe thead th {\n",
       "        text-align: right;\n",
       "    }\n",
       "</style>\n",
       "<table border=\"1\" class=\"dataframe\">\n",
       "  <thead>\n",
       "    <tr style=\"text-align: right;\">\n",
       "      <th></th>\n",
       "      <th>RowsWithMissingData</th>\n",
       "      <th>PercentageOfDataset</th>\n",
       "      <th>DataType</th>\n",
       "    </tr>\n",
       "  </thead>\n",
       "  <tbody>\n",
       "    <tr>\n",
       "      <th>EnclosedPorch</th>\n",
       "      <td>1324</td>\n",
       "      <td>90.68</td>\n",
       "      <td>float64</td>\n",
       "    </tr>\n",
       "    <tr>\n",
       "      <th>WoodDeckSF</th>\n",
       "      <td>1305</td>\n",
       "      <td>89.38</td>\n",
       "      <td>float64</td>\n",
       "    </tr>\n",
       "    <tr>\n",
       "      <th>LotFrontage</th>\n",
       "      <td>259</td>\n",
       "      <td>17.74</td>\n",
       "      <td>float64</td>\n",
       "    </tr>\n",
       "    <tr>\n",
       "      <th>GarageFinish</th>\n",
       "      <td>162</td>\n",
       "      <td>11.10</td>\n",
       "      <td>object</td>\n",
       "    </tr>\n",
       "    <tr>\n",
       "      <th>BsmtFinType1</th>\n",
       "      <td>114</td>\n",
       "      <td>7.81</td>\n",
       "      <td>object</td>\n",
       "    </tr>\n",
       "    <tr>\n",
       "      <th>BedroomAbvGr</th>\n",
       "      <td>99</td>\n",
       "      <td>6.78</td>\n",
       "      <td>float64</td>\n",
       "    </tr>\n",
       "    <tr>\n",
       "      <th>2ndFlrSF</th>\n",
       "      <td>86</td>\n",
       "      <td>5.89</td>\n",
       "      <td>float64</td>\n",
       "    </tr>\n",
       "    <tr>\n",
       "      <th>GarageYrBlt</th>\n",
       "      <td>81</td>\n",
       "      <td>5.55</td>\n",
       "      <td>float64</td>\n",
       "    </tr>\n",
       "    <tr>\n",
       "      <th>MasVnrArea</th>\n",
       "      <td>8</td>\n",
       "      <td>0.55</td>\n",
       "      <td>float64</td>\n",
       "    </tr>\n",
       "  </tbody>\n",
       "</table>\n",
       "</div>"
      ],
      "text/plain": [
       "               RowsWithMissingData  PercentageOfDataset DataType\n",
       "EnclosedPorch                 1324                90.68  float64\n",
       "WoodDeckSF                    1305                89.38  float64\n",
       "LotFrontage                    259                17.74  float64\n",
       "GarageFinish                   162                11.10   object\n",
       "BsmtFinType1                   114                 7.81   object\n",
       "BedroomAbvGr                    99                 6.78  float64\n",
       "2ndFlrSF                        86                 5.89  float64\n",
       "GarageYrBlt                     81                 5.55  float64\n",
       "MasVnrArea                       8                 0.55  float64"
      ]
     },
     "execution_count": 11,
     "metadata": {},
     "output_type": "execute_result"
    }
   ],
   "source": [
    "EvaluateMissingData(df)"
   ]
  },
  {
   "cell_type": "code",
   "execution_count": 12,
   "metadata": {},
   "outputs": [
    {
     "data": {
      "text/html": [
       "<div>\n",
       "<style scoped>\n",
       "    .dataframe tbody tr th:only-of-type {\n",
       "        vertical-align: middle;\n",
       "    }\n",
       "\n",
       "    .dataframe tbody tr th {\n",
       "        vertical-align: top;\n",
       "    }\n",
       "\n",
       "    .dataframe thead th {\n",
       "        text-align: right;\n",
       "    }\n",
       "</style>\n",
       "<table border=\"1\" class=\"dataframe\">\n",
       "  <thead>\n",
       "    <tr style=\"text-align: right;\">\n",
       "      <th></th>\n",
       "      <th>RowsWithMissingData</th>\n",
       "      <th>PercentageOfDataset</th>\n",
       "      <th>DataType</th>\n",
       "    </tr>\n",
       "  </thead>\n",
       "  <tbody>\n",
       "  </tbody>\n",
       "</table>\n",
       "</div>"
      ],
      "text/plain": [
       "Empty DataFrame\n",
       "Columns: [RowsWithMissingData, PercentageOfDataset, DataType]\n",
       "Index: []"
      ]
     },
     "execution_count": 12,
     "metadata": {},
     "output_type": "execute_result"
    }
   ],
   "source": [
    "EvaluateMissingData(df_inherited)"
   ]
  },
  {
   "attachments": {},
   "cell_type": "markdown",
   "metadata": {},
   "source": [
    "##### Results of missing data evaluation\n",
    "\n",
    "* As we can see we have 9 columns that contain missing data, with both EnclosedPorch and WoodDeckSF having a hugely significant portion of their data missing.\n",
    "* The other columns do not have nearly as much missing data as the previously mentioned two, however the amount if missing data is still an issue.\n",
    "* The brightside here is that none of the features that were intially flagged as potentially important in the previous notebook appear in this list."
   ]
  },
  {
   "attachments": {},
   "cell_type": "markdown",
   "metadata": {},
   "source": [
    "#### Effects of data cleaning methods\n",
    "\n",
    "* In the previous notebook we completed some very simple data cleaning just to get a rough look at what effect it would have on the features that we identefied as potentally important. We wanted to see there that if after some simple cleaning and engineering whether those features remained the most important.\n",
    "* The above PPS and correlation tests have then reinforced that based on the raw data we collected the top features that look to be able to predict SalePrice are:\n",
    "    1. A large 1st floor square footage. (1stFlrSF)\n",
    "    2. A large garage square footage. (GarageArea)\n",
    "    3. A large above grade (ground) living area square footage. (GrLivArea)\n",
    "    4. A high overall quality. (OverallQual)\n",
    "    5. A large basement square footage. (TotalBsmtSF)\n",
    "    6. A house built more recently. (YearBuilt)\n",
    "\n",
    "\n",
    "* What we shall now look at is a more in-depth look into the effects of different data cleaning methods, The code below has been taken from the Code Institute Lessons relating to Predictive Analytics.\n",
    "    * The below function assess the effect of different data cleaning methods such replacing missing numerical values with the Mean or the Median, and replacing Categorical values with 'Missing' or the most frequently seen value. \n",
    "    * Once we have gone through and cleaned our data producing a new cleaned dataframe we shall use this function to evaluate any significant changes to the original. "
   ]
  },
  {
   "cell_type": "code",
   "execution_count": 13,
   "metadata": {},
   "outputs": [],
   "source": [
    "import seaborn as sns\n",
    "sns.set(style=\"whitegrid\")\n",
    "import matplotlib.pyplot as plt\n",
    "\n",
    "def DataCleaningEffect(df_original,df_cleaned,variables_applied_with_method):\n",
    "\n",
    "  flag_count=1 # Indicate the plot number\n",
    "  \n",
    "  # Distinguish between numerical and categorical variables\n",
    "  categorical_variables = df_original.select_dtypes(exclude=['number']).columns \n",
    "\n",
    "  # scan over the variables, \n",
    "    # first on variables that you applied to the method\n",
    "    # if the variable is numerical plot a histogram, if categorical plot a barplot\n",
    "  for set_of_variables in [variables_applied_with_method]:\n",
    "    print(\"\\n=====================================================================================\")\n",
    "    print(f\"* Distribution Effect Analysis After Data Cleaning Method in the following variables:\")\n",
    "    print(f\"{set_of_variables} \\n\\n\")\n",
    "  \n",
    "\n",
    "    for var in set_of_variables:\n",
    "      if var in categorical_variables:  # it is categorical variable: barplot\n",
    "        \n",
    "        df1 = pd.DataFrame({\"Type\":\"Original\",\"Value\":df_original[var]})\n",
    "        df2 = pd.DataFrame({\"Type\":\"Cleaned\",\"Value\":df_cleaned[var]})\n",
    "        dfAux = pd.concat([df1, df2], axis=0)\n",
    "        fig , axes = plt.subplots(figsize=(15, 5))\n",
    "        sns.countplot(hue='Type', data=dfAux, x=\"Value\",palette=['#432371',\"#FAAE7B\"])\n",
    "        axes.set(title=f\"Distribution Plot {flag_count}: {var}\")\n",
    "        plt.xticks(rotation=90)\n",
    "        plt.legend() \n",
    "\n",
    "      else: # it is numerical variable: histogram\n",
    "\n",
    "        fig , axes = plt.subplots(figsize=(10, 5))\n",
    "        sns.histplot(data=df_original, x=var, color=\"#432371\", label='Original', kde=True,element=\"step\", ax=axes)\n",
    "        sns.histplot(data=df_cleaned, x=var, color=\"#FAAE7B\", label='Cleaned', kde=True,element=\"step\", ax=axes)\n",
    "        axes.set(title=f\"Distribution Plot {flag_count}: {var}\")\n",
    "        plt.legend() \n",
    "\n",
    "      plt.show()\n",
    "      flag_count+= 1"
   ]
  },
  {
   "attachments": {},
   "cell_type": "markdown",
   "metadata": {},
   "source": [
    "___"
   ]
  },
  {
   "attachments": {},
   "cell_type": "markdown",
   "metadata": {},
   "source": [
    "## Data Cleaning"
   ]
  },
  {
   "attachments": {},
   "cell_type": "markdown",
   "metadata": {},
   "source": [
    "* We can start the cleaning process by returning to an earlier function and pulling our columns that contain missing data."
   ]
  },
  {
   "cell_type": "code",
   "execution_count": 14,
   "metadata": {},
   "outputs": [
    {
     "data": {
      "text/html": [
       "<div>\n",
       "<style scoped>\n",
       "    .dataframe tbody tr th:only-of-type {\n",
       "        vertical-align: middle;\n",
       "    }\n",
       "\n",
       "    .dataframe tbody tr th {\n",
       "        vertical-align: top;\n",
       "    }\n",
       "\n",
       "    .dataframe thead th {\n",
       "        text-align: right;\n",
       "    }\n",
       "</style>\n",
       "<table border=\"1\" class=\"dataframe\">\n",
       "  <thead>\n",
       "    <tr style=\"text-align: right;\">\n",
       "      <th></th>\n",
       "      <th>RowsWithMissingData</th>\n",
       "      <th>PercentageOfDataset</th>\n",
       "      <th>DataType</th>\n",
       "    </tr>\n",
       "  </thead>\n",
       "  <tbody>\n",
       "    <tr>\n",
       "      <th>EnclosedPorch</th>\n",
       "      <td>1324</td>\n",
       "      <td>90.68</td>\n",
       "      <td>float64</td>\n",
       "    </tr>\n",
       "    <tr>\n",
       "      <th>WoodDeckSF</th>\n",
       "      <td>1305</td>\n",
       "      <td>89.38</td>\n",
       "      <td>float64</td>\n",
       "    </tr>\n",
       "    <tr>\n",
       "      <th>LotFrontage</th>\n",
       "      <td>259</td>\n",
       "      <td>17.74</td>\n",
       "      <td>float64</td>\n",
       "    </tr>\n",
       "    <tr>\n",
       "      <th>GarageFinish</th>\n",
       "      <td>162</td>\n",
       "      <td>11.10</td>\n",
       "      <td>object</td>\n",
       "    </tr>\n",
       "    <tr>\n",
       "      <th>BsmtFinType1</th>\n",
       "      <td>114</td>\n",
       "      <td>7.81</td>\n",
       "      <td>object</td>\n",
       "    </tr>\n",
       "    <tr>\n",
       "      <th>BedroomAbvGr</th>\n",
       "      <td>99</td>\n",
       "      <td>6.78</td>\n",
       "      <td>float64</td>\n",
       "    </tr>\n",
       "    <tr>\n",
       "      <th>2ndFlrSF</th>\n",
       "      <td>86</td>\n",
       "      <td>5.89</td>\n",
       "      <td>float64</td>\n",
       "    </tr>\n",
       "    <tr>\n",
       "      <th>GarageYrBlt</th>\n",
       "      <td>81</td>\n",
       "      <td>5.55</td>\n",
       "      <td>float64</td>\n",
       "    </tr>\n",
       "    <tr>\n",
       "      <th>MasVnrArea</th>\n",
       "      <td>8</td>\n",
       "      <td>0.55</td>\n",
       "      <td>float64</td>\n",
       "    </tr>\n",
       "  </tbody>\n",
       "</table>\n",
       "</div>"
      ],
      "text/plain": [
       "               RowsWithMissingData  PercentageOfDataset DataType\n",
       "EnclosedPorch                 1324                90.68  float64\n",
       "WoodDeckSF                    1305                89.38  float64\n",
       "LotFrontage                    259                17.74  float64\n",
       "GarageFinish                   162                11.10   object\n",
       "BsmtFinType1                   114                 7.81   object\n",
       "BedroomAbvGr                    99                 6.78  float64\n",
       "2ndFlrSF                        86                 5.89  float64\n",
       "GarageYrBlt                     81                 5.55  float64\n",
       "MasVnrArea                       8                 0.55  float64"
      ]
     },
     "execution_count": 14,
     "metadata": {},
     "output_type": "execute_result"
    }
   ],
   "source": [
    "EvaluateMissingData(df)"
   ]
  },
  {
   "attachments": {},
   "cell_type": "markdown",
   "metadata": {},
   "source": [
    "* As previously stated both EnclosedPorch and WoodDeckSF have an extreamly high percentage of null values. It is therefore not viable to attempt to impute any values in place of these, for this reason we shall be dropping these columns entirely from our dataset.\n",
    "* LotFrontage and GarageFinish also have a high percentage of null values. Both above 10%. They shall not be immediatly dropped without evaluation however as they may still provide insights after data cleaning.\n",
    "* The remaining 5 variables will all be cleaned and evaluated using the function defined above.\n",
    "\n",
    "* It is my assumption that due to the fact none of these variables have been flagged in any data analysis as potentially useful for predicting SalesPrice that after data cleaning they will still prove to be unimportant, however we can not confirm this assumption without performing the relevent data cleaning and subsequent evaluation. The only 2 exceptoions to this are EnclosedPorch and WoodDeckSF. Both of which are float64 variables with 90% null values meaning any mean, median or arbitary number imputation would not be close to a relistic representation of the data and will not aid in our predictions and could even have a negative impact if any."
   ]
  },
  {
   "attachments": {},
   "cell_type": "markdown",
   "metadata": {},
   "source": [
    "#### Data cleaning we will try initially\n",
    "1. Drop - ['EnclosedPorch', 'WoodDeckSF' ]\n",
    "2. Arbitary Number Imputer - ['2ndFlrSF', 'BedroomAbvGr', 'MasVnrArea'] \n",
    "3. Impute the Mean - ['LotFrontage', 'GarageYrBlt' ]\n",
    "4. Impute 'Missing' - ['GarageFinish', 'BsmtFinType1' ]"
   ]
  },
  {
   "attachments": {},
   "cell_type": "markdown",
   "metadata": {},
   "source": [
    "___"
   ]
  },
  {
   "attachments": {},
   "cell_type": "markdown",
   "metadata": {},
   "source": [
    "## Splt the cleaned data"
   ]
  },
  {
   "attachments": {},
   "cell_type": "markdown",
   "metadata": {},
   "source": [
    "The first step when cleaning is to create a copy of our dataset."
   ]
  },
  {
   "cell_type": "code",
   "execution_count": 15,
   "metadata": {},
   "outputs": [
    {
     "name": "stdout",
     "output_type": "stream",
     "text": [
      "(1460, 24)\n"
     ]
    }
   ],
   "source": [
    "df_clean = df.copy()\n",
    "print(df_clean.shape)"
   ]
  },
  {
   "attachments": {},
   "cell_type": "markdown",
   "metadata": {},
   "source": [
    "We then split our original dataset into train and test sets."
   ]
  },
  {
   "cell_type": "code",
   "execution_count": 16,
   "metadata": {},
   "outputs": [
    {
     "name": "stdout",
     "output_type": "stream",
     "text": [
      "TrainSet shape: (1168, 24) \n",
      "TestSet shape: (292, 24)\n"
     ]
    }
   ],
   "source": [
    "from sklearn.model_selection import train_test_split\n",
    "TrainSet, TestSet, _, __ = train_test_split(\n",
    "                                        df,\n",
    "                                        df['SalePrice'],\n",
    "                                        test_size=0.2,\n",
    "                                        random_state=0)\n",
    "\n",
    "print(f\"TrainSet shape: {TrainSet.shape} \\nTestSet shape: {TestSet.shape}\")"
   ]
  },
  {
   "attachments": {},
   "cell_type": "markdown",
   "metadata": {},
   "source": [
    "We can now evaluate the spread of missing values with in the test set that we have just created."
   ]
  },
  {
   "cell_type": "code",
   "execution_count": 17,
   "metadata": {},
   "outputs": [
    {
     "name": "stdout",
     "output_type": "stream",
     "text": [
      "* There are 9 variables with missing data \n",
      "\n"
     ]
    },
    {
     "data": {
      "text/html": [
       "<div>\n",
       "<style scoped>\n",
       "    .dataframe tbody tr th:only-of-type {\n",
       "        vertical-align: middle;\n",
       "    }\n",
       "\n",
       "    .dataframe tbody tr th {\n",
       "        vertical-align: top;\n",
       "    }\n",
       "\n",
       "    .dataframe thead th {\n",
       "        text-align: right;\n",
       "    }\n",
       "</style>\n",
       "<table border=\"1\" class=\"dataframe\">\n",
       "  <thead>\n",
       "    <tr style=\"text-align: right;\">\n",
       "      <th></th>\n",
       "      <th>RowsWithMissingData</th>\n",
       "      <th>PercentageOfDataset</th>\n",
       "      <th>DataType</th>\n",
       "    </tr>\n",
       "  </thead>\n",
       "  <tbody>\n",
       "    <tr>\n",
       "      <th>EnclosedPorch</th>\n",
       "      <td>1056</td>\n",
       "      <td>90.41</td>\n",
       "      <td>float64</td>\n",
       "    </tr>\n",
       "    <tr>\n",
       "      <th>WoodDeckSF</th>\n",
       "      <td>1034</td>\n",
       "      <td>88.53</td>\n",
       "      <td>float64</td>\n",
       "    </tr>\n",
       "    <tr>\n",
       "      <th>LotFrontage</th>\n",
       "      <td>212</td>\n",
       "      <td>18.15</td>\n",
       "      <td>float64</td>\n",
       "    </tr>\n",
       "    <tr>\n",
       "      <th>GarageFinish</th>\n",
       "      <td>131</td>\n",
       "      <td>11.22</td>\n",
       "      <td>object</td>\n",
       "    </tr>\n",
       "    <tr>\n",
       "      <th>BsmtFinType1</th>\n",
       "      <td>89</td>\n",
       "      <td>7.62</td>\n",
       "      <td>object</td>\n",
       "    </tr>\n",
       "    <tr>\n",
       "      <th>BedroomAbvGr</th>\n",
       "      <td>80</td>\n",
       "      <td>6.85</td>\n",
       "      <td>float64</td>\n",
       "    </tr>\n",
       "    <tr>\n",
       "      <th>2ndFlrSF</th>\n",
       "      <td>60</td>\n",
       "      <td>5.14</td>\n",
       "      <td>float64</td>\n",
       "    </tr>\n",
       "    <tr>\n",
       "      <th>GarageYrBlt</th>\n",
       "      <td>58</td>\n",
       "      <td>4.97</td>\n",
       "      <td>float64</td>\n",
       "    </tr>\n",
       "    <tr>\n",
       "      <th>MasVnrArea</th>\n",
       "      <td>6</td>\n",
       "      <td>0.51</td>\n",
       "      <td>float64</td>\n",
       "    </tr>\n",
       "  </tbody>\n",
       "</table>\n",
       "</div>"
      ],
      "text/plain": [
       "               RowsWithMissingData  PercentageOfDataset DataType\n",
       "EnclosedPorch                 1056                90.41  float64\n",
       "WoodDeckSF                    1034                88.53  float64\n",
       "LotFrontage                    212                18.15  float64\n",
       "GarageFinish                   131                11.22   object\n",
       "BsmtFinType1                    89                 7.62   object\n",
       "BedroomAbvGr                    80                 6.85  float64\n",
       "2ndFlrSF                        60                 5.14  float64\n",
       "GarageYrBlt                     58                 4.97  float64\n",
       "MasVnrArea                       6                 0.51  float64"
      ]
     },
     "execution_count": 17,
     "metadata": {},
     "output_type": "execute_result"
    }
   ],
   "source": [
    "df_missing_data = EvaluateMissingData(TrainSet)\n",
    "print(f\"* There are {df_missing_data.shape[0]} variables with missing data \\n\")\n",
    "df_missing_data"
   ]
  },
  {
   "attachments": {},
   "cell_type": "markdown",
   "metadata": {},
   "source": [
    "* Upon reviweing the test set we can see the split is extrealy similar to the split of the raw data. As expected the same 9 variables have been flagged with a slight decrease in the the percantage of missing data, however we still see theat EnclosedPorch and WoodDeckSF have 90.41% and 88.53% missing data respectivly so we shall copntinue to work on the assumption that they will be of no help in answering the business requiremets and will be dropped due to this."
   ]
  },
  {
   "attachments": {},
   "cell_type": "markdown",
   "metadata": {},
   "source": [
    "___"
   ]
  },
  {
   "attachments": {},
   "cell_type": "markdown",
   "metadata": {},
   "source": [
    "### Step 1 of data cleaning\n",
    "\n",
    "* As stated above we want to drop EnclosedPorch and WoodDeckSF as they have a large majority of null values and will likely not effect our predictions in any meaningful way.\n",
    "* In order to achieve this we will run the following code, utilising the DropFeatures meathod from feature_engine and will apply this change to both the train and test set."
   ]
  },
  {
   "cell_type": "code",
   "execution_count": 18,
   "metadata": {},
   "outputs": [
    {
     "data": {
      "text/html": [
       "<div>\n",
       "<style scoped>\n",
       "    .dataframe tbody tr th:only-of-type {\n",
       "        vertical-align: middle;\n",
       "    }\n",
       "\n",
       "    .dataframe tbody tr th {\n",
       "        vertical-align: top;\n",
       "    }\n",
       "\n",
       "    .dataframe thead th {\n",
       "        text-align: right;\n",
       "    }\n",
       "</style>\n",
       "<table border=\"1\" class=\"dataframe\">\n",
       "  <thead>\n",
       "    <tr style=\"text-align: right;\">\n",
       "      <th></th>\n",
       "      <th>1stFlrSF</th>\n",
       "      <th>2ndFlrSF</th>\n",
       "      <th>BedroomAbvGr</th>\n",
       "      <th>BsmtExposure</th>\n",
       "      <th>BsmtFinSF1</th>\n",
       "      <th>BsmtFinType1</th>\n",
       "      <th>BsmtUnfSF</th>\n",
       "      <th>GarageArea</th>\n",
       "      <th>GarageFinish</th>\n",
       "      <th>GarageYrBlt</th>\n",
       "      <th>GrLivArea</th>\n",
       "      <th>KitchenQual</th>\n",
       "      <th>LotArea</th>\n",
       "      <th>LotFrontage</th>\n",
       "      <th>MasVnrArea</th>\n",
       "      <th>OpenPorchSF</th>\n",
       "      <th>OverallCond</th>\n",
       "      <th>OverallQual</th>\n",
       "      <th>TotalBsmtSF</th>\n",
       "      <th>YearBuilt</th>\n",
       "      <th>YearRemodAdd</th>\n",
       "      <th>SalePrice</th>\n",
       "    </tr>\n",
       "  </thead>\n",
       "  <tbody>\n",
       "    <tr>\n",
       "      <th>529</th>\n",
       "      <td>2515</td>\n",
       "      <td>0.0</td>\n",
       "      <td>4.0</td>\n",
       "      <td>No</td>\n",
       "      <td>1219</td>\n",
       "      <td>Rec</td>\n",
       "      <td>816</td>\n",
       "      <td>484</td>\n",
       "      <td>NaN</td>\n",
       "      <td>1975.0</td>\n",
       "      <td>2515</td>\n",
       "      <td>TA</td>\n",
       "      <td>32668</td>\n",
       "      <td>NaN</td>\n",
       "      <td>NaN</td>\n",
       "      <td>0</td>\n",
       "      <td>3</td>\n",
       "      <td>6</td>\n",
       "      <td>2035</td>\n",
       "      <td>1957</td>\n",
       "      <td>1975</td>\n",
       "      <td>200624</td>\n",
       "    </tr>\n",
       "    <tr>\n",
       "      <th>491</th>\n",
       "      <td>958</td>\n",
       "      <td>620.0</td>\n",
       "      <td>3.0</td>\n",
       "      <td>No</td>\n",
       "      <td>403</td>\n",
       "      <td>BLQ</td>\n",
       "      <td>238</td>\n",
       "      <td>240</td>\n",
       "      <td>Unf</td>\n",
       "      <td>1941.0</td>\n",
       "      <td>1578</td>\n",
       "      <td>Fa</td>\n",
       "      <td>9490</td>\n",
       "      <td>79.0</td>\n",
       "      <td>0.0</td>\n",
       "      <td>0</td>\n",
       "      <td>7</td>\n",
       "      <td>6</td>\n",
       "      <td>806</td>\n",
       "      <td>1941</td>\n",
       "      <td>1950</td>\n",
       "      <td>133000</td>\n",
       "    </tr>\n",
       "    <tr>\n",
       "      <th>459</th>\n",
       "      <td>979</td>\n",
       "      <td>224.0</td>\n",
       "      <td>3.0</td>\n",
       "      <td>No</td>\n",
       "      <td>185</td>\n",
       "      <td>LwQ</td>\n",
       "      <td>524</td>\n",
       "      <td>352</td>\n",
       "      <td>Unf</td>\n",
       "      <td>1950.0</td>\n",
       "      <td>1203</td>\n",
       "      <td>Gd</td>\n",
       "      <td>7015</td>\n",
       "      <td>NaN</td>\n",
       "      <td>161.0</td>\n",
       "      <td>0</td>\n",
       "      <td>4</td>\n",
       "      <td>5</td>\n",
       "      <td>709</td>\n",
       "      <td>1950</td>\n",
       "      <td>1950</td>\n",
       "      <td>110000</td>\n",
       "    </tr>\n",
       "    <tr>\n",
       "      <th>279</th>\n",
       "      <td>1156</td>\n",
       "      <td>866.0</td>\n",
       "      <td>4.0</td>\n",
       "      <td>No</td>\n",
       "      <td>392</td>\n",
       "      <td>BLQ</td>\n",
       "      <td>768</td>\n",
       "      <td>505</td>\n",
       "      <td>Fin</td>\n",
       "      <td>1977.0</td>\n",
       "      <td>2022</td>\n",
       "      <td>TA</td>\n",
       "      <td>10005</td>\n",
       "      <td>83.0</td>\n",
       "      <td>299.0</td>\n",
       "      <td>117</td>\n",
       "      <td>5</td>\n",
       "      <td>7</td>\n",
       "      <td>1160</td>\n",
       "      <td>1977</td>\n",
       "      <td>1977</td>\n",
       "      <td>192000</td>\n",
       "    </tr>\n",
       "    <tr>\n",
       "      <th>655</th>\n",
       "      <td>525</td>\n",
       "      <td>NaN</td>\n",
       "      <td>3.0</td>\n",
       "      <td>No</td>\n",
       "      <td>0</td>\n",
       "      <td>Unf</td>\n",
       "      <td>525</td>\n",
       "      <td>264</td>\n",
       "      <td>Unf</td>\n",
       "      <td>1971.0</td>\n",
       "      <td>1092</td>\n",
       "      <td>TA</td>\n",
       "      <td>1680</td>\n",
       "      <td>21.0</td>\n",
       "      <td>381.0</td>\n",
       "      <td>0</td>\n",
       "      <td>5</td>\n",
       "      <td>6</td>\n",
       "      <td>525</td>\n",
       "      <td>1971</td>\n",
       "      <td>1971</td>\n",
       "      <td>88000</td>\n",
       "    </tr>\n",
       "  </tbody>\n",
       "</table>\n",
       "</div>"
      ],
      "text/plain": [
       "     1stFlrSF  2ndFlrSF  BedroomAbvGr BsmtExposure  BsmtFinSF1 BsmtFinType1  \\\n",
       "529      2515       0.0           4.0           No        1219          Rec   \n",
       "491       958     620.0           3.0           No         403          BLQ   \n",
       "459       979     224.0           3.0           No         185          LwQ   \n",
       "279      1156     866.0           4.0           No         392          BLQ   \n",
       "655       525       NaN           3.0           No           0          Unf   \n",
       "\n",
       "     BsmtUnfSF  GarageArea GarageFinish  GarageYrBlt  GrLivArea KitchenQual  \\\n",
       "529        816         484          NaN       1975.0       2515          TA   \n",
       "491        238         240          Unf       1941.0       1578          Fa   \n",
       "459        524         352          Unf       1950.0       1203          Gd   \n",
       "279        768         505          Fin       1977.0       2022          TA   \n",
       "655        525         264          Unf       1971.0       1092          TA   \n",
       "\n",
       "     LotArea  LotFrontage  MasVnrArea  OpenPorchSF  OverallCond  OverallQual  \\\n",
       "529    32668          NaN         NaN            0            3            6   \n",
       "491     9490         79.0         0.0            0            7            6   \n",
       "459     7015          NaN       161.0            0            4            5   \n",
       "279    10005         83.0       299.0          117            5            7   \n",
       "655     1680         21.0       381.0            0            5            6   \n",
       "\n",
       "     TotalBsmtSF  YearBuilt  YearRemodAdd  SalePrice  \n",
       "529         2035       1957          1975     200624  \n",
       "491          806       1941          1950     133000  \n",
       "459          709       1950          1950     110000  \n",
       "279         1160       1977          1977     192000  \n",
       "655          525       1971          1971      88000  "
      ]
     },
     "execution_count": 18,
     "metadata": {},
     "output_type": "execute_result"
    }
   ],
   "source": [
    "from feature_engine.selection import DropFeatures\n",
    "variables = ['EnclosedPorch', 'WoodDeckSF']\n",
    "imputer = DropFeatures(features_to_drop=variables)\n",
    "imputer.fit(TrainSet)\n",
    "TrainSet, TestSet = imputer.transform(TrainSet), imputer.transform(TestSet)\n",
    "TestSet.head()"
   ]
  },
  {
   "cell_type": "code",
   "execution_count": 19,
   "metadata": {},
   "outputs": [],
   "source": [
    "df_clean = imputer.transform(df_clean)"
   ]
  },
  {
   "attachments": {},
   "cell_type": "markdown",
   "metadata": {},
   "source": [
    "We can check again that our code worked by placing all columns with null values into a list, as we can see EnclosedPorch and WoodDeckSF are no longer present as they have been dropped."
   ]
  },
  {
   "cell_type": "code",
   "execution_count": 20,
   "metadata": {},
   "outputs": [
    {
     "name": "stdout",
     "output_type": "stream",
     "text": [
      "['2ndFlrSF', 'BedroomAbvGr', 'BsmtFinType1', 'GarageFinish', 'GarageYrBlt', 'LotFrontage', 'MasVnrArea']\n"
     ]
    }
   ],
   "source": [
    "\n",
    "null_variables = TrainSet.columns[TrainSet.isnull().any()].tolist()\n",
    "print(null_variables)"
   ]
  },
  {
   "cell_type": "code",
   "execution_count": 21,
   "metadata": {},
   "outputs": [
    {
     "data": {
      "text/html": [
       "<div>\n",
       "<style scoped>\n",
       "    .dataframe tbody tr th:only-of-type {\n",
       "        vertical-align: middle;\n",
       "    }\n",
       "\n",
       "    .dataframe tbody tr th {\n",
       "        vertical-align: top;\n",
       "    }\n",
       "\n",
       "    .dataframe thead th {\n",
       "        text-align: right;\n",
       "    }\n",
       "</style>\n",
       "<table border=\"1\" class=\"dataframe\">\n",
       "  <thead>\n",
       "    <tr style=\"text-align: right;\">\n",
       "      <th></th>\n",
       "      <th>RowsWithMissingData</th>\n",
       "      <th>PercentageOfDataset</th>\n",
       "      <th>DataType</th>\n",
       "    </tr>\n",
       "  </thead>\n",
       "  <tbody>\n",
       "    <tr>\n",
       "      <th>LotFrontage</th>\n",
       "      <td>259</td>\n",
       "      <td>17.74</td>\n",
       "      <td>float64</td>\n",
       "    </tr>\n",
       "    <tr>\n",
       "      <th>GarageFinish</th>\n",
       "      <td>162</td>\n",
       "      <td>11.10</td>\n",
       "      <td>object</td>\n",
       "    </tr>\n",
       "    <tr>\n",
       "      <th>BsmtFinType1</th>\n",
       "      <td>114</td>\n",
       "      <td>7.81</td>\n",
       "      <td>object</td>\n",
       "    </tr>\n",
       "    <tr>\n",
       "      <th>BedroomAbvGr</th>\n",
       "      <td>99</td>\n",
       "      <td>6.78</td>\n",
       "      <td>float64</td>\n",
       "    </tr>\n",
       "    <tr>\n",
       "      <th>2ndFlrSF</th>\n",
       "      <td>86</td>\n",
       "      <td>5.89</td>\n",
       "      <td>float64</td>\n",
       "    </tr>\n",
       "    <tr>\n",
       "      <th>GarageYrBlt</th>\n",
       "      <td>81</td>\n",
       "      <td>5.55</td>\n",
       "      <td>float64</td>\n",
       "    </tr>\n",
       "    <tr>\n",
       "      <th>MasVnrArea</th>\n",
       "      <td>8</td>\n",
       "      <td>0.55</td>\n",
       "      <td>float64</td>\n",
       "    </tr>\n",
       "  </tbody>\n",
       "</table>\n",
       "</div>"
      ],
      "text/plain": [
       "              RowsWithMissingData  PercentageOfDataset DataType\n",
       "LotFrontage                   259                17.74  float64\n",
       "GarageFinish                  162                11.10   object\n",
       "BsmtFinType1                  114                 7.81   object\n",
       "BedroomAbvGr                   99                 6.78  float64\n",
       "2ndFlrSF                       86                 5.89  float64\n",
       "GarageYrBlt                    81                 5.55  float64\n",
       "MasVnrArea                      8                 0.55  float64"
      ]
     },
     "execution_count": 21,
     "metadata": {},
     "output_type": "execute_result"
    }
   ],
   "source": [
    "EvaluateMissingData(df_clean)"
   ]
  },
  {
   "attachments": {},
   "cell_type": "markdown",
   "metadata": {},
   "source": [
    "___"
   ]
  },
  {
   "attachments": {},
   "cell_type": "markdown",
   "metadata": {},
   "source": [
    "### Step 2 of Data cleaning"
   ]
  },
  {
   "attachments": {},
   "cell_type": "markdown",
   "metadata": {},
   "source": [
    "As stated above we have a large list of columns all of which were float64 variables, that we, as a base defined imputing the mean as a potential solution. However uponm inspection of the data, we can deduce that imputing the mean my not be the most optimum solution.\n",
    "The float64 variables are: ['2ndFlrSF', 'BedroomAbvGr', 'GarageYrBlt', 'LotFrontage', 'MasVnrArea'] "
   ]
  },
  {
   "attachments": {},
   "cell_type": "markdown",
   "metadata": {},
   "source": [
    "After looking closly at the raw data set we can make some assumptions about the missing data which will help in our data cleaning.\n",
    "* The first thing I noticed when looking more deeply into our data is that 2ndFlrSF has a very large amount of 0 values (626 rows). We can assume this is due to the propertty being a bungalow and therefore having no second floor area. Further more the null value count is relativy low (60 rows), for this reason we can safely assume that if we convert our null values to 0 values we will not negatively impact our data.\n",
    "* Secondly BedroomAbvGr is a grading system of bedrooms from 0-8. On first impressions it looks like there is no accurate way to remove the null values, our heat map shows that there are no other variables with the ability to predict BedroomAbvGr and imputing the mean or median would be inaccurate and could negatively effect our predictions. However when we look at our Inherited_df (the data we want to predict). We can see that all the houses have an BedroomAbvGr > 0. Due to this we can set all our null values to 0 using ArbitaryNumberImputer just like 2nfFlrSF.\n",
    "* Thirdly MasVnrArea follows a very similar trend to 2ndFlrSF. It has a very high count of 0 values. Which to me indicates that these houses have no Masonry Veneer. Furthermore in terms of the null value count there are only 8 rows with null values. Due to these reasons and the fact that the heat map showed no predictive power for MasVnrArea I am confident we may also impute 0 for null values in this field without negatively impacting our predictions."
   ]
  },
  {
   "cell_type": "code",
   "execution_count": 22,
   "metadata": {},
   "outputs": [
    {
     "data": {
      "text/plain": [
       "0.0       626\n",
       "110.0       1\n",
       "167.0       1\n",
       "192.0       1\n",
       "208.0       1\n",
       "         ... \n",
       "1540.0      1\n",
       "1611.0      1\n",
       "1796.0      1\n",
       "1818.0      1\n",
       "1872.0      1\n",
       "Name: 2ndFlrSF, Length: 345, dtype: int64"
      ]
     },
     "execution_count": 22,
     "metadata": {},
     "output_type": "execute_result"
    }
   ],
   "source": [
    "TrainSet['2ndFlrSF'].value_counts().sort_index()"
   ]
  },
  {
   "cell_type": "code",
   "execution_count": 23,
   "metadata": {},
   "outputs": [
    {
     "data": {
      "text/plain": [
       "0.0      4\n",
       "1.0     32\n",
       "2.0    266\n",
       "3.0    599\n",
       "4.0    166\n",
       "5.0     16\n",
       "6.0      4\n",
       "8.0      1\n",
       "Name: BedroomAbvGr, dtype: int64"
      ]
     },
     "execution_count": 23,
     "metadata": {},
     "output_type": "execute_result"
    }
   ],
   "source": [
    "TrainSet['BedroomAbvGr'].value_counts().sort_index()"
   ]
  },
  {
   "cell_type": "code",
   "execution_count": 24,
   "metadata": {},
   "outputs": [
    {
     "data": {
      "text/plain": [
       "0.0       698\n",
       "1.0         2\n",
       "11.0        1\n",
       "14.0        1\n",
       "16.0        7\n",
       "         ... \n",
       "1115.0      1\n",
       "1129.0      1\n",
       "1170.0      1\n",
       "1378.0      1\n",
       "1600.0      1\n",
       "Name: MasVnrArea, Length: 282, dtype: int64"
      ]
     },
     "execution_count": 24,
     "metadata": {},
     "output_type": "execute_result"
    }
   ],
   "source": [
    "TrainSet['MasVnrArea'].value_counts().sort_index()"
   ]
  },
  {
   "cell_type": "code",
   "execution_count": 25,
   "metadata": {},
   "outputs": [
    {
     "data": {
      "text/html": [
       "<div>\n",
       "<style scoped>\n",
       "    .dataframe tbody tr th:only-of-type {\n",
       "        vertical-align: middle;\n",
       "    }\n",
       "\n",
       "    .dataframe tbody tr th {\n",
       "        vertical-align: top;\n",
       "    }\n",
       "\n",
       "    .dataframe thead th {\n",
       "        text-align: right;\n",
       "    }\n",
       "</style>\n",
       "<table border=\"1\" class=\"dataframe\">\n",
       "  <thead>\n",
       "    <tr style=\"text-align: right;\">\n",
       "      <th></th>\n",
       "      <th>RowsWithMissingData</th>\n",
       "      <th>PercentageOfDataset</th>\n",
       "      <th>DataType</th>\n",
       "    </tr>\n",
       "  </thead>\n",
       "  <tbody>\n",
       "    <tr>\n",
       "      <th>LotFrontage</th>\n",
       "      <td>212</td>\n",
       "      <td>18.15</td>\n",
       "      <td>float64</td>\n",
       "    </tr>\n",
       "    <tr>\n",
       "      <th>GarageFinish</th>\n",
       "      <td>131</td>\n",
       "      <td>11.22</td>\n",
       "      <td>object</td>\n",
       "    </tr>\n",
       "    <tr>\n",
       "      <th>BsmtFinType1</th>\n",
       "      <td>89</td>\n",
       "      <td>7.62</td>\n",
       "      <td>object</td>\n",
       "    </tr>\n",
       "    <tr>\n",
       "      <th>GarageYrBlt</th>\n",
       "      <td>58</td>\n",
       "      <td>4.97</td>\n",
       "      <td>float64</td>\n",
       "    </tr>\n",
       "  </tbody>\n",
       "</table>\n",
       "</div>"
      ],
      "text/plain": [
       "              RowsWithMissingData  PercentageOfDataset DataType\n",
       "LotFrontage                   212                18.15  float64\n",
       "GarageFinish                  131                11.22   object\n",
       "BsmtFinType1                   89                 7.62   object\n",
       "GarageYrBlt                    58                 4.97  float64"
      ]
     },
     "execution_count": 25,
     "metadata": {},
     "output_type": "execute_result"
    }
   ],
   "source": [
    "pipeline = Pipeline([\n",
    "    ('2ndFlrSF_BedrromAbvGr_MasVnrArea', ArbitraryNumberImputer(arbitrary_number=0, variables=['2ndFlrSF', 'BedroomAbvGr', 'MasVnrArea']))\n",
    "])\n",
    "pipeline.fit(TrainSet)\n",
    "TrainSet, TestSet = pipeline.transform(TrainSet), pipeline.transform(TestSet)\n",
    "df_clean = pipeline.transform(df_clean)\n",
    "EvaluateMissingData(TrainSet)"
   ]
  },
  {
   "attachments": {},
   "cell_type": "markdown",
   "metadata": {},
   "source": [
    "As we can see when we evaluate missing data in our train set 2ndFlrSF, BedroomAbvGr and MasVnrArea are no longer present. To double check our pipeline worked we will also check the missing values in our clean dataframe."
   ]
  },
  {
   "cell_type": "code",
   "execution_count": 26,
   "metadata": {},
   "outputs": [
    {
     "data": {
      "text/html": [
       "<div>\n",
       "<style scoped>\n",
       "    .dataframe tbody tr th:only-of-type {\n",
       "        vertical-align: middle;\n",
       "    }\n",
       "\n",
       "    .dataframe tbody tr th {\n",
       "        vertical-align: top;\n",
       "    }\n",
       "\n",
       "    .dataframe thead th {\n",
       "        text-align: right;\n",
       "    }\n",
       "</style>\n",
       "<table border=\"1\" class=\"dataframe\">\n",
       "  <thead>\n",
       "    <tr style=\"text-align: right;\">\n",
       "      <th></th>\n",
       "      <th>RowsWithMissingData</th>\n",
       "      <th>PercentageOfDataset</th>\n",
       "      <th>DataType</th>\n",
       "    </tr>\n",
       "  </thead>\n",
       "  <tbody>\n",
       "    <tr>\n",
       "      <th>LotFrontage</th>\n",
       "      <td>259</td>\n",
       "      <td>17.74</td>\n",
       "      <td>float64</td>\n",
       "    </tr>\n",
       "    <tr>\n",
       "      <th>GarageFinish</th>\n",
       "      <td>162</td>\n",
       "      <td>11.10</td>\n",
       "      <td>object</td>\n",
       "    </tr>\n",
       "    <tr>\n",
       "      <th>BsmtFinType1</th>\n",
       "      <td>114</td>\n",
       "      <td>7.81</td>\n",
       "      <td>object</td>\n",
       "    </tr>\n",
       "    <tr>\n",
       "      <th>GarageYrBlt</th>\n",
       "      <td>81</td>\n",
       "      <td>5.55</td>\n",
       "      <td>float64</td>\n",
       "    </tr>\n",
       "  </tbody>\n",
       "</table>\n",
       "</div>"
      ],
      "text/plain": [
       "              RowsWithMissingData  PercentageOfDataset DataType\n",
       "LotFrontage                   259                17.74  float64\n",
       "GarageFinish                  162                11.10   object\n",
       "BsmtFinType1                  114                 7.81   object\n",
       "GarageYrBlt                    81                 5.55  float64"
      ]
     },
     "execution_count": 26,
     "metadata": {},
     "output_type": "execute_result"
    }
   ],
   "source": [
    "EvaluateMissingData(df_clean)"
   ]
  },
  {
   "attachments": {},
   "cell_type": "markdown",
   "metadata": {},
   "source": [
    "___"
   ]
  },
  {
   "attachments": {},
   "cell_type": "markdown",
   "metadata": {},
   "source": [
    "### Step 3 of Data cleaning"
   ]
  },
  {
   "attachments": {},
   "cell_type": "markdown",
   "metadata": {},
   "source": [
    "As we can see we have 4 columns left that conntain null values and require cleaning. The next one that I belive will be easily sorted is LotFrontage."
   ]
  },
  {
   "cell_type": "code",
   "execution_count": 27,
   "metadata": {},
   "outputs": [
    {
     "data": {
      "text/plain": [
       "21.0     17\n",
       "24.0     16\n",
       "30.0      6\n",
       "32.0      4\n",
       "33.0      1\n",
       "         ..\n",
       "153.0     1\n",
       "168.0     1\n",
       "174.0     1\n",
       "182.0     1\n",
       "313.0     1\n",
       "Name: LotFrontage, Length: 104, dtype: int64"
      ]
     },
     "execution_count": 27,
     "metadata": {},
     "output_type": "execute_result"
    }
   ],
   "source": [
    "TrainSet['LotFrontage'].value_counts().sort_index()"
   ]
  },
  {
   "attachments": {},
   "cell_type": "markdown",
   "metadata": {},
   "source": [
    "Looking at the LotFrontage data we can see it contains 212 rows of missing data. (Just under 18%)\n",
    "The values range from 21.0 to 313.0. If we go back and look at the Pandas Profiling report we can see that the mean is 70.05 if we round to 2 decimal places and it has no 0 values. My first impression is to use to Impute the mean using MeanMedainImputer to all null values. Again we can see from the heat map LotFrontage holds no predictive power so we shouldn't have to worry about negative impacts to our predictions. "
   ]
  },
  {
   "cell_type": "code",
   "execution_count": 30,
   "metadata": {},
   "outputs": [
    {
     "data": {
      "text/html": [
       "<div>\n",
       "<style scoped>\n",
       "    .dataframe tbody tr th:only-of-type {\n",
       "        vertical-align: middle;\n",
       "    }\n",
       "\n",
       "    .dataframe tbody tr th {\n",
       "        vertical-align: top;\n",
       "    }\n",
       "\n",
       "    .dataframe thead th {\n",
       "        text-align: right;\n",
       "    }\n",
       "</style>\n",
       "<table border=\"1\" class=\"dataframe\">\n",
       "  <thead>\n",
       "    <tr style=\"text-align: right;\">\n",
       "      <th></th>\n",
       "      <th>RowsWithMissingData</th>\n",
       "      <th>PercentageOfDataset</th>\n",
       "      <th>DataType</th>\n",
       "    </tr>\n",
       "  </thead>\n",
       "  <tbody>\n",
       "    <tr>\n",
       "      <th>GarageFinish</th>\n",
       "      <td>131</td>\n",
       "      <td>11.22</td>\n",
       "      <td>object</td>\n",
       "    </tr>\n",
       "    <tr>\n",
       "      <th>BsmtFinType1</th>\n",
       "      <td>89</td>\n",
       "      <td>7.62</td>\n",
       "      <td>object</td>\n",
       "    </tr>\n",
       "    <tr>\n",
       "      <th>GarageYrBlt</th>\n",
       "      <td>58</td>\n",
       "      <td>4.97</td>\n",
       "      <td>float64</td>\n",
       "    </tr>\n",
       "  </tbody>\n",
       "</table>\n",
       "</div>"
      ],
      "text/plain": [
       "              RowsWithMissingData  PercentageOfDataset DataType\n",
       "GarageFinish                  131                11.22   object\n",
       "BsmtFinType1                   89                 7.62   object\n",
       "GarageYrBlt                    58                 4.97  float64"
      ]
     },
     "execution_count": 30,
     "metadata": {},
     "output_type": "execute_result"
    }
   ],
   "source": [
    "mean_imputer = MeanMedianImputer(imputation_method='mean', variables=['LotFrontage'])\n",
    "mean_imputer.fit(TrainSet)\n",
    "TrainSet, TestSet = mean_imputer.transform(TrainSet), mean_imputer.transform(TestSet)\n",
    "df_clean = mean_imputer.transform(df_clean)\n",
    "EvaluateMissingData(TrainSet)\n"
   ]
  },
  {
   "attachments": {},
   "cell_type": "markdown",
   "metadata": {},
   "source": [
    "Again upon inspection we can see our last 3 variables that contain null values, indicting our code worked on LotFrontage. We will test again though on the clean dataframe."
   ]
  },
  {
   "cell_type": "code",
   "execution_count": 32,
   "metadata": {},
   "outputs": [
    {
     "data": {
      "text/html": [
       "<div>\n",
       "<style scoped>\n",
       "    .dataframe tbody tr th:only-of-type {\n",
       "        vertical-align: middle;\n",
       "    }\n",
       "\n",
       "    .dataframe tbody tr th {\n",
       "        vertical-align: top;\n",
       "    }\n",
       "\n",
       "    .dataframe thead th {\n",
       "        text-align: right;\n",
       "    }\n",
       "</style>\n",
       "<table border=\"1\" class=\"dataframe\">\n",
       "  <thead>\n",
       "    <tr style=\"text-align: right;\">\n",
       "      <th></th>\n",
       "      <th>RowsWithMissingData</th>\n",
       "      <th>PercentageOfDataset</th>\n",
       "      <th>DataType</th>\n",
       "    </tr>\n",
       "  </thead>\n",
       "  <tbody>\n",
       "    <tr>\n",
       "      <th>GarageFinish</th>\n",
       "      <td>162</td>\n",
       "      <td>11.10</td>\n",
       "      <td>object</td>\n",
       "    </tr>\n",
       "    <tr>\n",
       "      <th>BsmtFinType1</th>\n",
       "      <td>114</td>\n",
       "      <td>7.81</td>\n",
       "      <td>object</td>\n",
       "    </tr>\n",
       "    <tr>\n",
       "      <th>GarageYrBlt</th>\n",
       "      <td>81</td>\n",
       "      <td>5.55</td>\n",
       "      <td>float64</td>\n",
       "    </tr>\n",
       "  </tbody>\n",
       "</table>\n",
       "</div>"
      ],
      "text/plain": [
       "              RowsWithMissingData  PercentageOfDataset DataType\n",
       "GarageFinish                  162                11.10   object\n",
       "BsmtFinType1                  114                 7.81   object\n",
       "GarageYrBlt                    81                 5.55  float64"
      ]
     },
     "execution_count": 32,
     "metadata": {},
     "output_type": "execute_result"
    }
   ],
   "source": [
    "EvaluateMissingData(df_clean)"
   ]
  },
  {
   "attachments": {},
   "cell_type": "markdown",
   "metadata": {},
   "source": [
    "___"
   ]
  },
  {
   "attachments": {},
   "cell_type": "markdown",
   "metadata": {},
   "source": [
    "### Step 4 of Data cleaning"
   ]
  },
  {
   "attachments": {},
   "cell_type": "markdown",
   "metadata": {},
   "source": [
    "The next variable to look at is BsmtFinType1 which is an object variable refering to the state of the basement that is finished. The first thing to do is inspect the varible itself. We already know that within our test set there are 89 rows containing missing data. We also know that from reviewing the heatmap that BsmtFinSF1 could be used to predict BsmtFinType1. We also have a lot of other variables that refer to the basement. For example TotalBsmtSF, it stands to reason that any house with a TotalBsmtSF that equals 0 does not have a basement. Therefore The BsmtFinType1 should equal 'None', we can query this and make sure this is true."
   ]
  },
  {
   "cell_type": "code",
   "execution_count": 33,
   "metadata": {},
   "outputs": [
    {
     "data": {
      "text/plain": [
       "ALQ     159\n",
       "BLQ     114\n",
       "GLQ     303\n",
       "LwQ      52\n",
       "None     25\n",
       "Rec     100\n",
       "Unf     326\n",
       "Name: BsmtFinType1, dtype: int64"
      ]
     },
     "execution_count": 33,
     "metadata": {},
     "output_type": "execute_result"
    }
   ],
   "source": [
    "\n",
    "TrainSet['BsmtFinType1'].value_counts().sort_index()"
   ]
  },
  {
   "cell_type": "code",
   "execution_count": 35,
   "metadata": {},
   "outputs": [
    {
     "data": {
      "text/html": [
       "<div>\n",
       "<style scoped>\n",
       "    .dataframe tbody tr th:only-of-type {\n",
       "        vertical-align: middle;\n",
       "    }\n",
       "\n",
       "    .dataframe tbody tr th {\n",
       "        vertical-align: top;\n",
       "    }\n",
       "\n",
       "    .dataframe thead th {\n",
       "        text-align: right;\n",
       "    }\n",
       "</style>\n",
       "<table border=\"1\" class=\"dataframe\">\n",
       "  <thead>\n",
       "    <tr style=\"text-align: right;\">\n",
       "      <th></th>\n",
       "      <th>1stFlrSF</th>\n",
       "      <th>2ndFlrSF</th>\n",
       "      <th>BedroomAbvGr</th>\n",
       "      <th>BsmtExposure</th>\n",
       "      <th>BsmtFinSF1</th>\n",
       "      <th>BsmtFinType1</th>\n",
       "      <th>BsmtUnfSF</th>\n",
       "      <th>GarageArea</th>\n",
       "      <th>GarageFinish</th>\n",
       "      <th>GarageYrBlt</th>\n",
       "      <th>GrLivArea</th>\n",
       "      <th>KitchenQual</th>\n",
       "      <th>LotArea</th>\n",
       "      <th>LotFrontage</th>\n",
       "      <th>MasVnrArea</th>\n",
       "      <th>OpenPorchSF</th>\n",
       "      <th>OverallCond</th>\n",
       "      <th>OverallQual</th>\n",
       "      <th>TotalBsmtSF</th>\n",
       "      <th>YearBuilt</th>\n",
       "      <th>YearRemodAdd</th>\n",
       "      <th>SalePrice</th>\n",
       "    </tr>\n",
       "  </thead>\n",
       "  <tbody>\n",
       "    <tr>\n",
       "      <th>90</th>\n",
       "      <td>1040</td>\n",
       "      <td>0.0</td>\n",
       "      <td>2.0</td>\n",
       "      <td>None</td>\n",
       "      <td>0</td>\n",
       "      <td>NaN</td>\n",
       "      <td>0</td>\n",
       "      <td>420</td>\n",
       "      <td>Unf</td>\n",
       "      <td>1950.0</td>\n",
       "      <td>1040</td>\n",
       "      <td>TA</td>\n",
       "      <td>7200</td>\n",
       "      <td>60.0</td>\n",
       "      <td>0.0</td>\n",
       "      <td>29</td>\n",
       "      <td>5</td>\n",
       "      <td>4</td>\n",
       "      <td>0</td>\n",
       "      <td>1950</td>\n",
       "      <td>1950</td>\n",
       "      <td>109900</td>\n",
       "    </tr>\n",
       "    <tr>\n",
       "      <th>736</th>\n",
       "      <td>1040</td>\n",
       "      <td>0.0</td>\n",
       "      <td>2.0</td>\n",
       "      <td>None</td>\n",
       "      <td>0</td>\n",
       "      <td>NaN</td>\n",
       "      <td>0</td>\n",
       "      <td>400</td>\n",
       "      <td>Unf</td>\n",
       "      <td>1949.0</td>\n",
       "      <td>1040</td>\n",
       "      <td>TA</td>\n",
       "      <td>8544</td>\n",
       "      <td>60.0</td>\n",
       "      <td>0.0</td>\n",
       "      <td>0</td>\n",
       "      <td>4</td>\n",
       "      <td>3</td>\n",
       "      <td>0</td>\n",
       "      <td>1950</td>\n",
       "      <td>1950</td>\n",
       "      <td>93500</td>\n",
       "    </tr>\n",
       "    <tr>\n",
       "      <th>1179</th>\n",
       "      <td>1124</td>\n",
       "      <td>0.0</td>\n",
       "      <td>3.0</td>\n",
       "      <td>None</td>\n",
       "      <td>0</td>\n",
       "      <td>NaN</td>\n",
       "      <td>0</td>\n",
       "      <td>0</td>\n",
       "      <td>None</td>\n",
       "      <td>NaN</td>\n",
       "      <td>1124</td>\n",
       "      <td>TA</td>\n",
       "      <td>8335</td>\n",
       "      <td>77.0</td>\n",
       "      <td>0.0</td>\n",
       "      <td>36</td>\n",
       "      <td>5</td>\n",
       "      <td>5</td>\n",
       "      <td>0</td>\n",
       "      <td>1954</td>\n",
       "      <td>1954</td>\n",
       "      <td>93000</td>\n",
       "    </tr>\n",
       "  </tbody>\n",
       "</table>\n",
       "</div>"
      ],
      "text/plain": [
       "      1stFlrSF  2ndFlrSF  BedroomAbvGr BsmtExposure  BsmtFinSF1 BsmtFinType1  \\\n",
       "90        1040       0.0           2.0         None           0          NaN   \n",
       "736       1040       0.0           2.0         None           0          NaN   \n",
       "1179      1124       0.0           3.0         None           0          NaN   \n",
       "\n",
       "      BsmtUnfSF  GarageArea GarageFinish  GarageYrBlt  GrLivArea KitchenQual  \\\n",
       "90            0         420          Unf       1950.0       1040          TA   \n",
       "736           0         400          Unf       1949.0       1040          TA   \n",
       "1179          0           0         None          NaN       1124          TA   \n",
       "\n",
       "      LotArea  LotFrontage  MasVnrArea  OpenPorchSF  OverallCond  OverallQual  \\\n",
       "90       7200         60.0         0.0           29            5            4   \n",
       "736      8544         60.0         0.0            0            4            3   \n",
       "1179     8335         77.0         0.0           36            5            5   \n",
       "\n",
       "      TotalBsmtSF  YearBuilt  YearRemodAdd  SalePrice  \n",
       "90              0       1950          1950     109900  \n",
       "736             0       1950          1950      93500  \n",
       "1179            0       1954          1954      93000  "
      ]
     },
     "execution_count": 35,
     "metadata": {},
     "output_type": "execute_result"
    }
   ],
   "source": [
    "TrainSet[TrainSet['BsmtFinType1'].isna()].query('TotalBsmtSF==0').sort_values(by=['TotalBsmtSF'])"
   ]
  },
  {
   "attachments": {},
   "cell_type": "markdown",
   "metadata": {},
   "source": [
    "As we can see 3 properties have 0 TotalBsmtSF and missing data, we can impute 'None' for these values."
   ]
  },
  {
   "cell_type": "code",
   "execution_count": 37,
   "metadata": {},
   "outputs": [],
   "source": [
    "train_query_condition = (TrainSet.TotalBsmtSF == 0) & (TrainSet['BsmtFinType1'].isnull())\n",
    "TrainSet['BsmtFinType1'] = np.where(train_query_condition, 'None', TrainSet['BsmtFinType1'])\n",
    "\n",
    "test_query_condition = (TestSet.TotalBsmtSF == 0) & (TestSet['BsmtFinType1'].isnull())\n",
    "TestSet['BsmtFinType1'] = np.where(test_query_condition, 'None', TestSet['BsmtFinType1'])\n",
    "\n",
    "df_clean_query_condition = (df_clean.TotalBsmtSF == 0) & (df_clean['BsmtFinType1'].isnull())\n",
    "df_clean['BsmtFinType1'] = np.where(df_clean_query_condition, 'None', df_clean['BsmtFinType1'])"
   ]
  },
  {
   "cell_type": "code",
   "execution_count": 38,
   "metadata": {},
   "outputs": [
    {
     "data": {
      "text/html": [
       "<div>\n",
       "<style scoped>\n",
       "    .dataframe tbody tr th:only-of-type {\n",
       "        vertical-align: middle;\n",
       "    }\n",
       "\n",
       "    .dataframe tbody tr th {\n",
       "        vertical-align: top;\n",
       "    }\n",
       "\n",
       "    .dataframe thead th {\n",
       "        text-align: right;\n",
       "    }\n",
       "</style>\n",
       "<table border=\"1\" class=\"dataframe\">\n",
       "  <thead>\n",
       "    <tr style=\"text-align: right;\">\n",
       "      <th></th>\n",
       "      <th>1stFlrSF</th>\n",
       "      <th>2ndFlrSF</th>\n",
       "      <th>BedroomAbvGr</th>\n",
       "      <th>BsmtExposure</th>\n",
       "      <th>BsmtFinSF1</th>\n",
       "      <th>BsmtFinType1</th>\n",
       "      <th>BsmtUnfSF</th>\n",
       "      <th>GarageArea</th>\n",
       "      <th>GarageFinish</th>\n",
       "      <th>GarageYrBlt</th>\n",
       "      <th>GrLivArea</th>\n",
       "      <th>KitchenQual</th>\n",
       "      <th>LotArea</th>\n",
       "      <th>LotFrontage</th>\n",
       "      <th>MasVnrArea</th>\n",
       "      <th>OpenPorchSF</th>\n",
       "      <th>OverallCond</th>\n",
       "      <th>OverallQual</th>\n",
       "      <th>TotalBsmtSF</th>\n",
       "      <th>YearBuilt</th>\n",
       "      <th>YearRemodAdd</th>\n",
       "      <th>SalePrice</th>\n",
       "    </tr>\n",
       "  </thead>\n",
       "  <tbody>\n",
       "  </tbody>\n",
       "</table>\n",
       "</div>"
      ],
      "text/plain": [
       "Empty DataFrame\n",
       "Columns: [1stFlrSF, 2ndFlrSF, BedroomAbvGr, BsmtExposure, BsmtFinSF1, BsmtFinType1, BsmtUnfSF, GarageArea, GarageFinish, GarageYrBlt, GrLivArea, KitchenQual, LotArea, LotFrontage, MasVnrArea, OpenPorchSF, OverallCond, OverallQual, TotalBsmtSF, YearBuilt, YearRemodAdd, SalePrice]\n",
       "Index: []"
      ]
     },
     "execution_count": 38,
     "metadata": {},
     "output_type": "execute_result"
    }
   ],
   "source": [
    "TrainSet[TrainSet['BsmtFinType1'].isna()].query('TotalBsmtSF==0').sort_values(by=['TotalBsmtSF'])"
   ]
  },
  {
   "cell_type": "code",
   "execution_count": 39,
   "metadata": {},
   "outputs": [
    {
     "data": {
      "text/plain": [
       "86"
      ]
     },
     "execution_count": 39,
     "metadata": {},
     "output_type": "execute_result"
    }
   ],
   "source": [
    "TrainSet['BsmtFinType1'].isna().sum()"
   ]
  },
  {
   "attachments": {},
   "cell_type": "markdown",
   "metadata": {},
   "source": [
    "As we can see from our two tests, we have imputed None into our 3 rows and they no longer appear when we query TotalBsmtSF = 0 and null values. we can also see our total rows with null values has decreased by 3 to a total of 86."
   ]
  },
  {
   "attachments": {},
   "cell_type": "markdown",
   "metadata": {},
   "source": [
    "In a similar method to our previous 3 rows, we shall query the null values of BsmtFinType1 against BsmtFinSF1. the aformentioned variable describes the surface area of the basement that is finished. if the value of this is 0 then we can conclude that the basment is unfinished and therefore we can impute 'Unf' into our null values."
   ]
  },
  {
   "cell_type": "code",
   "execution_count": 40,
   "metadata": {},
   "outputs": [
    {
     "data": {
      "text/html": [
       "<div>\n",
       "<style scoped>\n",
       "    .dataframe tbody tr th:only-of-type {\n",
       "        vertical-align: middle;\n",
       "    }\n",
       "\n",
       "    .dataframe tbody tr th {\n",
       "        vertical-align: top;\n",
       "    }\n",
       "\n",
       "    .dataframe thead th {\n",
       "        text-align: right;\n",
       "    }\n",
       "</style>\n",
       "<table border=\"1\" class=\"dataframe\">\n",
       "  <thead>\n",
       "    <tr style=\"text-align: right;\">\n",
       "      <th></th>\n",
       "      <th>1stFlrSF</th>\n",
       "      <th>2ndFlrSF</th>\n",
       "      <th>BedroomAbvGr</th>\n",
       "      <th>BsmtExposure</th>\n",
       "      <th>BsmtFinSF1</th>\n",
       "      <th>BsmtFinType1</th>\n",
       "      <th>BsmtUnfSF</th>\n",
       "      <th>GarageArea</th>\n",
       "      <th>GarageFinish</th>\n",
       "      <th>GarageYrBlt</th>\n",
       "      <th>GrLivArea</th>\n",
       "      <th>KitchenQual</th>\n",
       "      <th>LotArea</th>\n",
       "      <th>LotFrontage</th>\n",
       "      <th>MasVnrArea</th>\n",
       "      <th>OpenPorchSF</th>\n",
       "      <th>OverallCond</th>\n",
       "      <th>OverallQual</th>\n",
       "      <th>TotalBsmtSF</th>\n",
       "      <th>YearBuilt</th>\n",
       "      <th>YearRemodAdd</th>\n",
       "      <th>SalePrice</th>\n",
       "    </tr>\n",
       "  </thead>\n",
       "  <tbody>\n",
       "    <tr>\n",
       "      <th>431</th>\n",
       "      <td>1088</td>\n",
       "      <td>110.0</td>\n",
       "      <td>4.0</td>\n",
       "      <td>No</td>\n",
       "      <td>0</td>\n",
       "      <td>NaN</td>\n",
       "      <td>901</td>\n",
       "      <td>0</td>\n",
       "      <td>NaN</td>\n",
       "      <td>NaN</td>\n",
       "      <td>1198</td>\n",
       "      <td>TA</td>\n",
       "      <td>5586</td>\n",
       "      <td>60.000000</td>\n",
       "      <td>0.0</td>\n",
       "      <td>98</td>\n",
       "      <td>7</td>\n",
       "      <td>6</td>\n",
       "      <td>901</td>\n",
       "      <td>1920</td>\n",
       "      <td>1998</td>\n",
       "      <td>79900</td>\n",
       "    </tr>\n",
       "    <tr>\n",
       "      <th>1342</th>\n",
       "      <td>1284</td>\n",
       "      <td>885.0</td>\n",
       "      <td>3.0</td>\n",
       "      <td>No</td>\n",
       "      <td>0</td>\n",
       "      <td>NaN</td>\n",
       "      <td>1284</td>\n",
       "      <td>647</td>\n",
       "      <td>RFn</td>\n",
       "      <td>2002.0</td>\n",
       "      <td>2169</td>\n",
       "      <td>Gd</td>\n",
       "      <td>9375</td>\n",
       "      <td>69.614017</td>\n",
       "      <td>149.0</td>\n",
       "      <td>87</td>\n",
       "      <td>5</td>\n",
       "      <td>8</td>\n",
       "      <td>1284</td>\n",
       "      <td>2002</td>\n",
       "      <td>2002</td>\n",
       "      <td>228500</td>\n",
       "    </tr>\n",
       "    <tr>\n",
       "      <th>584</th>\n",
       "      <td>989</td>\n",
       "      <td>584.0</td>\n",
       "      <td>3.0</td>\n",
       "      <td>No</td>\n",
       "      <td>0</td>\n",
       "      <td>NaN</td>\n",
       "      <td>884</td>\n",
       "      <td>240</td>\n",
       "      <td>Unf</td>\n",
       "      <td>1935.0</td>\n",
       "      <td>1573</td>\n",
       "      <td>Gd</td>\n",
       "      <td>6120</td>\n",
       "      <td>51.000000</td>\n",
       "      <td>0.0</td>\n",
       "      <td>0</td>\n",
       "      <td>7</td>\n",
       "      <td>4</td>\n",
       "      <td>884</td>\n",
       "      <td>1935</td>\n",
       "      <td>1995</td>\n",
       "      <td>133000</td>\n",
       "    </tr>\n",
       "    <tr>\n",
       "      <th>890</th>\n",
       "      <td>672</td>\n",
       "      <td>252.0</td>\n",
       "      <td>0.0</td>\n",
       "      <td>Mn</td>\n",
       "      <td>0</td>\n",
       "      <td>NaN</td>\n",
       "      <td>672</td>\n",
       "      <td>576</td>\n",
       "      <td>Unf</td>\n",
       "      <td>2003.0</td>\n",
       "      <td>924</td>\n",
       "      <td>TA</td>\n",
       "      <td>8064</td>\n",
       "      <td>60.000000</td>\n",
       "      <td>0.0</td>\n",
       "      <td>0</td>\n",
       "      <td>7</td>\n",
       "      <td>5</td>\n",
       "      <td>672</td>\n",
       "      <td>1949</td>\n",
       "      <td>2006</td>\n",
       "      <td>122900</td>\n",
       "    </tr>\n",
       "    <tr>\n",
       "      <th>573</th>\n",
       "      <td>774</td>\n",
       "      <td>656.0</td>\n",
       "      <td>3.0</td>\n",
       "      <td>No</td>\n",
       "      <td>0</td>\n",
       "      <td>NaN</td>\n",
       "      <td>384</td>\n",
       "      <td>400</td>\n",
       "      <td>RFn</td>\n",
       "      <td>2000.0</td>\n",
       "      <td>1430</td>\n",
       "      <td>TA</td>\n",
       "      <td>9967</td>\n",
       "      <td>76.000000</td>\n",
       "      <td>0.0</td>\n",
       "      <td>0</td>\n",
       "      <td>5</td>\n",
       "      <td>7</td>\n",
       "      <td>384</td>\n",
       "      <td>2000</td>\n",
       "      <td>2000</td>\n",
       "      <td>170000</td>\n",
       "    </tr>\n",
       "    <tr>\n",
       "      <th>653</th>\n",
       "      <td>756</td>\n",
       "      <td>713.0</td>\n",
       "      <td>3.0</td>\n",
       "      <td>No</td>\n",
       "      <td>0</td>\n",
       "      <td>NaN</td>\n",
       "      <td>756</td>\n",
       "      <td>216</td>\n",
       "      <td>Unf</td>\n",
       "      <td>1906.0</td>\n",
       "      <td>1469</td>\n",
       "      <td>TA</td>\n",
       "      <td>10320</td>\n",
       "      <td>60.000000</td>\n",
       "      <td>0.0</td>\n",
       "      <td>0</td>\n",
       "      <td>7</td>\n",
       "      <td>6</td>\n",
       "      <td>756</td>\n",
       "      <td>1906</td>\n",
       "      <td>1995</td>\n",
       "      <td>135000</td>\n",
       "    </tr>\n",
       "    <tr>\n",
       "      <th>248</th>\n",
       "      <td>840</td>\n",
       "      <td>828.0</td>\n",
       "      <td>3.0</td>\n",
       "      <td>No</td>\n",
       "      <td>0</td>\n",
       "      <td>NaN</td>\n",
       "      <td>840</td>\n",
       "      <td>500</td>\n",
       "      <td>RFn</td>\n",
       "      <td>2003.0</td>\n",
       "      <td>1668</td>\n",
       "      <td>Gd</td>\n",
       "      <td>11317</td>\n",
       "      <td>72.000000</td>\n",
       "      <td>101.0</td>\n",
       "      <td>68</td>\n",
       "      <td>5</td>\n",
       "      <td>7</td>\n",
       "      <td>840</td>\n",
       "      <td>2003</td>\n",
       "      <td>2003</td>\n",
       "      <td>180000</td>\n",
       "    </tr>\n",
       "    <tr>\n",
       "      <th>1219</th>\n",
       "      <td>672</td>\n",
       "      <td>546.0</td>\n",
       "      <td>3.0</td>\n",
       "      <td>No</td>\n",
       "      <td>0</td>\n",
       "      <td>NaN</td>\n",
       "      <td>672</td>\n",
       "      <td>0</td>\n",
       "      <td>None</td>\n",
       "      <td>NaN</td>\n",
       "      <td>1218</td>\n",
       "      <td>TA</td>\n",
       "      <td>1680</td>\n",
       "      <td>21.000000</td>\n",
       "      <td>236.0</td>\n",
       "      <td>0</td>\n",
       "      <td>5</td>\n",
       "      <td>6</td>\n",
       "      <td>672</td>\n",
       "      <td>1971</td>\n",
       "      <td>1971</td>\n",
       "      <td>91500</td>\n",
       "    </tr>\n",
       "    <tr>\n",
       "      <th>374</th>\n",
       "      <td>847</td>\n",
       "      <td>1081.0</td>\n",
       "      <td>4.0</td>\n",
       "      <td>No</td>\n",
       "      <td>0</td>\n",
       "      <td>NaN</td>\n",
       "      <td>847</td>\n",
       "      <td>434</td>\n",
       "      <td>Fin</td>\n",
       "      <td>2003.0</td>\n",
       "      <td>1928</td>\n",
       "      <td>Gd</td>\n",
       "      <td>8200</td>\n",
       "      <td>65.000000</td>\n",
       "      <td>0.0</td>\n",
       "      <td>48</td>\n",
       "      <td>5</td>\n",
       "      <td>7</td>\n",
       "      <td>847</td>\n",
       "      <td>2003</td>\n",
       "      <td>2004</td>\n",
       "      <td>219500</td>\n",
       "    </tr>\n",
       "    <tr>\n",
       "      <th>22</th>\n",
       "      <td>1795</td>\n",
       "      <td>0.0</td>\n",
       "      <td>3.0</td>\n",
       "      <td>No</td>\n",
       "      <td>0</td>\n",
       "      <td>NaN</td>\n",
       "      <td>1777</td>\n",
       "      <td>534</td>\n",
       "      <td>RFn</td>\n",
       "      <td>2002.0</td>\n",
       "      <td>1795</td>\n",
       "      <td>Gd</td>\n",
       "      <td>9742</td>\n",
       "      <td>75.000000</td>\n",
       "      <td>281.0</td>\n",
       "      <td>159</td>\n",
       "      <td>5</td>\n",
       "      <td>8</td>\n",
       "      <td>1777</td>\n",
       "      <td>2002</td>\n",
       "      <td>2002</td>\n",
       "      <td>230000</td>\n",
       "    </tr>\n",
       "    <tr>\n",
       "      <th>394</th>\n",
       "      <td>735</td>\n",
       "      <td>299.0</td>\n",
       "      <td>2.0</td>\n",
       "      <td>No</td>\n",
       "      <td>0</td>\n",
       "      <td>NaN</td>\n",
       "      <td>735</td>\n",
       "      <td>240</td>\n",
       "      <td>Unf</td>\n",
       "      <td>1940.0</td>\n",
       "      <td>1034</td>\n",
       "      <td>TA</td>\n",
       "      <td>10134</td>\n",
       "      <td>60.000000</td>\n",
       "      <td>0.0</td>\n",
       "      <td>39</td>\n",
       "      <td>6</td>\n",
       "      <td>5</td>\n",
       "      <td>735</td>\n",
       "      <td>1940</td>\n",
       "      <td>1950</td>\n",
       "      <td>109000</td>\n",
       "    </tr>\n",
       "    <tr>\n",
       "      <th>243</th>\n",
       "      <td>626</td>\n",
       "      <td>591.0</td>\n",
       "      <td>3.0</td>\n",
       "      <td>No</td>\n",
       "      <td>0</td>\n",
       "      <td>NaN</td>\n",
       "      <td>626</td>\n",
       "      <td>288</td>\n",
       "      <td>RFn</td>\n",
       "      <td>1980.0</td>\n",
       "      <td>1217</td>\n",
       "      <td>TA</td>\n",
       "      <td>10762</td>\n",
       "      <td>75.000000</td>\n",
       "      <td>0.0</td>\n",
       "      <td>28</td>\n",
       "      <td>6</td>\n",
       "      <td>6</td>\n",
       "      <td>626</td>\n",
       "      <td>1980</td>\n",
       "      <td>1980</td>\n",
       "      <td>120000</td>\n",
       "    </tr>\n",
       "    <tr>\n",
       "      <th>1082</th>\n",
       "      <td>1459</td>\n",
       "      <td>0.0</td>\n",
       "      <td>3.0</td>\n",
       "      <td>No</td>\n",
       "      <td>0</td>\n",
       "      <td>NaN</td>\n",
       "      <td>1459</td>\n",
       "      <td>527</td>\n",
       "      <td>RFn</td>\n",
       "      <td>2002.0</td>\n",
       "      <td>1459</td>\n",
       "      <td>Gd</td>\n",
       "      <td>8749</td>\n",
       "      <td>70.000000</td>\n",
       "      <td>100.0</td>\n",
       "      <td>39</td>\n",
       "      <td>5</td>\n",
       "      <td>7</td>\n",
       "      <td>1459</td>\n",
       "      <td>2002</td>\n",
       "      <td>2002</td>\n",
       "      <td>192000</td>\n",
       "    </tr>\n",
       "    <tr>\n",
       "      <th>1379</th>\n",
       "      <td>754</td>\n",
       "      <td>640.0</td>\n",
       "      <td>3.0</td>\n",
       "      <td>No</td>\n",
       "      <td>0</td>\n",
       "      <td>NaN</td>\n",
       "      <td>384</td>\n",
       "      <td>400</td>\n",
       "      <td>Fin</td>\n",
       "      <td>2007.0</td>\n",
       "      <td>1394</td>\n",
       "      <td>Gd</td>\n",
       "      <td>9735</td>\n",
       "      <td>73.000000</td>\n",
       "      <td>0.0</td>\n",
       "      <td>0</td>\n",
       "      <td>5</td>\n",
       "      <td>5</td>\n",
       "      <td>384</td>\n",
       "      <td>2006</td>\n",
       "      <td>2007</td>\n",
       "      <td>167500</td>\n",
       "    </tr>\n",
       "    <tr>\n",
       "      <th>1423</th>\n",
       "      <td>1575</td>\n",
       "      <td>626.0</td>\n",
       "      <td>4.0</td>\n",
       "      <td>Av</td>\n",
       "      <td>0</td>\n",
       "      <td>NaN</td>\n",
       "      <td>697</td>\n",
       "      <td>432</td>\n",
       "      <td>Unf</td>\n",
       "      <td>1966.0</td>\n",
       "      <td>2201</td>\n",
       "      <td>Gd</td>\n",
       "      <td>19690</td>\n",
       "      <td>69.614017</td>\n",
       "      <td>0.0</td>\n",
       "      <td>236</td>\n",
       "      <td>7</td>\n",
       "      <td>6</td>\n",
       "      <td>697</td>\n",
       "      <td>1966</td>\n",
       "      <td>1966</td>\n",
       "      <td>274970</td>\n",
       "    </tr>\n",
       "    <tr>\n",
       "      <th>1408</th>\n",
       "      <td>741</td>\n",
       "      <td>622.0</td>\n",
       "      <td>3.0</td>\n",
       "      <td>No</td>\n",
       "      <td>0</td>\n",
       "      <td>NaN</td>\n",
       "      <td>622</td>\n",
       "      <td>528</td>\n",
       "      <td>Unf</td>\n",
       "      <td>1966.0</td>\n",
       "      <td>1363</td>\n",
       "      <td>TA</td>\n",
       "      <td>7740</td>\n",
       "      <td>60.000000</td>\n",
       "      <td>0.0</td>\n",
       "      <td>0</td>\n",
       "      <td>7</td>\n",
       "      <td>4</td>\n",
       "      <td>622</td>\n",
       "      <td>1910</td>\n",
       "      <td>1950</td>\n",
       "      <td>125500</td>\n",
       "    </tr>\n",
       "    <tr>\n",
       "      <th>805</th>\n",
       "      <td>1428</td>\n",
       "      <td>0.0</td>\n",
       "      <td>3.0</td>\n",
       "      <td>No</td>\n",
       "      <td>0</td>\n",
       "      <td>NaN</td>\n",
       "      <td>1417</td>\n",
       "      <td>554</td>\n",
       "      <td>RFn</td>\n",
       "      <td>2008.0</td>\n",
       "      <td>1428</td>\n",
       "      <td>Ex</td>\n",
       "      <td>12274</td>\n",
       "      <td>91.000000</td>\n",
       "      <td>256.0</td>\n",
       "      <td>60</td>\n",
       "      <td>5</td>\n",
       "      <td>7</td>\n",
       "      <td>1417</td>\n",
       "      <td>2008</td>\n",
       "      <td>2008</td>\n",
       "      <td>227680</td>\n",
       "    </tr>\n",
       "    <tr>\n",
       "      <th>1202</th>\n",
       "      <td>884</td>\n",
       "      <td>464.0</td>\n",
       "      <td>3.0</td>\n",
       "      <td>No</td>\n",
       "      <td>0</td>\n",
       "      <td>NaN</td>\n",
       "      <td>884</td>\n",
       "      <td>216</td>\n",
       "      <td>Unf</td>\n",
       "      <td>1960.0</td>\n",
       "      <td>1348</td>\n",
       "      <td>TA</td>\n",
       "      <td>6000</td>\n",
       "      <td>50.000000</td>\n",
       "      <td>0.0</td>\n",
       "      <td>0</td>\n",
       "      <td>8</td>\n",
       "      <td>5</td>\n",
       "      <td>884</td>\n",
       "      <td>1925</td>\n",
       "      <td>1997</td>\n",
       "      <td>117000</td>\n",
       "    </tr>\n",
       "    <tr>\n",
       "      <th>101</th>\n",
       "      <td>977</td>\n",
       "      <td>755.0</td>\n",
       "      <td>3.0</td>\n",
       "      <td>No</td>\n",
       "      <td>0</td>\n",
       "      <td>NaN</td>\n",
       "      <td>741</td>\n",
       "      <td>476</td>\n",
       "      <td>Fin</td>\n",
       "      <td>1985.0</td>\n",
       "      <td>1732</td>\n",
       "      <td>Gd</td>\n",
       "      <td>9206</td>\n",
       "      <td>77.000000</td>\n",
       "      <td>336.0</td>\n",
       "      <td>46</td>\n",
       "      <td>5</td>\n",
       "      <td>6</td>\n",
       "      <td>741</td>\n",
       "      <td>1985</td>\n",
       "      <td>1985</td>\n",
       "      <td>178000</td>\n",
       "    </tr>\n",
       "    <tr>\n",
       "      <th>1203</th>\n",
       "      <td>1630</td>\n",
       "      <td>0.0</td>\n",
       "      <td>3.0</td>\n",
       "      <td>No</td>\n",
       "      <td>0</td>\n",
       "      <td>NaN</td>\n",
       "      <td>1630</td>\n",
       "      <td>451</td>\n",
       "      <td>Unf</td>\n",
       "      <td>2000.0</td>\n",
       "      <td>1630</td>\n",
       "      <td>Gd</td>\n",
       "      <td>9750</td>\n",
       "      <td>75.000000</td>\n",
       "      <td>171.0</td>\n",
       "      <td>234</td>\n",
       "      <td>5</td>\n",
       "      <td>7</td>\n",
       "      <td>1630</td>\n",
       "      <td>2000</td>\n",
       "      <td>2001</td>\n",
       "      <td>213000</td>\n",
       "    </tr>\n",
       "    <tr>\n",
       "      <th>716</th>\n",
       "      <td>1576</td>\n",
       "      <td>978.0</td>\n",
       "      <td>3.0</td>\n",
       "      <td>No</td>\n",
       "      <td>0</td>\n",
       "      <td>NaN</td>\n",
       "      <td>718</td>\n",
       "      <td>704</td>\n",
       "      <td>Unf</td>\n",
       "      <td>1996.0</td>\n",
       "      <td>2554</td>\n",
       "      <td>TA</td>\n",
       "      <td>10800</td>\n",
       "      <td>60.000000</td>\n",
       "      <td>0.0</td>\n",
       "      <td>48</td>\n",
       "      <td>8</td>\n",
       "      <td>7</td>\n",
       "      <td>718</td>\n",
       "      <td>1890</td>\n",
       "      <td>1998</td>\n",
       "      <td>159500</td>\n",
       "    </tr>\n",
       "    <tr>\n",
       "      <th>581</th>\n",
       "      <td>2042</td>\n",
       "      <td>0.0</td>\n",
       "      <td>3.0</td>\n",
       "      <td>No</td>\n",
       "      <td>0</td>\n",
       "      <td>NaN</td>\n",
       "      <td>2042</td>\n",
       "      <td>1390</td>\n",
       "      <td>RFn</td>\n",
       "      <td>2009.0</td>\n",
       "      <td>2042</td>\n",
       "      <td>Ex</td>\n",
       "      <td>12704</td>\n",
       "      <td>98.000000</td>\n",
       "      <td>306.0</td>\n",
       "      <td>90</td>\n",
       "      <td>5</td>\n",
       "      <td>8</td>\n",
       "      <td>2042</td>\n",
       "      <td>2008</td>\n",
       "      <td>2009</td>\n",
       "      <td>253293</td>\n",
       "    </tr>\n",
       "    <tr>\n",
       "      <th>1337</th>\n",
       "      <td>693</td>\n",
       "      <td>0.0</td>\n",
       "      <td>2.0</td>\n",
       "      <td>No</td>\n",
       "      <td>0</td>\n",
       "      <td>NaN</td>\n",
       "      <td>693</td>\n",
       "      <td>0</td>\n",
       "      <td>None</td>\n",
       "      <td>NaN</td>\n",
       "      <td>693</td>\n",
       "      <td>Fa</td>\n",
       "      <td>4118</td>\n",
       "      <td>153.000000</td>\n",
       "      <td>0.0</td>\n",
       "      <td>20</td>\n",
       "      <td>4</td>\n",
       "      <td>4</td>\n",
       "      <td>693</td>\n",
       "      <td>1941</td>\n",
       "      <td>1950</td>\n",
       "      <td>52500</td>\n",
       "    </tr>\n",
       "    <tr>\n",
       "      <th>1375</th>\n",
       "      <td>1571</td>\n",
       "      <td>0.0</td>\n",
       "      <td>3.0</td>\n",
       "      <td>Gd</td>\n",
       "      <td>0</td>\n",
       "      <td>NaN</td>\n",
       "      <td>1571</td>\n",
       "      <td>722</td>\n",
       "      <td>Fin</td>\n",
       "      <td>2007.0</td>\n",
       "      <td>1571</td>\n",
       "      <td>Gd</td>\n",
       "      <td>10991</td>\n",
       "      <td>89.000000</td>\n",
       "      <td>80.0</td>\n",
       "      <td>36</td>\n",
       "      <td>5</td>\n",
       "      <td>8</td>\n",
       "      <td>1571</td>\n",
       "      <td>2007</td>\n",
       "      <td>2007</td>\n",
       "      <td>239000</td>\n",
       "    </tr>\n",
       "    <tr>\n",
       "      <th>1051</th>\n",
       "      <td>1316</td>\n",
       "      <td>0.0</td>\n",
       "      <td>3.0</td>\n",
       "      <td>Av</td>\n",
       "      <td>0</td>\n",
       "      <td>NaN</td>\n",
       "      <td>1316</td>\n",
       "      <td>440</td>\n",
       "      <td>Fin</td>\n",
       "      <td>2007.0</td>\n",
       "      <td>1316</td>\n",
       "      <td>Gd</td>\n",
       "      <td>11175</td>\n",
       "      <td>103.000000</td>\n",
       "      <td>0.0</td>\n",
       "      <td>20</td>\n",
       "      <td>5</td>\n",
       "      <td>7</td>\n",
       "      <td>1316</td>\n",
       "      <td>2007</td>\n",
       "      <td>2007</td>\n",
       "      <td>200141</td>\n",
       "    </tr>\n",
       "    <tr>\n",
       "      <th>157</th>\n",
       "      <td>774</td>\n",
       "      <td>1194.0</td>\n",
       "      <td>4.0</td>\n",
       "      <td>No</td>\n",
       "      <td>0</td>\n",
       "      <td>NaN</td>\n",
       "      <td>774</td>\n",
       "      <td>680</td>\n",
       "      <td>Fin</td>\n",
       "      <td>2009.0</td>\n",
       "      <td>1968</td>\n",
       "      <td>Ex</td>\n",
       "      <td>12003</td>\n",
       "      <td>92.000000</td>\n",
       "      <td>84.0</td>\n",
       "      <td>75</td>\n",
       "      <td>5</td>\n",
       "      <td>8</td>\n",
       "      <td>774</td>\n",
       "      <td>2009</td>\n",
       "      <td>2010</td>\n",
       "      <td>269500</td>\n",
       "    </tr>\n",
       "    <tr>\n",
       "      <th>1435</th>\n",
       "      <td>1537</td>\n",
       "      <td>0.0</td>\n",
       "      <td>3.0</td>\n",
       "      <td>No</td>\n",
       "      <td>0</td>\n",
       "      <td>NaN</td>\n",
       "      <td>1319</td>\n",
       "      <td>462</td>\n",
       "      <td>RFn</td>\n",
       "      <td>1962.0</td>\n",
       "      <td>1537</td>\n",
       "      <td>Gd</td>\n",
       "      <td>8400</td>\n",
       "      <td>80.000000</td>\n",
       "      <td>237.0</td>\n",
       "      <td>36</td>\n",
       "      <td>9</td>\n",
       "      <td>6</td>\n",
       "      <td>1319</td>\n",
       "      <td>1962</td>\n",
       "      <td>2005</td>\n",
       "      <td>174000</td>\n",
       "    </tr>\n",
       "  </tbody>\n",
       "</table>\n",
       "</div>"
      ],
      "text/plain": [
       "      1stFlrSF  2ndFlrSF  BedroomAbvGr BsmtExposure  BsmtFinSF1 BsmtFinType1  \\\n",
       "431       1088     110.0           4.0           No           0          NaN   \n",
       "1342      1284     885.0           3.0           No           0          NaN   \n",
       "584        989     584.0           3.0           No           0          NaN   \n",
       "890        672     252.0           0.0           Mn           0          NaN   \n",
       "573        774     656.0           3.0           No           0          NaN   \n",
       "653        756     713.0           3.0           No           0          NaN   \n",
       "248        840     828.0           3.0           No           0          NaN   \n",
       "1219       672     546.0           3.0           No           0          NaN   \n",
       "374        847    1081.0           4.0           No           0          NaN   \n",
       "22        1795       0.0           3.0           No           0          NaN   \n",
       "394        735     299.0           2.0           No           0          NaN   \n",
       "243        626     591.0           3.0           No           0          NaN   \n",
       "1082      1459       0.0           3.0           No           0          NaN   \n",
       "1379       754     640.0           3.0           No           0          NaN   \n",
       "1423      1575     626.0           4.0           Av           0          NaN   \n",
       "1408       741     622.0           3.0           No           0          NaN   \n",
       "805       1428       0.0           3.0           No           0          NaN   \n",
       "1202       884     464.0           3.0           No           0          NaN   \n",
       "101        977     755.0           3.0           No           0          NaN   \n",
       "1203      1630       0.0           3.0           No           0          NaN   \n",
       "716       1576     978.0           3.0           No           0          NaN   \n",
       "581       2042       0.0           3.0           No           0          NaN   \n",
       "1337       693       0.0           2.0           No           0          NaN   \n",
       "1375      1571       0.0           3.0           Gd           0          NaN   \n",
       "1051      1316       0.0           3.0           Av           0          NaN   \n",
       "157        774    1194.0           4.0           No           0          NaN   \n",
       "1435      1537       0.0           3.0           No           0          NaN   \n",
       "\n",
       "      BsmtUnfSF  GarageArea GarageFinish  GarageYrBlt  GrLivArea KitchenQual  \\\n",
       "431         901           0          NaN          NaN       1198          TA   \n",
       "1342       1284         647          RFn       2002.0       2169          Gd   \n",
       "584         884         240          Unf       1935.0       1573          Gd   \n",
       "890         672         576          Unf       2003.0        924          TA   \n",
       "573         384         400          RFn       2000.0       1430          TA   \n",
       "653         756         216          Unf       1906.0       1469          TA   \n",
       "248         840         500          RFn       2003.0       1668          Gd   \n",
       "1219        672           0         None          NaN       1218          TA   \n",
       "374         847         434          Fin       2003.0       1928          Gd   \n",
       "22         1777         534          RFn       2002.0       1795          Gd   \n",
       "394         735         240          Unf       1940.0       1034          TA   \n",
       "243         626         288          RFn       1980.0       1217          TA   \n",
       "1082       1459         527          RFn       2002.0       1459          Gd   \n",
       "1379        384         400          Fin       2007.0       1394          Gd   \n",
       "1423        697         432          Unf       1966.0       2201          Gd   \n",
       "1408        622         528          Unf       1966.0       1363          TA   \n",
       "805        1417         554          RFn       2008.0       1428          Ex   \n",
       "1202        884         216          Unf       1960.0       1348          TA   \n",
       "101         741         476          Fin       1985.0       1732          Gd   \n",
       "1203       1630         451          Unf       2000.0       1630          Gd   \n",
       "716         718         704          Unf       1996.0       2554          TA   \n",
       "581        2042        1390          RFn       2009.0       2042          Ex   \n",
       "1337        693           0         None          NaN        693          Fa   \n",
       "1375       1571         722          Fin       2007.0       1571          Gd   \n",
       "1051       1316         440          Fin       2007.0       1316          Gd   \n",
       "157         774         680          Fin       2009.0       1968          Ex   \n",
       "1435       1319         462          RFn       1962.0       1537          Gd   \n",
       "\n",
       "      LotArea  LotFrontage  MasVnrArea  OpenPorchSF  OverallCond  OverallQual  \\\n",
       "431      5586    60.000000         0.0           98            7            6   \n",
       "1342     9375    69.614017       149.0           87            5            8   \n",
       "584      6120    51.000000         0.0            0            7            4   \n",
       "890      8064    60.000000         0.0            0            7            5   \n",
       "573      9967    76.000000         0.0            0            5            7   \n",
       "653     10320    60.000000         0.0            0            7            6   \n",
       "248     11317    72.000000       101.0           68            5            7   \n",
       "1219     1680    21.000000       236.0            0            5            6   \n",
       "374      8200    65.000000         0.0           48            5            7   \n",
       "22       9742    75.000000       281.0          159            5            8   \n",
       "394     10134    60.000000         0.0           39            6            5   \n",
       "243     10762    75.000000         0.0           28            6            6   \n",
       "1082     8749    70.000000       100.0           39            5            7   \n",
       "1379     9735    73.000000         0.0            0            5            5   \n",
       "1423    19690    69.614017         0.0          236            7            6   \n",
       "1408     7740    60.000000         0.0            0            7            4   \n",
       "805     12274    91.000000       256.0           60            5            7   \n",
       "1202     6000    50.000000         0.0            0            8            5   \n",
       "101      9206    77.000000       336.0           46            5            6   \n",
       "1203     9750    75.000000       171.0          234            5            7   \n",
       "716     10800    60.000000         0.0           48            8            7   \n",
       "581     12704    98.000000       306.0           90            5            8   \n",
       "1337     4118   153.000000         0.0           20            4            4   \n",
       "1375    10991    89.000000        80.0           36            5            8   \n",
       "1051    11175   103.000000         0.0           20            5            7   \n",
       "157     12003    92.000000        84.0           75            5            8   \n",
       "1435     8400    80.000000       237.0           36            9            6   \n",
       "\n",
       "      TotalBsmtSF  YearBuilt  YearRemodAdd  SalePrice  \n",
       "431           901       1920          1998      79900  \n",
       "1342         1284       2002          2002     228500  \n",
       "584           884       1935          1995     133000  \n",
       "890           672       1949          2006     122900  \n",
       "573           384       2000          2000     170000  \n",
       "653           756       1906          1995     135000  \n",
       "248           840       2003          2003     180000  \n",
       "1219          672       1971          1971      91500  \n",
       "374           847       2003          2004     219500  \n",
       "22           1777       2002          2002     230000  \n",
       "394           735       1940          1950     109000  \n",
       "243           626       1980          1980     120000  \n",
       "1082         1459       2002          2002     192000  \n",
       "1379          384       2006          2007     167500  \n",
       "1423          697       1966          1966     274970  \n",
       "1408          622       1910          1950     125500  \n",
       "805          1417       2008          2008     227680  \n",
       "1202          884       1925          1997     117000  \n",
       "101           741       1985          1985     178000  \n",
       "1203         1630       2000          2001     213000  \n",
       "716           718       1890          1998     159500  \n",
       "581          2042       2008          2009     253293  \n",
       "1337          693       1941          1950      52500  \n",
       "1375         1571       2007          2007     239000  \n",
       "1051         1316       2007          2007     200141  \n",
       "157           774       2009          2010     269500  \n",
       "1435         1319       1962          2005     174000  "
      ]
     },
     "execution_count": 40,
     "metadata": {},
     "output_type": "execute_result"
    }
   ],
   "source": [
    "TrainSet[TrainSet['BsmtFinType1'].isna()].query('BsmtFinSF1==0').sort_values(by=['BsmtFinSF1'])"
   ]
  },
  {
   "cell_type": "code",
   "execution_count": 41,
   "metadata": {},
   "outputs": [
    {
     "name": "stdout",
     "output_type": "stream",
     "text": [
      "(27, 22)\n"
     ]
    }
   ],
   "source": [
    "unf_df = TrainSet[TrainSet['BsmtFinType1'].isna()].query('BsmtFinSF1==0').sort_values(by=['BsmtFinSF1'])\n",
    "print(unf_df.shape)"
   ]
  },
  {
   "attachments": {},
   "cell_type": "markdown",
   "metadata": {},
   "source": [
    "As we can see we have 27 rows where we can conclude that the Basment is unfinished."
   ]
  },
  {
   "cell_type": "code",
   "execution_count": 42,
   "metadata": {},
   "outputs": [],
   "source": [
    "train_query_condition = (TrainSet.BsmtFinSF1 == 0) & (TrainSet['BsmtFinType1'].isnull())\n",
    "TrainSet['BsmtFinType1'] = np.where(train_query_condition, 'Unf', TrainSet['BsmtFinType1'])\n",
    "\n",
    "test_query_condition = (TestSet.BsmtFinSF1 == 0) & (TestSet['BsmtFinType1'].isnull())\n",
    "TestSet['BsmtFinType1'] = np.where(test_query_condition, 'Unf', TestSet['BsmtFinType1'])\n",
    "\n",
    "df_clean_query_condition = (df_clean.BsmtFinSF1 == 0) & (df_clean['BsmtFinType1'].isnull())\n",
    "df_clean['BsmtFinType1'] = np.where(df_clean_query_condition, 'Unf', df_clean['BsmtFinType1'])"
   ]
  },
  {
   "cell_type": "code",
   "execution_count": 43,
   "metadata": {},
   "outputs": [
    {
     "data": {
      "text/html": [
       "<div>\n",
       "<style scoped>\n",
       "    .dataframe tbody tr th:only-of-type {\n",
       "        vertical-align: middle;\n",
       "    }\n",
       "\n",
       "    .dataframe tbody tr th {\n",
       "        vertical-align: top;\n",
       "    }\n",
       "\n",
       "    .dataframe thead th {\n",
       "        text-align: right;\n",
       "    }\n",
       "</style>\n",
       "<table border=\"1\" class=\"dataframe\">\n",
       "  <thead>\n",
       "    <tr style=\"text-align: right;\">\n",
       "      <th></th>\n",
       "      <th>1stFlrSF</th>\n",
       "      <th>2ndFlrSF</th>\n",
       "      <th>BedroomAbvGr</th>\n",
       "      <th>BsmtExposure</th>\n",
       "      <th>BsmtFinSF1</th>\n",
       "      <th>BsmtFinType1</th>\n",
       "      <th>BsmtUnfSF</th>\n",
       "      <th>GarageArea</th>\n",
       "      <th>GarageFinish</th>\n",
       "      <th>GarageYrBlt</th>\n",
       "      <th>GrLivArea</th>\n",
       "      <th>KitchenQual</th>\n",
       "      <th>LotArea</th>\n",
       "      <th>LotFrontage</th>\n",
       "      <th>MasVnrArea</th>\n",
       "      <th>OpenPorchSF</th>\n",
       "      <th>OverallCond</th>\n",
       "      <th>OverallQual</th>\n",
       "      <th>TotalBsmtSF</th>\n",
       "      <th>YearBuilt</th>\n",
       "      <th>YearRemodAdd</th>\n",
       "      <th>SalePrice</th>\n",
       "    </tr>\n",
       "  </thead>\n",
       "  <tbody>\n",
       "  </tbody>\n",
       "</table>\n",
       "</div>"
      ],
      "text/plain": [
       "Empty DataFrame\n",
       "Columns: [1stFlrSF, 2ndFlrSF, BedroomAbvGr, BsmtExposure, BsmtFinSF1, BsmtFinType1, BsmtUnfSF, GarageArea, GarageFinish, GarageYrBlt, GrLivArea, KitchenQual, LotArea, LotFrontage, MasVnrArea, OpenPorchSF, OverallCond, OverallQual, TotalBsmtSF, YearBuilt, YearRemodAdd, SalePrice]\n",
       "Index: []"
      ]
     },
     "execution_count": 43,
     "metadata": {},
     "output_type": "execute_result"
    }
   ],
   "source": [
    "TrainSet[TrainSet['BsmtFinType1'].isna()].query('BsmtFinSF1==0').sort_values(by=['TotalBsmtSF'])"
   ]
  },
  {
   "cell_type": "code",
   "execution_count": 44,
   "metadata": {},
   "outputs": [
    {
     "data": {
      "text/plain": [
       "59"
      ]
     },
     "execution_count": 44,
     "metadata": {},
     "output_type": "execute_result"
    }
   ],
   "source": [
    "TrainSet['BsmtFinType1'].isna().sum()"
   ]
  },
  {
   "attachments": {},
   "cell_type": "markdown",
   "metadata": {},
   "source": [
    "Again we can see that our null values are dropping as we are imputing values. and we are left with 59 rows with null values.\n",
    "* The question is now how do we define these null values. As stated earlier there are other factors that can be used to predict BsmtFinType1. However the work needed to produce a model that could accurately predict BsmtFinType1 would be great and would it add value to our business requirements? Looking at the heatmap and correlation we can see that BsmtFinType1 has no correlation to SalesPrice and does not hold any predictive power towards it. Therefore I assume that there is no real need to get a accurate value for these remaining rows. For this reason we will simply use the CatergoricalImputer to place 'Unknown' in place of these values.\n"
   ]
  },
  {
   "cell_type": "code",
   "execution_count": 45,
   "metadata": {},
   "outputs": [],
   "source": [
    "unknown_imputer = CategoricalImputer(\n",
    "    imputation_method='missing', fill_value='Unknown', variables='BsmtFinType1'\n",
    "    )\n",
    "unknown_imputer.fit(TrainSet)\n",
    "TrainSet, TestSet, df_clean = unknown_imputer.transform(TrainSet), unknown_imputer.transform(TestSet), unknown_imputer.transform(df_clean)"
   ]
  },
  {
   "cell_type": "code",
   "execution_count": 47,
   "metadata": {},
   "outputs": [
    {
     "data": {
      "text/html": [
       "<div>\n",
       "<style scoped>\n",
       "    .dataframe tbody tr th:only-of-type {\n",
       "        vertical-align: middle;\n",
       "    }\n",
       "\n",
       "    .dataframe tbody tr th {\n",
       "        vertical-align: top;\n",
       "    }\n",
       "\n",
       "    .dataframe thead th {\n",
       "        text-align: right;\n",
       "    }\n",
       "</style>\n",
       "<table border=\"1\" class=\"dataframe\">\n",
       "  <thead>\n",
       "    <tr style=\"text-align: right;\">\n",
       "      <th></th>\n",
       "      <th>RowsWithMissingData</th>\n",
       "      <th>PercentageOfDataset</th>\n",
       "      <th>DataType</th>\n",
       "    </tr>\n",
       "  </thead>\n",
       "  <tbody>\n",
       "    <tr>\n",
       "      <th>GarageFinish</th>\n",
       "      <td>131</td>\n",
       "      <td>11.22</td>\n",
       "      <td>object</td>\n",
       "    </tr>\n",
       "    <tr>\n",
       "      <th>GarageYrBlt</th>\n",
       "      <td>58</td>\n",
       "      <td>4.97</td>\n",
       "      <td>float64</td>\n",
       "    </tr>\n",
       "  </tbody>\n",
       "</table>\n",
       "</div>"
      ],
      "text/plain": [
       "              RowsWithMissingData  PercentageOfDataset DataType\n",
       "GarageFinish                  131                11.22   object\n",
       "GarageYrBlt                    58                 4.97  float64"
      ]
     },
     "execution_count": 47,
     "metadata": {},
     "output_type": "execute_result"
    }
   ],
   "source": [
    "EvaluateMissingData(TrainSet)"
   ]
  },
  {
   "attachments": {},
   "cell_type": "markdown",
   "metadata": {},
   "source": [
    "As we can see we have our final 2 variables left to clean. These have been left till last as they both refer to the garage and like woth the BsmtFinType1 we may see links that help us impute accurate data for the null values."
   ]
  },
  {
   "attachments": {},
   "cell_type": "markdown",
   "metadata": {},
   "source": [
    "___"
   ]
  },
  {
   "attachments": {},
   "cell_type": "markdown",
   "metadata": {},
   "source": [
    "### Step 5 of Data cleaning"
   ]
  },
  {
   "attachments": {},
   "cell_type": "markdown",
   "metadata": {},
   "source": [
    "The first variable out of the final two we shall look at is GarageFinish, which is an object variable that refers to the state of the garage. First we shall inspect the data. We already know from above that there are 131 rows with missing data."
   ]
  },
  {
   "cell_type": "code",
   "execution_count": 50,
   "metadata": {},
   "outputs": [
    {
     "data": {
      "text/plain": [
       "Fin     254\n",
       "None     53\n",
       "RFn     293\n",
       "Unf     437\n",
       "Name: GarageFinish, dtype: int64"
      ]
     },
     "execution_count": 50,
     "metadata": {},
     "output_type": "execute_result"
    }
   ],
   "source": [
    "TrainSet['GarageFinish'].value_counts().sort_index()"
   ]
  },
  {
   "attachments": {},
   "cell_type": "markdown",
   "metadata": {},
   "source": [
    "Similarly to the method used when cleaning BsmtfinType1, we shall use another variable to infer information about the GarageFinish. If we look at GarageArea, we can assume that if GarageArea equals 0 then GarageFinish shoudl equal 'None'. "
   ]
  },
  {
   "cell_type": "code",
   "execution_count": 52,
   "metadata": {},
   "outputs": [
    {
     "data": {
      "text/html": [
       "<div>\n",
       "<style scoped>\n",
       "    .dataframe tbody tr th:only-of-type {\n",
       "        vertical-align: middle;\n",
       "    }\n",
       "\n",
       "    .dataframe tbody tr th {\n",
       "        vertical-align: top;\n",
       "    }\n",
       "\n",
       "    .dataframe thead th {\n",
       "        text-align: right;\n",
       "    }\n",
       "</style>\n",
       "<table border=\"1\" class=\"dataframe\">\n",
       "  <thead>\n",
       "    <tr style=\"text-align: right;\">\n",
       "      <th></th>\n",
       "      <th>1stFlrSF</th>\n",
       "      <th>2ndFlrSF</th>\n",
       "      <th>BedroomAbvGr</th>\n",
       "      <th>BsmtExposure</th>\n",
       "      <th>BsmtFinSF1</th>\n",
       "      <th>BsmtFinType1</th>\n",
       "      <th>BsmtUnfSF</th>\n",
       "      <th>GarageArea</th>\n",
       "      <th>GarageFinish</th>\n",
       "      <th>GarageYrBlt</th>\n",
       "      <th>GrLivArea</th>\n",
       "      <th>KitchenQual</th>\n",
       "      <th>LotArea</th>\n",
       "      <th>LotFrontage</th>\n",
       "      <th>MasVnrArea</th>\n",
       "      <th>OpenPorchSF</th>\n",
       "      <th>OverallCond</th>\n",
       "      <th>OverallQual</th>\n",
       "      <th>TotalBsmtSF</th>\n",
       "      <th>YearBuilt</th>\n",
       "      <th>YearRemodAdd</th>\n",
       "      <th>SalePrice</th>\n",
       "    </tr>\n",
       "  </thead>\n",
       "  <tbody>\n",
       "    <tr>\n",
       "      <th>431</th>\n",
       "      <td>1088</td>\n",
       "      <td>110.0</td>\n",
       "      <td>4.0</td>\n",
       "      <td>No</td>\n",
       "      <td>0</td>\n",
       "      <td>Unf</td>\n",
       "      <td>901</td>\n",
       "      <td>0</td>\n",
       "      <td>NaN</td>\n",
       "      <td>NaN</td>\n",
       "      <td>1198</td>\n",
       "      <td>TA</td>\n",
       "      <td>5586</td>\n",
       "      <td>60.0</td>\n",
       "      <td>0.0</td>\n",
       "      <td>98</td>\n",
       "      <td>7</td>\n",
       "      <td>6</td>\n",
       "      <td>901</td>\n",
       "      <td>1920</td>\n",
       "      <td>1998</td>\n",
       "      <td>79900</td>\n",
       "    </tr>\n",
       "    <tr>\n",
       "      <th>528</th>\n",
       "      <td>605</td>\n",
       "      <td>0.0</td>\n",
       "      <td>2.0</td>\n",
       "      <td>Mn</td>\n",
       "      <td>348</td>\n",
       "      <td>Unknown</td>\n",
       "      <td>180</td>\n",
       "      <td>0</td>\n",
       "      <td>NaN</td>\n",
       "      <td>NaN</td>\n",
       "      <td>605</td>\n",
       "      <td>TA</td>\n",
       "      <td>9098</td>\n",
       "      <td>58.0</td>\n",
       "      <td>0.0</td>\n",
       "      <td>0</td>\n",
       "      <td>7</td>\n",
       "      <td>4</td>\n",
       "      <td>528</td>\n",
       "      <td>1920</td>\n",
       "      <td>2002</td>\n",
       "      <td>86000</td>\n",
       "    </tr>\n",
       "    <tr>\n",
       "      <th>125</th>\n",
       "      <td>520</td>\n",
       "      <td>0.0</td>\n",
       "      <td>2.0</td>\n",
       "      <td>Av</td>\n",
       "      <td>490</td>\n",
       "      <td>GLQ</td>\n",
       "      <td>30</td>\n",
       "      <td>0</td>\n",
       "      <td>NaN</td>\n",
       "      <td>NaN</td>\n",
       "      <td>754</td>\n",
       "      <td>TA</td>\n",
       "      <td>6780</td>\n",
       "      <td>60.0</td>\n",
       "      <td>0.0</td>\n",
       "      <td>0</td>\n",
       "      <td>8</td>\n",
       "      <td>6</td>\n",
       "      <td>520</td>\n",
       "      <td>1935</td>\n",
       "      <td>1982</td>\n",
       "      <td>84500</td>\n",
       "    </tr>\n",
       "    <tr>\n",
       "      <th>1325</th>\n",
       "      <td>796</td>\n",
       "      <td>0.0</td>\n",
       "      <td>2.0</td>\n",
       "      <td>No</td>\n",
       "      <td>0</td>\n",
       "      <td>Unf</td>\n",
       "      <td>796</td>\n",
       "      <td>0</td>\n",
       "      <td>NaN</td>\n",
       "      <td>NaN</td>\n",
       "      <td>796</td>\n",
       "      <td>TA</td>\n",
       "      <td>3636</td>\n",
       "      <td>40.0</td>\n",
       "      <td>0.0</td>\n",
       "      <td>0</td>\n",
       "      <td>4</td>\n",
       "      <td>4</td>\n",
       "      <td>796</td>\n",
       "      <td>1922</td>\n",
       "      <td>1950</td>\n",
       "      <td>55000</td>\n",
       "    </tr>\n",
       "    <tr>\n",
       "      <th>710</th>\n",
       "      <td>729</td>\n",
       "      <td>0.0</td>\n",
       "      <td>2.0</td>\n",
       "      <td>No</td>\n",
       "      <td>0</td>\n",
       "      <td>Unf</td>\n",
       "      <td>270</td>\n",
       "      <td>0</td>\n",
       "      <td>NaN</td>\n",
       "      <td>NaN</td>\n",
       "      <td>729</td>\n",
       "      <td>TA</td>\n",
       "      <td>4130</td>\n",
       "      <td>56.0</td>\n",
       "      <td>0.0</td>\n",
       "      <td>0</td>\n",
       "      <td>6</td>\n",
       "      <td>3</td>\n",
       "      <td>270</td>\n",
       "      <td>1935</td>\n",
       "      <td>2003</td>\n",
       "      <td>52000</td>\n",
       "    </tr>\n",
       "  </tbody>\n",
       "</table>\n",
       "</div>"
      ],
      "text/plain": [
       "      1stFlrSF  2ndFlrSF  BedroomAbvGr BsmtExposure  BsmtFinSF1 BsmtFinType1  \\\n",
       "431       1088     110.0           4.0           No           0          Unf   \n",
       "528        605       0.0           2.0           Mn         348      Unknown   \n",
       "125        520       0.0           2.0           Av         490          GLQ   \n",
       "1325       796       0.0           2.0           No           0          Unf   \n",
       "710        729       0.0           2.0           No           0          Unf   \n",
       "\n",
       "      BsmtUnfSF  GarageArea GarageFinish  GarageYrBlt  GrLivArea KitchenQual  \\\n",
       "431         901           0          NaN          NaN       1198          TA   \n",
       "528         180           0          NaN          NaN        605          TA   \n",
       "125          30           0          NaN          NaN        754          TA   \n",
       "1325        796           0          NaN          NaN        796          TA   \n",
       "710         270           0          NaN          NaN        729          TA   \n",
       "\n",
       "      LotArea  LotFrontage  MasVnrArea  OpenPorchSF  OverallCond  OverallQual  \\\n",
       "431      5586         60.0         0.0           98            7            6   \n",
       "528      9098         58.0         0.0            0            7            4   \n",
       "125      6780         60.0         0.0            0            8            6   \n",
       "1325     3636         40.0         0.0            0            4            4   \n",
       "710      4130         56.0         0.0            0            6            3   \n",
       "\n",
       "      TotalBsmtSF  YearBuilt  YearRemodAdd  SalePrice  \n",
       "431           901       1920          1998      79900  \n",
       "528           528       1920          2002      86000  \n",
       "125           520       1935          1982      84500  \n",
       "1325          796       1922          1950      55000  \n",
       "710           270       1935          2003      52000  "
      ]
     },
     "execution_count": 52,
     "metadata": {},
     "output_type": "execute_result"
    }
   ],
   "source": [
    "TrainSet[TrainSet['GarageFinish'].isna()].query('GarageArea==0').sort_values(by=['GarageArea'])"
   ]
  },
  {
   "attachments": {},
   "cell_type": "markdown",
   "metadata": {},
   "source": [
    "We can see we have 5 rows where GarageFinish is null and GarageArea equals 0. Like before we shall impute 'None' into these rows."
   ]
  },
  {
   "cell_type": "code",
   "execution_count": 53,
   "metadata": {},
   "outputs": [],
   "source": [
    "train_query_condition = (TrainSet.GarageArea == 0) & (TrainSet['GarageFinish'].isnull())\n",
    "TrainSet['GarageFinish'] = np.where(train_query_condition, 'None', TrainSet['GarageFinish'])\n",
    "\n",
    "test_query_condition = (TestSet.GarageArea == 0) & (TestSet['GarageFinish'].isnull())\n",
    "TestSet['GarageFinish'] = np.where(test_query_condition, 'None', TestSet['GarageFinish'])\n",
    "\n",
    "df_clean_query_condition = (df_clean.GarageArea == 0) & (df_clean['GarageFinish'].isnull())\n",
    "df_clean['GarageFinish'] = np.where(df_clean_query_condition, 'None', df_clean['GarageFinish'])"
   ]
  },
  {
   "cell_type": "code",
   "execution_count": 54,
   "metadata": {},
   "outputs": [
    {
     "data": {
      "text/html": [
       "<div>\n",
       "<style scoped>\n",
       "    .dataframe tbody tr th:only-of-type {\n",
       "        vertical-align: middle;\n",
       "    }\n",
       "\n",
       "    .dataframe tbody tr th {\n",
       "        vertical-align: top;\n",
       "    }\n",
       "\n",
       "    .dataframe thead th {\n",
       "        text-align: right;\n",
       "    }\n",
       "</style>\n",
       "<table border=\"1\" class=\"dataframe\">\n",
       "  <thead>\n",
       "    <tr style=\"text-align: right;\">\n",
       "      <th></th>\n",
       "      <th>1stFlrSF</th>\n",
       "      <th>2ndFlrSF</th>\n",
       "      <th>BedroomAbvGr</th>\n",
       "      <th>BsmtExposure</th>\n",
       "      <th>BsmtFinSF1</th>\n",
       "      <th>BsmtFinType1</th>\n",
       "      <th>BsmtUnfSF</th>\n",
       "      <th>GarageArea</th>\n",
       "      <th>GarageFinish</th>\n",
       "      <th>GarageYrBlt</th>\n",
       "      <th>GrLivArea</th>\n",
       "      <th>KitchenQual</th>\n",
       "      <th>LotArea</th>\n",
       "      <th>LotFrontage</th>\n",
       "      <th>MasVnrArea</th>\n",
       "      <th>OpenPorchSF</th>\n",
       "      <th>OverallCond</th>\n",
       "      <th>OverallQual</th>\n",
       "      <th>TotalBsmtSF</th>\n",
       "      <th>YearBuilt</th>\n",
       "      <th>YearRemodAdd</th>\n",
       "      <th>SalePrice</th>\n",
       "    </tr>\n",
       "  </thead>\n",
       "  <tbody>\n",
       "  </tbody>\n",
       "</table>\n",
       "</div>"
      ],
      "text/plain": [
       "Empty DataFrame\n",
       "Columns: [1stFlrSF, 2ndFlrSF, BedroomAbvGr, BsmtExposure, BsmtFinSF1, BsmtFinType1, BsmtUnfSF, GarageArea, GarageFinish, GarageYrBlt, GrLivArea, KitchenQual, LotArea, LotFrontage, MasVnrArea, OpenPorchSF, OverallCond, OverallQual, TotalBsmtSF, YearBuilt, YearRemodAdd, SalePrice]\n",
       "Index: []"
      ]
     },
     "execution_count": 54,
     "metadata": {},
     "output_type": "execute_result"
    }
   ],
   "source": [
    "TrainSet[TrainSet['GarageFinish'].isna()].query('GarageArea==0').sort_values(by=['GarageArea'])"
   ]
  },
  {
   "cell_type": "code",
   "execution_count": 56,
   "metadata": {},
   "outputs": [
    {
     "data": {
      "text/plain": [
       "126"
      ]
     },
     "execution_count": 56,
     "metadata": {},
     "output_type": "execute_result"
    }
   ],
   "source": [
    "TrainSet['GarageFinish'].isna().sum()"
   ]
  },
  {
   "attachments": {},
   "cell_type": "markdown",
   "metadata": {},
   "source": [
    "As we can see our count of null values has reduced by 5 indicating our code has worked. We can double check that 'None' has increased by 5 by running the following code."
   ]
  },
  {
   "cell_type": "code",
   "execution_count": 57,
   "metadata": {},
   "outputs": [
    {
     "data": {
      "text/plain": [
       "Fin     254\n",
       "None     58\n",
       "RFn     293\n",
       "Unf     437\n",
       "Name: GarageFinish, dtype: int64"
      ]
     },
     "execution_count": 57,
     "metadata": {},
     "output_type": "execute_result"
    }
   ],
   "source": [
    "TrainSet['GarageFinish'].value_counts().sort_index()"
   ]
  },
  {
   "attachments": {},
   "cell_type": "markdown",
   "metadata": {},
   "source": [
    "Unfortuantly there are no other variables that we can use that will give insight into the GarageFinish. And after a review of the PPS heatmap we can see that GarageFinihs holds no predictive power on the business requirement (SalesPrice). For this reason we shall again impute 'Unknown' to the rest of the null values for GarageFinish. "
   ]
  },
  {
   "cell_type": "code",
   "execution_count": 58,
   "metadata": {},
   "outputs": [],
   "source": [
    "unknown_imputer = CategoricalImputer(\n",
    "    imputation_method='missing', fill_value='Unknown', variables='GarageFinish'\n",
    "    )\n",
    "unknown_imputer.fit(TrainSet)\n",
    "TrainSet, TestSet, df_clean = unknown_imputer.transform(TrainSet), unknown_imputer.transform(TestSet), unknown_imputer.transform(df_clean)"
   ]
  },
  {
   "cell_type": "code",
   "execution_count": 59,
   "metadata": {},
   "outputs": [
    {
     "data": {
      "text/plain": [
       "Fin        254\n",
       "None        58\n",
       "RFn        293\n",
       "Unf        437\n",
       "Unknown    126\n",
       "Name: GarageFinish, dtype: int64"
      ]
     },
     "execution_count": 59,
     "metadata": {},
     "output_type": "execute_result"
    }
   ],
   "source": [
    "TrainSet['GarageFinish'].value_counts().sort_index()"
   ]
  },
  {
   "cell_type": "code",
   "execution_count": 60,
   "metadata": {},
   "outputs": [
    {
     "data": {
      "text/html": [
       "<div>\n",
       "<style scoped>\n",
       "    .dataframe tbody tr th:only-of-type {\n",
       "        vertical-align: middle;\n",
       "    }\n",
       "\n",
       "    .dataframe tbody tr th {\n",
       "        vertical-align: top;\n",
       "    }\n",
       "\n",
       "    .dataframe thead th {\n",
       "        text-align: right;\n",
       "    }\n",
       "</style>\n",
       "<table border=\"1\" class=\"dataframe\">\n",
       "  <thead>\n",
       "    <tr style=\"text-align: right;\">\n",
       "      <th></th>\n",
       "      <th>RowsWithMissingData</th>\n",
       "      <th>PercentageOfDataset</th>\n",
       "      <th>DataType</th>\n",
       "    </tr>\n",
       "  </thead>\n",
       "  <tbody>\n",
       "    <tr>\n",
       "      <th>GarageYrBlt</th>\n",
       "      <td>58</td>\n",
       "      <td>4.97</td>\n",
       "      <td>float64</td>\n",
       "    </tr>\n",
       "  </tbody>\n",
       "</table>\n",
       "</div>"
      ],
      "text/plain": [
       "             RowsWithMissingData  PercentageOfDataset DataType\n",
       "GarageYrBlt                   58                 4.97  float64"
      ]
     },
     "execution_count": 60,
     "metadata": {},
     "output_type": "execute_result"
    }
   ],
   "source": [
    "EvaluateMissingData(TrainSet)"
   ]
  },
  {
   "attachments": {},
   "cell_type": "markdown",
   "metadata": {},
   "source": [
    "As we can see we now have our 'Unknown' values in GarageFinish, and upon evaluating the missing data the only variable left is GarageYrBlt."
   ]
  },
  {
   "attachments": {},
   "cell_type": "markdown",
   "metadata": {},
   "source": [
    "___"
   ]
  },
  {
   "attachments": {},
   "cell_type": "markdown",
   "metadata": {},
   "source": [
    "### Step 6 of Data cleaning"
   ]
  },
  {
   "attachments": {},
   "cell_type": "markdown",
   "metadata": {},
   "source": [
    "The final Variable to be cleaned is GarageYrBlt, which refers to the year in which the garage is built, it is a float64 variable with 58 null values."
   ]
  },
  {
   "cell_type": "code",
   "execution_count": 61,
   "metadata": {},
   "outputs": [
    {
     "data": {
      "text/plain": [
       "1900.0     1\n",
       "1906.0     1\n",
       "1908.0     1\n",
       "1910.0     2\n",
       "1914.0     2\n",
       "          ..\n",
       "2006.0    46\n",
       "2007.0    37\n",
       "2008.0    23\n",
       "2009.0    16\n",
       "2010.0     3\n",
       "Name: GarageYrBlt, Length: 97, dtype: int64"
      ]
     },
     "execution_count": 61,
     "metadata": {},
     "output_type": "execute_result"
    }
   ],
   "source": [
    "TrainSet['GarageYrBlt'].value_counts().sort_index()"
   ]
  },
  {
   "attachments": {},
   "cell_type": "markdown",
   "metadata": {},
   "source": [
    "We can make the assumption that a null value is GarageyrBlt indicates that there is no garage. If that is the case then GarageFinish should equal None at the same instance that we have our null values. We can test this by running the code below."
   ]
  },
  {
   "cell_type": "code",
   "execution_count": 64,
   "metadata": {},
   "outputs": [
    {
     "name": "stdout",
     "output_type": "stream",
     "text": [
      "(58, 22)\n"
     ]
    }
   ],
   "source": [
    "query_df = TrainSet[TrainSet['GarageYrBlt'].isna()].query('GarageFinish==\"None\"').sort_values(by=['GarageFinish'])\n",
    "print(query_df.shape)"
   ]
  },
  {
   "attachments": {},
   "cell_type": "markdown",
   "metadata": {},
   "source": [
    "As we can see the code has returned the shape of the dataframe produced by our query. The shape shows that there are 58 rows where GarageFinish is 'None' and GarageYrBlt is null proving our assumption.\n",
    "We shall use Arbitary Number Imputer to place 0 into the null values reflecting the fact that no garage has been built."
   ]
  },
  {
   "cell_type": "code",
   "execution_count": 68,
   "metadata": {},
   "outputs": [],
   "source": [
    "pipeline = Pipeline([\n",
    "      ( 'GarageYrBlt',  ArbitraryNumberImputer(\n",
    "        arbitrary_number=0, variables='GarageYrBlt'\n",
    "        ) \n",
    "      )\n",
    "])\n",
    "pipeline\n",
    "\n",
    "pipeline.fit(TrainSet)\n",
    "TrainSet, TestSet, df_clean = pipeline.transform(TrainSet), pipeline.transform(TestSet),pipeline.transform(df_clean)"
   ]
  },
  {
   "cell_type": "code",
   "execution_count": 69,
   "metadata": {},
   "outputs": [
    {
     "data": {
      "text/html": [
       "<div>\n",
       "<style scoped>\n",
       "    .dataframe tbody tr th:only-of-type {\n",
       "        vertical-align: middle;\n",
       "    }\n",
       "\n",
       "    .dataframe tbody tr th {\n",
       "        vertical-align: top;\n",
       "    }\n",
       "\n",
       "    .dataframe thead th {\n",
       "        text-align: right;\n",
       "    }\n",
       "</style>\n",
       "<table border=\"1\" class=\"dataframe\">\n",
       "  <thead>\n",
       "    <tr style=\"text-align: right;\">\n",
       "      <th></th>\n",
       "      <th>RowsWithMissingData</th>\n",
       "      <th>PercentageOfDataset</th>\n",
       "      <th>DataType</th>\n",
       "    </tr>\n",
       "  </thead>\n",
       "  <tbody>\n",
       "  </tbody>\n",
       "</table>\n",
       "</div>"
      ],
      "text/plain": [
       "Empty DataFrame\n",
       "Columns: [RowsWithMissingData, PercentageOfDataset, DataType]\n",
       "Index: []"
      ]
     },
     "execution_count": 69,
     "metadata": {},
     "output_type": "execute_result"
    }
   ],
   "source": [
    "EvaluateMissingData(TrainSet)"
   ]
  },
  {
   "cell_type": "code",
   "execution_count": 67,
   "metadata": {},
   "outputs": [
    {
     "data": {
      "text/html": [
       "<div>\n",
       "<style scoped>\n",
       "    .dataframe tbody tr th:only-of-type {\n",
       "        vertical-align: middle;\n",
       "    }\n",
       "\n",
       "    .dataframe tbody tr th {\n",
       "        vertical-align: top;\n",
       "    }\n",
       "\n",
       "    .dataframe thead th {\n",
       "        text-align: right;\n",
       "    }\n",
       "</style>\n",
       "<table border=\"1\" class=\"dataframe\">\n",
       "  <thead>\n",
       "    <tr style=\"text-align: right;\">\n",
       "      <th></th>\n",
       "      <th>RowsWithMissingData</th>\n",
       "      <th>PercentageOfDataset</th>\n",
       "      <th>DataType</th>\n",
       "    </tr>\n",
       "  </thead>\n",
       "  <tbody>\n",
       "  </tbody>\n",
       "</table>\n",
       "</div>"
      ],
      "text/plain": [
       "Empty DataFrame\n",
       "Columns: [RowsWithMissingData, PercentageOfDataset, DataType]\n",
       "Index: []"
      ]
     },
     "execution_count": 67,
     "metadata": {},
     "output_type": "execute_result"
    }
   ],
   "source": [
    "EvaluateMissingData(df_clean)"
   ]
  },
  {
   "attachments": {},
   "cell_type": "markdown",
   "metadata": {},
   "source": [
    "As we can see after our previous two cells we have cleaned all the data and have no null values left in our data."
   ]
  },
  {
   "attachments": {},
   "cell_type": "markdown",
   "metadata": {},
   "source": [
    "___"
   ]
  },
  {
   "attachments": {},
   "cell_type": "markdown",
   "metadata": {},
   "source": [
    "### Comparison "
   ]
  },
  {
   "attachments": {},
   "cell_type": "markdown",
   "metadata": {},
   "source": [
    "Now that we have removed all null values in our cleaned dataframe, train and test sets. we can utilise the DataCleaningEffect function that we defined earlier on in this notebook.\n",
    "* This function plots our original dataframe against our clean dataframe so we can see the effect of our data cleaning."
   ]
  },
  {
   "cell_type": "code",
   "execution_count": 70,
   "metadata": {},
   "outputs": [
    {
     "name": "stdout",
     "output_type": "stream",
     "text": [
      "\n",
      "=====================================================================================\n",
      "* Distribution Effect Analysis After Data Cleaning Method in the following variables:\n",
      "['2ndFlrSF', 'BedroomAbvGr', 'BsmtFinType1', 'GarageFinish', 'GarageYrBlt', 'LotFrontage', 'MasVnrArea'] \n",
      "\n",
      "\n"
     ]
    },
    {
     "data": {
      "image/png": "[encoded data removed]",
      "text/plain": [
       "<Figure size 1000x500 with 1 Axes>"
      ]
     },
     "metadata": {},
     "output_type": "display_data"
    },
    {
     "data": {
      "image/png": "[encoded data removed]",
      "text/plain": [
       "<Figure size 1000x500 with 1 Axes>"
      ]
     },
     "metadata": {},
     "output_type": "display_data"
    },
    {
     "data": {
      "image/png": "[encoded data removed]",
      "text/plain": [
       "<Figure size 1500x500 with 1 Axes>"
      ]
     },
     "metadata": {},
     "output_type": "display_data"
    },
    {
     "data": {
      "image/png": "[encoded data removed]",
      "text/plain": [
       "<Figure size 1500x500 with 1 Axes>"
      ]
     },
     "metadata": {},
     "output_type": "display_data"
    },
    {
     "data": {
      "image/png": "[encoded data removed]",
      "text/plain": [
       "<Figure size 1000x500 with 1 Axes>"
      ]
     },
     "metadata": {},
     "output_type": "display_data"
    },
    {
     "data": {
      "image/png": "[encoded data removed]",
      "text/plain": [
       "<Figure size 1000x500 with 1 Axes>"
      ]
     },
     "metadata": {},
     "output_type": "display_data"
    },
    {
     "data": {
      "image/png": "[encoded data removed]",
      "text/plain": [
       "<Figure size 1000x500 with 1 Axes>"
      ]
     },
     "metadata": {},
     "output_type": "display_data"
    }
   ],
   "source": [
    "DataCleaningEffect(df_original=df,\n",
    "                   df_cleaned=df_clean,\n",
    "                   variables_applied_with_method=null_variables)"
   ]
  },
  {
   "attachments": {},
   "cell_type": "markdown",
   "metadata": {},
   "source": [
    "* Looking at the effect on the distribution of these variables we can see a bit more of s peak at LotFrontage where we imputed the mean.\n",
    "* The GarageYrBlt is skewed heavily due to the addition of 0 values.\n",
    "* Everything else has remained verey similar."
   ]
  },
  {
   "attachments": {},
   "cell_type": "markdown",
   "metadata": {},
   "source": [
    "___"
   ]
  },
  {
   "attachments": {},
   "cell_type": "markdown",
   "metadata": {},
   "source": [
    "### Match Datatypes across df_clean and df_inherited"
   ]
  },
  {
   "cell_type": "code",
   "execution_count": 74,
   "metadata": {},
   "outputs": [
    {
     "name": "stdout",
     "output_type": "stream",
     "text": [
      "<class 'pandas.core.frame.DataFrame'>\n",
      "RangeIndex: 1460 entries, 0 to 1459\n",
      "Data columns (total 22 columns):\n",
      " #   Column        Non-Null Count  Dtype  \n",
      "---  ------        --------------  -----  \n",
      " 0   1stFlrSF      1460 non-null   int64  \n",
      " 1   2ndFlrSF      1460 non-null   float64\n",
      " 2   BedroomAbvGr  1460 non-null   float64\n",
      " 3   BsmtExposure  1460 non-null   object \n",
      " 4   BsmtFinSF1    1460 non-null   int64  \n",
      " 5   BsmtFinType1  1460 non-null   object \n",
      " 6   BsmtUnfSF     1460 non-null   int64  \n",
      " 7   GarageArea    1460 non-null   int64  \n",
      " 8   GarageFinish  1460 non-null   object \n",
      " 9   GarageYrBlt   1460 non-null   float64\n",
      " 10  GrLivArea     1460 non-null   int64  \n",
      " 11  KitchenQual   1460 non-null   object \n",
      " 12  LotArea       1460 non-null   int64  \n",
      " 13  LotFrontage   1460 non-null   float64\n",
      " 14  MasVnrArea    1460 non-null   float64\n",
      " 15  OpenPorchSF   1460 non-null   int64  \n",
      " 16  OverallCond   1460 non-null   int64  \n",
      " 17  OverallQual   1460 non-null   int64  \n",
      " 18  TotalBsmtSF   1460 non-null   int64  \n",
      " 19  YearBuilt     1460 non-null   int64  \n",
      " 20  YearRemodAdd  1460 non-null   int64  \n",
      " 21  SalePrice     1460 non-null   int64  \n",
      "dtypes: float64(5), int64(13), object(4)\n",
      "memory usage: 251.1+ KB\n"
     ]
    }
   ],
   "source": [
    "df_clean.info()"
   ]
  },
  {
   "cell_type": "code",
   "execution_count": 75,
   "metadata": {},
   "outputs": [
    {
     "name": "stdout",
     "output_type": "stream",
     "text": [
      "<class 'pandas.core.frame.DataFrame'>\n",
      "RangeIndex: 4 entries, 0 to 3\n",
      "Data columns (total 23 columns):\n",
      " #   Column         Non-Null Count  Dtype  \n",
      "---  ------         --------------  -----  \n",
      " 0   1stFlrSF       4 non-null      int64  \n",
      " 1   2ndFlrSF       4 non-null      int64  \n",
      " 2   BedroomAbvGr   4 non-null      int64  \n",
      " 3   BsmtExposure   4 non-null      object \n",
      " 4   BsmtFinSF1     4 non-null      float64\n",
      " 5   BsmtFinType1   4 non-null      object \n",
      " 6   BsmtUnfSF      4 non-null      float64\n",
      " 7   EnclosedPorch  4 non-null      int64  \n",
      " 8   GarageArea     4 non-null      float64\n",
      " 9   GarageFinish   4 non-null      object \n",
      " 10  GarageYrBlt    4 non-null      float64\n",
      " 11  GrLivArea      4 non-null      int64  \n",
      " 12  KitchenQual    4 non-null      object \n",
      " 13  LotArea        4 non-null      int64  \n",
      " 14  LotFrontage    4 non-null      float64\n",
      " 15  MasVnrArea     4 non-null      float64\n",
      " 16  OpenPorchSF    4 non-null      int64  \n",
      " 17  OverallCond    4 non-null      int64  \n",
      " 18  OverallQual    4 non-null      int64  \n",
      " 19  TotalBsmtSF    4 non-null      float64\n",
      " 20  WoodDeckSF     4 non-null      int64  \n",
      " 21  YearBuilt      4 non-null      int64  \n",
      " 22  YearRemodAdd   4 non-null      int64  \n",
      "dtypes: float64(7), int64(12), object(4)\n",
      "memory usage: 864.0+ bytes\n"
     ]
    }
   ],
   "source": [
    "df_inherited.info()"
   ]
  },
  {
   "cell_type": "code",
   "execution_count": 81,
   "metadata": {},
   "outputs": [
    {
     "name": "stdout",
     "output_type": "stream",
     "text": [
      "<class 'pandas.core.frame.DataFrame'>\n",
      "RangeIndex: 1460 entries, 0 to 1459\n",
      "Data columns (total 4 columns):\n",
      " #   Column        Non-Null Count  Dtype \n",
      "---  ------        --------------  ----- \n",
      " 0   BsmtExposure  1460 non-null   object\n",
      " 1   BsmtFinType1  1460 non-null   object\n",
      " 2   GarageFinish  1460 non-null   object\n",
      " 3   KitchenQual   1460 non-null   object\n",
      "dtypes: object(4)\n",
      "memory usage: 45.8+ KB\n",
      "None\n",
      "<class 'pandas.core.frame.DataFrame'>\n",
      "RangeIndex: 1460 entries, 0 to 1459\n",
      "Data columns (total 5 columns):\n",
      " #   Column        Non-Null Count  Dtype  \n",
      "---  ------        --------------  -----  \n",
      " 0   2ndFlrSF      1460 non-null   float64\n",
      " 1   BedroomAbvGr  1460 non-null   float64\n",
      " 2   GarageYrBlt   1460 non-null   float64\n",
      " 3   LotFrontage   1460 non-null   float64\n",
      " 4   MasVnrArea    1460 non-null   float64\n",
      "dtypes: float64(5)\n",
      "memory usage: 57.2 KB\n",
      "None\n",
      "<class 'pandas.core.frame.DataFrame'>\n",
      "RangeIndex: 1460 entries, 0 to 1459\n",
      "Data columns (total 13 columns):\n",
      " #   Column        Non-Null Count  Dtype\n",
      "---  ------        --------------  -----\n",
      " 0   1stFlrSF      1460 non-null   int64\n",
      " 1   BsmtFinSF1    1460 non-null   int64\n",
      " 2   BsmtUnfSF     1460 non-null   int64\n",
      " 3   GarageArea    1460 non-null   int64\n",
      " 4   GrLivArea     1460 non-null   int64\n",
      " 5   LotArea       1460 non-null   int64\n",
      " 6   OpenPorchSF   1460 non-null   int64\n",
      " 7   OverallCond   1460 non-null   int64\n",
      " 8   OverallQual   1460 non-null   int64\n",
      " 9   TotalBsmtSF   1460 non-null   int64\n",
      " 10  YearBuilt     1460 non-null   int64\n",
      " 11  YearRemodAdd  1460 non-null   int64\n",
      " 12  SalePrice     1460 non-null   int64\n",
      "dtypes: int64(13)\n",
      "memory usage: 148.4 KB\n",
      "None\n"
     ]
    }
   ],
   "source": [
    "print(df_clean.select_dtypes('object').info())\n",
    "print(df_clean.select_dtypes('float').info())\n",
    "print(df_clean.select_dtypes('int').info())"
   ]
  },
  {
   "cell_type": "code",
   "execution_count": 80,
   "metadata": {},
   "outputs": [
    {
     "name": "stdout",
     "output_type": "stream",
     "text": [
      "<class 'pandas.core.frame.DataFrame'>\n",
      "RangeIndex: 4 entries, 0 to 3\n",
      "Data columns (total 4 columns):\n",
      " #   Column        Non-Null Count  Dtype \n",
      "---  ------        --------------  ----- \n",
      " 0   BsmtExposure  4 non-null      object\n",
      " 1   BsmtFinType1  4 non-null      object\n",
      " 2   GarageFinish  4 non-null      object\n",
      " 3   KitchenQual   4 non-null      object\n",
      "dtypes: object(4)\n",
      "memory usage: 256.0+ bytes\n",
      "None\n",
      "<class 'pandas.core.frame.DataFrame'>\n",
      "RangeIndex: 4 entries, 0 to 3\n",
      "Data columns (total 7 columns):\n",
      " #   Column       Non-Null Count  Dtype  \n",
      "---  ------       --------------  -----  \n",
      " 0   BsmtFinSF1   4 non-null      float64\n",
      " 1   BsmtUnfSF    4 non-null      float64\n",
      " 2   GarageArea   4 non-null      float64\n",
      " 3   GarageYrBlt  4 non-null      float64\n",
      " 4   LotFrontage  4 non-null      float64\n",
      " 5   MasVnrArea   4 non-null      float64\n",
      " 6   TotalBsmtSF  4 non-null      float64\n",
      "dtypes: float64(7)\n",
      "memory usage: 352.0 bytes\n",
      "None\n",
      "<class 'pandas.core.frame.DataFrame'>\n",
      "RangeIndex: 4 entries, 0 to 3\n",
      "Data columns (total 12 columns):\n",
      " #   Column         Non-Null Count  Dtype\n",
      "---  ------         --------------  -----\n",
      " 0   1stFlrSF       4 non-null      int64\n",
      " 1   2ndFlrSF       4 non-null      int64\n",
      " 2   BedroomAbvGr   4 non-null      int64\n",
      " 3   EnclosedPorch  4 non-null      int64\n",
      " 4   GrLivArea      4 non-null      int64\n",
      " 5   LotArea        4 non-null      int64\n",
      " 6   OpenPorchSF    4 non-null      int64\n",
      " 7   OverallCond    4 non-null      int64\n",
      " 8   OverallQual    4 non-null      int64\n",
      " 9   WoodDeckSF     4 non-null      int64\n",
      " 10  YearBuilt      4 non-null      int64\n",
      " 11  YearRemodAdd   4 non-null      int64\n",
      "dtypes: int64(12)\n",
      "memory usage: 512.0 bytes\n",
      "None\n"
     ]
    }
   ],
   "source": [
    "print(df_inherited.select_dtypes('object').info())\n",
    "print(df_inherited.select_dtypes('float').info())\n",
    "print(df_inherited.select_dtypes('int').info())"
   ]
  },
  {
   "attachments": {},
   "cell_type": "markdown",
   "metadata": {},
   "source": [
    "By running the above code we can see there are some discrepencies in the data types between the cleaned dataframe and inherited dataframe. We want to rectify this that the data types are like for like across dataframes.\n",
    "* All the object type variables are the same so require no change.\n",
    "* There are 5 float64 variables in df_clean and 7 in df_inherited.\n",
    "* There there are 13 int64 variables in df_clean and 12 in df_inherited.\n",
    "* For ease we will change all floats to ints. This will then be repeated in the train and test sets."
   ]
  },
  {
   "cell_type": "code",
   "execution_count": 82,
   "metadata": {},
   "outputs": [
    {
     "name": "stdout",
     "output_type": "stream",
     "text": [
      "<class 'pandas.core.frame.DataFrame'>\n",
      "RangeIndex: 1460 entries, 0 to 1459\n",
      "Empty DataFrame\n",
      "None\n",
      "<class 'pandas.core.frame.DataFrame'>\n",
      "RangeIndex: 4 entries, 0 to 3\n",
      "Empty DataFrame\n",
      "None\n"
     ]
    }
   ],
   "source": [
    "for col in df_clean.select_dtypes('float').columns:\n",
    "    df_clean[col] = df_clean[col].astype('int64')\n",
    "\n",
    "for col in df_inherited.select_dtypes('float').columns:\n",
    "    df_inherited[col] = df_inherited[col].astype('int64')\n",
    "\n",
    "print(df_clean.select_dtypes('float').info())\n",
    "print(df_inherited.select_dtypes('float').info())"
   ]
  },
  {
   "attachments": {},
   "cell_type": "markdown",
   "metadata": {},
   "source": [
    "As we can see there are now no more float variables, we can check our dataframes as a whole to make sure everthing worked as expected and the floats have become int64"
   ]
  },
  {
   "cell_type": "code",
   "execution_count": 83,
   "metadata": {},
   "outputs": [
    {
     "name": "stdout",
     "output_type": "stream",
     "text": [
      "<class 'pandas.core.frame.DataFrame'>\n",
      "RangeIndex: 1460 entries, 0 to 1459\n",
      "Data columns (total 22 columns):\n",
      " #   Column        Non-Null Count  Dtype \n",
      "---  ------        --------------  ----- \n",
      " 0   1stFlrSF      1460 non-null   int64 \n",
      " 1   2ndFlrSF      1460 non-null   int64 \n",
      " 2   BedroomAbvGr  1460 non-null   int64 \n",
      " 3   BsmtExposure  1460 non-null   object\n",
      " 4   BsmtFinSF1    1460 non-null   int64 \n",
      " 5   BsmtFinType1  1460 non-null   object\n",
      " 6   BsmtUnfSF     1460 non-null   int64 \n",
      " 7   GarageArea    1460 non-null   int64 \n",
      " 8   GarageFinish  1460 non-null   object\n",
      " 9   GarageYrBlt   1460 non-null   int64 \n",
      " 10  GrLivArea     1460 non-null   int64 \n",
      " 11  KitchenQual   1460 non-null   object\n",
      " 12  LotArea       1460 non-null   int64 \n",
      " 13  LotFrontage   1460 non-null   int64 \n",
      " 14  MasVnrArea    1460 non-null   int64 \n",
      " 15  OpenPorchSF   1460 non-null   int64 \n",
      " 16  OverallCond   1460 non-null   int64 \n",
      " 17  OverallQual   1460 non-null   int64 \n",
      " 18  TotalBsmtSF   1460 non-null   int64 \n",
      " 19  YearBuilt     1460 non-null   int64 \n",
      " 20  YearRemodAdd  1460 non-null   int64 \n",
      " 21  SalePrice     1460 non-null   int64 \n",
      "dtypes: int64(18), object(4)\n",
      "memory usage: 251.1+ KB\n",
      "None\n",
      "<class 'pandas.core.frame.DataFrame'>\n",
      "RangeIndex: 4 entries, 0 to 3\n",
      "Data columns (total 23 columns):\n",
      " #   Column         Non-Null Count  Dtype \n",
      "---  ------         --------------  ----- \n",
      " 0   1stFlrSF       4 non-null      int64 \n",
      " 1   2ndFlrSF       4 non-null      int64 \n",
      " 2   BedroomAbvGr   4 non-null      int64 \n",
      " 3   BsmtExposure   4 non-null      object\n",
      " 4   BsmtFinSF1     4 non-null      int64 \n",
      " 5   BsmtFinType1   4 non-null      object\n",
      " 6   BsmtUnfSF      4 non-null      int64 \n",
      " 7   EnclosedPorch  4 non-null      int64 \n",
      " 8   GarageArea     4 non-null      int64 \n",
      " 9   GarageFinish   4 non-null      object\n",
      " 10  GarageYrBlt    4 non-null      int64 \n",
      " 11  GrLivArea      4 non-null      int64 \n",
      " 12  KitchenQual    4 non-null      object\n",
      " 13  LotArea        4 non-null      int64 \n",
      " 14  LotFrontage    4 non-null      int64 \n",
      " 15  MasVnrArea     4 non-null      int64 \n",
      " 16  OpenPorchSF    4 non-null      int64 \n",
      " 17  OverallCond    4 non-null      int64 \n",
      " 18  OverallQual    4 non-null      int64 \n",
      " 19  TotalBsmtSF    4 non-null      int64 \n",
      " 20  WoodDeckSF     4 non-null      int64 \n",
      " 21  YearBuilt      4 non-null      int64 \n",
      " 22  YearRemodAdd   4 non-null      int64 \n",
      "dtypes: int64(19), object(4)\n",
      "memory usage: 864.0+ bytes\n",
      "None\n"
     ]
    }
   ],
   "source": [
    "print(df_clean.info())\n",
    "print(df_inherited.info())"
   ]
  },
  {
   "attachments": {},
   "cell_type": "markdown",
   "metadata": {},
   "source": [
    "With everything working as expected we will now apply the same change sto the train and test sets."
   ]
  },
  {
   "cell_type": "code",
   "execution_count": 84,
   "metadata": {},
   "outputs": [
    {
     "name": "stdout",
     "output_type": "stream",
     "text": [
      "<class 'pandas.core.frame.DataFrame'>\n",
      "Int64Index: 1168 entries, 618 to 684\n",
      "Data columns (total 22 columns):\n",
      " #   Column        Non-Null Count  Dtype \n",
      "---  ------        --------------  ----- \n",
      " 0   1stFlrSF      1168 non-null   int64 \n",
      " 1   2ndFlrSF      1168 non-null   int64 \n",
      " 2   BedroomAbvGr  1168 non-null   int64 \n",
      " 3   BsmtExposure  1168 non-null   object\n",
      " 4   BsmtFinSF1    1168 non-null   int64 \n",
      " 5   BsmtFinType1  1168 non-null   object\n",
      " 6   BsmtUnfSF     1168 non-null   int64 \n",
      " 7   GarageArea    1168 non-null   int64 \n",
      " 8   GarageFinish  1168 non-null   object\n",
      " 9   GarageYrBlt   1168 non-null   int64 \n",
      " 10  GrLivArea     1168 non-null   int64 \n",
      " 11  KitchenQual   1168 non-null   object\n",
      " 12  LotArea       1168 non-null   int64 \n",
      " 13  LotFrontage   1168 non-null   int64 \n",
      " 14  MasVnrArea    1168 non-null   int64 \n",
      " 15  OpenPorchSF   1168 non-null   int64 \n",
      " 16  OverallCond   1168 non-null   int64 \n",
      " 17  OverallQual   1168 non-null   int64 \n",
      " 18  TotalBsmtSF   1168 non-null   int64 \n",
      " 19  YearBuilt     1168 non-null   int64 \n",
      " 20  YearRemodAdd  1168 non-null   int64 \n",
      " 21  SalePrice     1168 non-null   int64 \n",
      "dtypes: int64(18), object(4)\n",
      "memory usage: 209.9+ KB\n",
      "None\n",
      "<class 'pandas.core.frame.DataFrame'>\n",
      "Int64Index: 292 entries, 529 to 61\n",
      "Data columns (total 22 columns):\n",
      " #   Column        Non-Null Count  Dtype \n",
      "---  ------        --------------  ----- \n",
      " 0   1stFlrSF      292 non-null    int64 \n",
      " 1   2ndFlrSF      292 non-null    int64 \n",
      " 2   BedroomAbvGr  292 non-null    int64 \n",
      " 3   BsmtExposure  292 non-null    object\n",
      " 4   BsmtFinSF1    292 non-null    int64 \n",
      " 5   BsmtFinType1  292 non-null    object\n",
      " 6   BsmtUnfSF     292 non-null    int64 \n",
      " 7   GarageArea    292 non-null    int64 \n",
      " 8   GarageFinish  292 non-null    object\n",
      " 9   GarageYrBlt   292 non-null    int64 \n",
      " 10  GrLivArea     292 non-null    int64 \n",
      " 11  KitchenQual   292 non-null    object\n",
      " 12  LotArea       292 non-null    int64 \n",
      " 13  LotFrontage   292 non-null    int64 \n",
      " 14  MasVnrArea    292 non-null    int64 \n",
      " 15  OpenPorchSF   292 non-null    int64 \n",
      " 16  OverallCond   292 non-null    int64 \n",
      " 17  OverallQual   292 non-null    int64 \n",
      " 18  TotalBsmtSF   292 non-null    int64 \n",
      " 19  YearBuilt     292 non-null    int64 \n",
      " 20  YearRemodAdd  292 non-null    int64 \n",
      " 21  SalePrice     292 non-null    int64 \n",
      "dtypes: int64(18), object(4)\n",
      "memory usage: 52.5+ KB\n",
      "None\n"
     ]
    }
   ],
   "source": [
    "for col in TrainSet.select_dtypes('float').columns:\n",
    "    TrainSet[col] = TrainSet[col].astype('int64')\n",
    "\n",
    "for col in TestSet.select_dtypes('float').columns:\n",
    "    TestSet[col] = TestSet[col].astype('int64')\n",
    "\n",
    "print(TrainSet.info())\n",
    "print(TestSet.info())"
   ]
  },
  {
   "attachments": {},
   "cell_type": "markdown",
   "metadata": {},
   "source": [
    "___"
   ]
  },
  {
   "attachments": {},
   "cell_type": "markdown",
   "metadata": {},
   "source": [
    "### Finally we can save our clean dataframe and our train and test sets"
   ]
  },
  {
   "cell_type": "code",
   "execution_count": null,
   "metadata": {},
   "outputs": [],
   "source": [
    "import os\n",
    "try:\n",
    "  os.makedirs(name='outputs/datasets/cleaned') # create outputs/datasets/collection folder\n",
    "except Exception as e:\n",
    "  print(e)"
   ]
  },
  {
   "cell_type": "code",
   "execution_count": null,
   "metadata": {},
   "outputs": [],
   "source": [
    "TrainSet.to_csv(\"outputs/datasets/cleaned/TrainSet.csv\", index=False)"
   ]
  },
  {
   "cell_type": "code",
   "execution_count": null,
   "metadata": {},
   "outputs": [],
   "source": [
    "TestSet.to_csv(\"outputs/datasets/cleaned/TestSet.csv\", index=False)"
   ]
  },
  {
   "cell_type": "code",
   "execution_count": null,
   "metadata": {},
   "outputs": [],
   "source": [
    "df_clean.to_csv(\"outputs/datasets/cleaned/clean_house_price_records.csv\", index=False)"
   ]
  },
  {
   "cell_type": "code",
   "execution_count": null,
   "metadata": {},
   "outputs": [],
   "source": [
    "df_inherited.to_csv(\"outputs/datasets/cleaned/clean_inherited_houses.csv\", index=False)"
   ]
  },
  {
   "attachments": {},
   "cell_type": "markdown",
   "metadata": {},
   "source": [
    "___"
   ]
  },
  {
   "attachments": {},
   "cell_type": "markdown",
   "metadata": {},
   "source": [
    "### Conclusion"
   ]
  },
  {
   "attachments": {},
   "cell_type": "markdown",
   "metadata": {},
   "source": [
    "In conclusion as we have worked through this workbook we have:\n",
    "* Further analysed our data to identify variables that required cleaning and gave thought to what would be the optimum method to do so.\n",
    "* we split our data into a train and test set.\n",
    "* We dropped varibales that we deemed unimportant to our business goal.\n",
    "* We stepped through each of our variables containing null values and cleaned them, replacing null values with values that best suited the data.\n",
    "* We then evaluated our data cleaning against the original data.\n",
    "* Finally we ensured that the clean data frame, test and train set and the inherited dataframe all had the same data types across all variables."
   ]
  }
 ],
 "metadata": {
  "kernelspec": {
   "display_name": "Python 3",
   "language": "python",
   "name": "python3"
  },
  "language_info": {
   "codemirror_mode": {
    "name": "ipython",
    "version": 3
   },
   "file_extension": ".py",
   "mimetype": "text/x-python",
   "name": "python",
   "nbconvert_exporter": "python",
   "pygments_lexer": "ipython3",
   "version": "3.8.11"
  },
  "orig_nbformat": 4
 },
 "nbformat": 4,
 "nbformat_minor": 2
}
